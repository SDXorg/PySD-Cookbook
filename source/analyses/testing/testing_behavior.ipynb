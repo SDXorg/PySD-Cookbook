{
 "cells": [
  {
   "cell_type": "markdown",
   "metadata": {
    "slideshow": {
     "slide_type": "slide"
    }
   },
   "source": [
    "# Formal Behavior Testing\n",
    "Evaluating theory for dynamic consistency by formalizing statements about system behavior\n",
    "\n",
    "*James Houghton*"
   ]
  },
  {
   "cell_type": "code",
   "execution_count": 1,
   "metadata": {
    "slideshow": {
     "slide_type": "skip"
    }
   },
   "outputs": [
    {
     "name": "stdout",
     "output_type": "stream",
     "text": [
      "Populating the interactive namespace from numpy and matplotlib\n"
     ]
    }
   ],
   "source": [
    "%pylab inline\n",
    "import pyDOE\n",
    "import pandas as pd"
   ]
  },
  {
   "cell_type": "markdown",
   "metadata": {
    "slideshow": {
     "slide_type": "skip"
    }
   },
   "source": [
    "The process of formalizing theory as a simulation model helps to discipline a researcher's effort, forcing them to be explicit in their assumptions and logically consistent in their theory's structure. Similarly, the process of formalizing statements of system behavior with respect to time or as a result of varying parameters promotes rigor in claims of observable behavior of the system. The discipline of software testing has lessons for how such behavioral tests are constructed and provides a toolset for efficiently doing so. The approach has benefits for those seeking to create their own theories, and to understand theories promoted in existing literature."
   ]
  },
  {
   "cell_type": "markdown",
   "metadata": {
    "slideshow": {
     "slide_type": "slide"
    }
   },
   "source": [
    "## Structural Consistency\n",
    "Are the statements of theory structure logically consistent with one another? Are they ambiguous, missing pieces, or conflicting?"
   ]
  },
  {
   "cell_type": "markdown",
   "metadata": {
    "slideshow": {
     "slide_type": "-"
    }
   },
   "source": [
    "The process of modeling can be used as a personal discipline, enforcing rigor in the understanding of a theory's structure."
   ]
  },
  {
   "cell_type": "markdown",
   "metadata": {},
   "source": [
    "- Make assumptions explicit\n",
    "- Enforce exhaustive structural communication\n",
    "- Identify system boundaries\n"
   ]
  },
  {
   "cell_type": "markdown",
   "metadata": {
    "slideshow": {
     "slide_type": "slide"
    }
   },
   "source": [
    "\"Formalization helps you to recognize vague concepts and resolve contradictions. \n",
    "Formalization is where the real test of your understanding occurs: computers accept no hand waving arguments.\"\n",
    "\n",
    "*Business Dynamics. Sterman 2000, 3.5.3*"
   ]
  },
  {
   "cell_type": "markdown",
   "metadata": {
    "slideshow": {
     "slide_type": "slide"
    }
   },
   "source": [
    "### Example of Formalizing Structural Statements\n",
    "\n",
    "\"The value of achieving success [in a protest] depends on whether things might be gained by action... this\n",
    "includes both new advantages and avoiding harms that are currently experienced or anticipated\" \n",
    "\n",
    "*Threat (and Opportunity): Popular Action and State Response in the Dynamics of Contentious Action. Goldstone and Tilly 2001*\n",
    "\n",
    "**Interpretation:**\n",
    "\n",
    "`Gains that would result from success = New Advantages + Harms Avoided`"
   ]
  },
  {
   "cell_type": "markdown",
   "metadata": {
    "slideshow": {
     "slide_type": "slide"
    }
   },
   "source": [
    "![model diagram](Goldstone_Tilly_2001.png)"
   ]
  },
  {
   "cell_type": "markdown",
   "metadata": {
    "slideshow": {
     "slide_type": "slide"
    }
   },
   "source": [
    "## Behavioral Consistency\n",
    "Does the theory's structure actually **create the behavior** that is described by the theory's authors?\n",
    "\n",
    "Two contexts:\n",
    "- Testing preconstructed theories against their assumed implied behavior\n",
    "- Testing dynamic models during construction for consistency with observed behavior"
   ]
  },
  {
   "cell_type": "markdown",
   "metadata": {
    "slideshow": {
     "slide_type": "slide"
    }
   },
   "source": [
    "\"I examine an existing theory in detail, formalizing it to investigate how well the theory \n",
    "accounts for the phenomena it's authors set out to explain.\"\n",
    "\n",
    " *Problems and paradoxes in a model of punctuated organizational change. Sastry 1997*"
   ]
  },
  {
   "cell_type": "markdown",
   "metadata": {
    "slideshow": {
     "slide_type": "fragment"
    }
   },
   "source": [
    "\"The purpose of the model is... to play the roles of the actors in the system and to trace\n",
    "out the consequences of their actions over time, thus providing a test of the theory \n",
    "by checking whether the assumptions can actually produce [asserted behavior].\"\n",
    "\n",
    "*The growth of knowledge: Testing a theory of scientific revolutions with a formal model. Sterman 1985*"
   ]
  },
  {
   "cell_type": "markdown",
   "metadata": {
    "slideshow": {
     "slide_type": "slide"
    }
   },
   "source": [
    "### Lessons from software testing\n",
    "We normally express statements of behavior as *'Reference Modes'*, and then manually compare reference modes to behavior. \n",
    "\n",
    "We can learn from explicit behavioral testing in software development: \n",
    "\n",
    "| Software Development                     | SD Modeling                                 | \n",
    "| ---------------------------------------- | ------------------------------------------- | \n",
    "| Make expected behavior of code explicit  | Make statements of system behavior explicit |\n",
    "| Make developing software easier          | Help with model formulation                 |\n",
    "| Ensure robustness to unknown user input  | Ensure robustness to uncertain parameters   | \n",
    "| Support code acceptance by client        | Create defensible statements of behavior    |\n"
   ]
  },
  {
   "cell_type": "markdown",
   "metadata": {
    "slideshow": {
     "slide_type": "slide"
    }
   },
   "source": [
    "\n",
    "\"Testing is an extremely creative and intellectually challenging\n",
    "task.\" \n",
    "\n",
    "*The art of Software Testing - Myers et. al 2012*"
   ]
  },
  {
   "cell_type": "markdown",
   "metadata": {
    "slideshow": {
     "slide_type": "slide"
    }
   },
   "source": [
    "## A Software Testing Example"
   ]
  },
  {
   "cell_type": "code",
   "execution_count": 2,
   "metadata": {
    "slideshow": {
     "slide_type": "-"
    }
   },
   "outputs": [],
   "source": [
    "def test_step(self):\n",
    "    \"\"\" Tests the PySD version of Vensim's `STEP` function \"\"\"\n",
    "    from pysd import functions  # What are we examining?\n",
    "\n",
    "    functions.time = lambda: 5  # What are the conditions of our test?\n",
    "    self.assertEqual(functions.step(1, 10), 0) # what is expected?\n",
    "\n",
    "    functions.time = lambda: 15  # New conditions\n",
    "    self.assertEqual(functions.step(1, 10), 1)  # New expectation\n",
    "\n",
    "    functions.time = lambda: 10\n",
    "    self.assertEqual(functions.step(1, 10), 1)"
   ]
  },
  {
   "cell_type": "markdown",
   "metadata": {
    "slideshow": {
     "slide_type": "slide"
    }
   },
   "source": [
    "### Example: Threat (and Opportunity): Popular Action and State Response in the Dynamics of Contentious Action\n",
    "\n",
    "Goldstone and Tilly 2001\n",
    "![Goldstone Tilly Coding](Goldstone_Tilly_2001_Coding.png)"
   ]
  },
  {
   "cell_type": "code",
   "execution_count": 3,
   "metadata": {},
   "outputs": [],
   "source": [
    "import pysd\n",
    "model = pysd.read_vensim(\"Goldstone_Tilly_2001.mdl\")"
   ]
  },
  {
   "cell_type": "code",
   "execution_count": 4,
   "metadata": {},
   "outputs": [],
   "source": [
    "p_ranges = {\n",
    "    'Concession fractional adjustment':(1,2),\n",
    "    'Repression fractional adjustment':(1,2),\n",
    "    'Initial level of current threat':(0,5),\n",
    "    'New advantages A':(0,5),\n",
    "    'Threat rate':(0,2),\n",
    "    'Concession rate':(0,2),\n",
    "    'Probability of success O':(0,1),\n",
    "    'Repression unit cost':(0,5),\n",
    "    'Concession unit cost':(0,5)\n",
    "}\n",
    "\n",
    "# Latin Hypercube Sample of Parameter Space\n",
    "norm_samples = pyDOE.lhs(n=len(p_ranges), samples=500)\n",
    "parameters = pd.DataFrame([{key:n*(p[1]-p[0])+p[0] for n,(key,p) \n",
    "                            in zip(row, p_ranges.items())} \n",
    "                           for row in norm_samples])"
   ]
  },
  {
   "cell_type": "code",
   "execution_count": 5,
   "metadata": {
    "slideshow": {
     "slide_type": "slide"
    }
   },
   "outputs": [
    {
     "data": {
      "image/png": "[encoded data removed]",
      "text/plain": [
       "<Figure size 1200x600 with 9 Axes>"
      ]
     },
     "metadata": {},
     "output_type": "display_data"
    }
   ],
   "source": [
    "parameters.hist(figsize=(12,6), layout=(3,3), \n",
    "                histtype='stepfilled', alpha=.5);"
   ]
  },
  {
   "cell_type": "markdown",
   "metadata": {
    "slideshow": {
     "slide_type": "slide"
    }
   },
   "source": [
    "## Behavior Over Time Tests\n",
    "Within a single run of the model, assessing if the behavior of the simulation actually follows that which is described by the authors:"
   ]
  },
  {
   "cell_type": "markdown",
   "metadata": {
    "slideshow": {
     "slide_type": "slide"
    }
   },
   "source": [
    "**Claim:** \"[The State] may **swing back and forth** between concessions and repression, trying to find a combination that quells protest...\" Pg. 188\n",
    "\n",
    "**Interpretation:**\n",
    "In some cases, the regime may begin by primarily working to increase either repression or concessions, such that the instantaneous rate of `Making concessions` is greater (or less) than that of `Making threats` and then at some point in the simulation, **the relative weighting of these two parameters will switch**.\n"
   ]
  },
  {
   "cell_type": "code",
   "execution_count": 6,
   "metadata": {},
   "outputs": [
    {
     "name": "stdout",
     "output_type": "stream",
     "text": [
      "True\n"
     ]
    }
   ],
   "source": [
    "def test(row):\n",
    "    output = model.run(row.to_dict(), \n",
    "                       return_columns=['Making concessions','Making threats'])\n",
    "    # is there a preference for making concessions at some point?\n",
    "    repr_pref = output['Making concessions'] > output['Making threats']\n",
    "    # is there a preference for making threats at some point?\n",
    "    threat_pref = output['Making concessions'] < output['Making threats']\n",
    "    # do both preferences occur at various points?\n",
    "    return any(repr_pref) and any(threat_pref)\n",
    "\n",
    "result = parameters.apply(test, axis=1)\n",
    "print(any(result))"
   ]
  },
  {
   "cell_type": "markdown",
   "metadata": {
    "slideshow": {
     "slide_type": "slide"
    }
   },
   "source": [
    "## Parametric Tests\n",
    "\n",
    "- Testing comparisons of how the system would respond to various conditions. \n",
    "- Testing model behavior over a range of values for exogenous parameters."
   ]
  },
  {
   "cell_type": "markdown",
   "metadata": {
    "slideshow": {
     "slide_type": "slide"
    }
   },
   "source": [
    "**Claim:** Authoritarian states may ... rachet up repression **too slowly and insufficiently** to halt mobilization. Pg. 188\n",
    "\n",
    "**Interpretation:** In some cases, slow implementation of repression may fail to stop protests that would have been successfully repressed through rapid application of the same absolute level of repression."
   ]
  },
  {
   "cell_type": "code",
   "execution_count": null,
   "metadata": {},
   "outputs": [],
   "source": [
    "def test(row):\n",
    "    params = row.to_dict()\n",
    "    repressive_threshold = np.NaN\n",
    "    for threat_rate in np.linspace(*p_ranges['Threat rate'], num=10):  \n",
    "        res = model.run(params.update({'Threat rate': threat_rate}),  \n",
    "                        return_columns=['Protest', \n",
    "                                        'Repressive threat Tr']).iloc[0]\n",
    "        if res['Protest'] == 0:  # protest is quelled\n",
    "            if repressive_threshold is np.NaN:  # first successful\n",
    "                repressive_threshold = res['Repressive threat Tr']\n",
    "            elif (res['Repressive threat Tr'] < repressive_threshold - .0001): \n",
    "                return True  # higher rate succeeds over lower rate\n",
    "    return False\n",
    "\n",
    "result = parameters.apply(test, axis=1)\n",
    "print(any(result))"
   ]
  },
  {
   "cell_type": "markdown",
   "metadata": {
    "slideshow": {
     "slide_type": "slide"
    }
   },
   "source": [
    "## Conclusions\n",
    "- The process of formalizing statements of system behavior with respect to time or as a result of varying parameters promotes rigor in claims of observable behavior of the system. \n",
    "- The field of software testing has lessons for how such behavioral tests are constructed and provides a toolset for efficiently doing so. \n",
    "- The approach has benefits for those seeking to create their own theories, and to understand theories promoted in existing literature."
   ]
  },
  {
   "cell_type": "markdown",
   "metadata": {
    "slideshow": {
     "slide_type": "slide"
    }
   },
   "source": [
    "### If behavioral claims *are* consistent with theory:\n",
    "\n",
    "- Your claims are stated in a defensible way \n",
    "\n",
    "-or-\n",
    "\n",
    "- You have mastery of an important theory in your field"
   ]
  },
  {
   "cell_type": "markdown",
   "metadata": {
    "slideshow": {
     "slide_type": "fragment"
    }
   },
   "source": [
    "Todo: Look for new observable implications of the theory."
   ]
  },
  {
   "cell_type": "markdown",
   "metadata": {
    "slideshow": {
     "slide_type": "slide"
    }
   },
   "source": [
    "### Behavioral claims *are not* consistent with theory:\n",
    "- You found a problem with your model before anyone else did \n",
    "\n",
    "-or-\n",
    "- You found a problem with an important theory in your field"
   ]
  },
  {
   "cell_type": "markdown",
   "metadata": {
    "slideshow": {
     "slide_type": "fragment"
    }
   },
   "source": [
    "Todo: Fix the holes."
   ]
  },
  {
   "cell_type": "markdown",
   "metadata": {
    "slideshow": {
     "slide_type": "slide"
    }
   },
   "source": [
    "\"We must design assessment into our work from the start so we can discover errors more quickly\" \n",
    "\n",
    "*All models are wrong: Reflections on becoming a systems scientist. Sterman 2002*"
   ]
  },
  {
   "cell_type": "markdown",
   "metadata": {
    "slideshow": {
     "slide_type": "fragment"
    }
   },
   "source": [
    "\"Let every man test his own work. Then he will be proud of his own work.\" \n",
    "\n",
    "*Biblical Letter from Paul of Tarsus to the Galatians. c50 AD. ch.6 v.4*"
   ]
  }
 ],
 "metadata": {
  "celltoolbar": "Slideshow",
  "kernelspec": {
   "display_name": "Python 3 (ipykernel)",
   "language": "python",
   "name": "python3"
  },
  "language_info": {
   "codemirror_mode": {
    "name": "ipython",
    "version": 3
   },
   "file_extension": ".py",
   "mimetype": "text/x-python",
   "name": "python",
   "nbconvert_exporter": "python",
   "pygments_lexer": "ipython3",
   "version": "3.7.12"
  },
  "vscode": {
   "interpreter": {
    "hash": "916dbcbb3f70747c44a77c7bcd40155683ae19c65e1c03b4aa3499c5328201f1"
   }
  }
 },
 "nbformat": 4,
 "nbformat_minor": 1
}
