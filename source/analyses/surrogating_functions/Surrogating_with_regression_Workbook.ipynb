{
 "cells": [
  {
   "cell_type": "markdown",
   "metadata": {},
   "source": [
    "# Surrogating a function with a machine learning estimator\n",
    "\n",
    "System dynamics generally represents the relationships between model elements as either analytical equations, or lookup tables. However, in some situations we may be presented with relationships that are not well estimated by equations, but involve more than a single input leading to a single output. When confrontied with this situation, other paradigms \n",
    "\n",
    "<img src=\"../../models/Manufacturing_Defects/Defects.png\" alt=\"Simple defects model\" style=\"width: 400px;\"/>"
   ]
  },
  {
   "cell_type": "code",
   "execution_count": null,
   "metadata": {},
   "outputs": [],
   "source": [
    "%pylab inline\n",
    "import pysd\n",
    "import numpy as np\n",
    "import pandas as pd"
   ]
  },
  {
   "cell_type": "code",
   "execution_count": null,
   "metadata": {},
   "outputs": [],
   "source": [
    "model = pysd.read_vensim('../../models/Manufacturing_Defects/Defects.mdl')"
   ]
  },
  {
   "cell_type": "code",
   "execution_count": null,
   "metadata": {},
   "outputs": [],
   "source": [
    "data = pd.read_csv('../../data/Defects_Synthetic/Manufacturing_Defects_Synthetic_Data.csv')\n",
    "data.head()"
   ]
  },
  {
   "cell_type": "code",
   "execution_count": null,
   "metadata": {},
   "outputs": [],
   "source": [
    "plt.<<...>>(data['Workday'], data['Time per Task'], c=data['Defect Rate'], linewidth=0, alpha=.6)\n",
    "plt.ylabel('Time per Task')\n",
    "plt.xlabel('Length of Workday')\n",
    "plt.xlim(0.15, .45)\n",
    "plt.ylim(.01, .09)\n",
    "plt.box('off')\n",
    "plt.colorbar()\n",
    "plt.title('Defect Rate Measurements')\n",
    "plt.figtext(.88, .5, 'Defect Rate', rotation=90, verticalalignment='center');"
   ]
  },
  {
   "cell_type": "code",
   "execution_count": null,
   "metadata": {},
   "outputs": [],
   "source": [
    "from sklearn.svm import <<...>>\n",
    "\n",
    "Factors = data[['Workday','Time per Task']].values\n",
    "Outcome = data['Defect Rate'].values\n",
    "regression = SVR()\n",
    "regression.<<..>>(Factors, Outcome)"
   ]
  },
  {
   "cell_type": "code",
   "execution_count": null,
   "metadata": {},
   "outputs": [],
   "source": [
    "def new_defect_function():\n",
    "    \"\"\" Replaces the original defects equation with a regression model\"\"\"\n",
    "    workday = model.<<...>>.length_of_workday()\n",
    "    time_per_task = model.components.time_allocated_per_unit<<...>>\n",
    "    return regression.predict([<<...>>])[0]"
   ]
  },
  {
   "cell_type": "code",
   "execution_count": null,
   "metadata": {
    "collapsed": true
   },
   "outputs": [],
   "source": [
    "model.components.defect_rate = <<...>>\n",
    "\n",
    "print(model.components.defect_rate())"
   ]
  },
  {
   "cell_type": "code",
   "execution_count": null,
   "metadata": {},
   "outputs": [],
   "source": []
  },
  {
   "cell_type": "code",
   "execution_count": null,
   "metadata": {},
   "outputs": [],
   "source": [
    "model.run().plot();"
   ]
  },
  {
   "cell_type": "code",
   "execution_count": null,
   "metadata": {},
   "outputs": [],
   "source": []
  }
 ],
 "metadata": {
  "kernelspec": {
   "display_name": "Python 3 (ipykernel)",
   "language": "python",
   "name": "python3"
  },
  "language_info": {
   "codemirror_mode": {
    "name": "ipython",
    "version": 3
   },
   "file_extension": ".py",
   "mimetype": "text/x-python",
   "name": "python",
   "nbconvert_exporter": "python",
   "pygments_lexer": "ipython3",
   "version": "3.7.12"
  }
 },
 "nbformat": 4,
 "nbformat_minor": 1
}
