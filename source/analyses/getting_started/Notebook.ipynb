{
 "cells": [
  {
   "cell_type": "markdown",
   "metadata": {
    "slideshow": {
     "slide_type": "slide"
    }
   },
   "source": [
    "# Using the Jupyter Notebook\n",
    "\n",
    "The Jupyter (formerly iPython) Notebook is a browser-based interactive coding environment that allows cells of text (such as this one) to be interspersed with cells of code (such as the next cell), and the output of that code (immediately following)"
   ]
  },
  {
   "cell_type": "code",
   "execution_count": null,
   "metadata": {},
   "outputs": [],
   "source": [
    "string = 'Hello, World!'\n",
    "print(string)"
   ]
  },
  {
   "cell_type": "markdown",
   "metadata": {
    "slideshow": {
     "slide_type": "slide"
    }
   },
   "source": [
    "#### Code Cells\n",
    "To add cells to the notebook, click the **[+]** button in the notebook's tool pane. A new cell will appear below the one which is selected. By default this cell is set for writing code snippets. \n",
    "\n",
    "To execute code in a cell such as this, select it and press either the play **[>|]** button in the tool pane, or press `<shift><enter>`. The results of the cell's computation will be displaced below.\n",
    "\n",
    "Once a cell has been run, the variables declared in that cell are available to any other cell in the notebook:"
   ]
  },
  {
   "cell_type": "code",
   "execution_count": null,
   "metadata": {},
   "outputs": [],
   "source": [
    "print(string[:6] + ' Programmer!')"
   ]
  },
  {
   "cell_type": "markdown",
   "metadata": {
    "slideshow": {
     "slide_type": "slide"
    }
   },
   "source": [
    "#### Text Cells\n",
    "\n",
    "To format a cell as text, with the desired cell highlighted, click the dropdown in the tool pane showing the word `Code`, and select `Markdown`.\n",
    "\n",
    "[Markdown](https://daringfireball.net/projects/markdown/) is a simple syntax for formatting text. Headings are indicated with pound signs `#`:\n",
    "\n",
    "    ### Heading\n",
    "\n",
    "> ### Heading\n",
    "\n",
    "\n"
   ]
  },
  {
   "cell_type": "markdown",
   "metadata": {
    "slideshow": {
     "slide_type": "slide"
    }
   },
   "source": [
    "*Italics* and **bold** are indicated with one and two preceeding and following asterisks respectively: `*Italics*` : *Italics*,  `**Bold**` : **Bold**\n",
    "\n",
    "Code is blocked with tick fences (same key as tilde, not single quotes):\n",
    "\n",
    "    ```\n",
    "    Code goes here\n",
    "    ```\n",
    "\n",
    "and quotes are preceeded with the right-pointy chevron '`>`'\n",
    "> \"This is not my quote.\" - *Benjamin Franklin*"
   ]
  },
  {
   "cell_type": "markdown",
   "metadata": {
    "slideshow": {
     "slide_type": "slide"
    }
   },
   "source": [
    "### Tab-completion\n",
    "While you're typing code, it's often possible to just start the word you want, and hit the `<tab>` key. iPython will give you a list of suggestions for how to complete that term. \n",
    "\n",
    "For example, in the box below, if you place the cursor after `my`, ipython will show the above two variable names as options, which you can select and enter."
   ]
  },
  {
   "cell_type": "code",
   "execution_count": null,
   "metadata": {},
   "outputs": [],
   "source": [
    "my_very_long_variable_name = 2\n",
    "my_fairly_long_variable_name = 3\n",
    "my"
   ]
  },
  {
   "cell_type": "markdown",
   "metadata": {
    "slideshow": {
     "slide_type": "slide"
    }
   },
   "source": [
    "### Context help\n",
    "It is sometimes hard to remember what arguments a function takes (or what order they come in).\n",
    "\n",
    "If you type the name of the function and the open parenthesis, and then press `<shift><tab>`, a tooltip will come up showing you what arguments the function expects."
   ]
  },
  {
   "cell_type": "code",
   "execution_count": null,
   "metadata": {},
   "outputs": [],
   "source": [
    "sum("
   ]
  },
  {
   "cell_type": "markdown",
   "metadata": {
    "slideshow": {
     "slide_type": "slide"
    }
   },
   "source": [
    "## References\n",
    "\n",
    "- A [comprehensive tutorial](http://bebi103.caltech.edu/2015/tutorials/t0b_intro_to_jupyter_notebooks.html) to using the Jupyter Notebook"
   ]
  }
 ],
 "metadata": {
  "celltoolbar": "Slideshow",
  "kernelspec": {
   "display_name": "Python 3 (ipykernel)",
   "language": "python",
   "name": "python3"
  },
  "language_info": {
   "codemirror_mode": {
    "name": "ipython",
    "version": 3
   },
   "file_extension": ".py",
   "mimetype": "text/x-python",
   "name": "python",
   "nbconvert_exporter": "python",
   "pygments_lexer": "ipython3",
   "version": "3.7.12"
  },
  "vscode": {
   "interpreter": {
    "hash": "916dbcbb3f70747c44a77c7bcd40155683ae19c65e1c03b4aa3499c5328201f1"
   }
  }
 },
 "nbformat": 4,
 "nbformat_minor": 1
}
