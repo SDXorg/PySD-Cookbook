{
 "cells": [
  {
   "cell_type": "markdown",
   "metadata": {},
   "source": [
    "# Working with `git` and github\n",
    "\n",
    "`git` is a version control system used widely by software developers to manage their codebase, as it has excellent support for collaboration, allowing different individuals to work on the same codebase, and combine their efforts.\n",
    "\n",
    "[Github](https://github.com/) is an online service that uses the `git` version control system to store files and faciliatate collaboration on software projects. The [code for PySD](https://github.com/SDXorg/pysd) is hosted with github, as is that for much of the open source software community. \n",
    "\n",
    "For system dynamicists, Github is a useful tool for tracking changes to a model or analysis code, documenting the development process, and facilitating model collaboration. For academics, it can serve as a [permanent, citable repository](https://guides.github.com/activities/citable-code/) for scripts used to prepare an academic paper, thus facilitating replication and extension of the research.\n",
    "\n",
    "While the workflow may seem intimidating, once mastered it can prevent a lot of headaches."
   ]
  },
  {
   "cell_type": "markdown",
   "metadata": {},
   "source": [
    "### Resources\n",
    "Rather than include a tutorial of the github workflow in this cookbook, I'll point to several resources for getting started with git and github:\n",
    "\n",
    "- Interactive tutorial for [using git and github at the command line](https://try.github.io/levels/1/challenges/1)\n",
    "\n",
    "- [Getting Started with Github](https://www.youtube.com/watch?v=0fKg7e37bQE) video\n",
    "\n",
    "- [Github Desktop GUI Tool](https://desktop.github.com/)"
   ]
  }
 ],
 "metadata": {
  "kernelspec": {
   "display_name": "Python 3 (ipykernel)",
   "language": "python",
   "name": "python3"
  },
  "language_info": {
   "codemirror_mode": {
    "name": "ipython",
    "version": 3
   },
   "file_extension": ".py",
   "mimetype": "text/x-python",
   "name": "python",
   "nbconvert_exporter": "python",
   "pygments_lexer": "ipython3",
   "version": "3.7.12"
  }
 },
 "nbformat": 4,
 "nbformat_minor": 1
}
