{
 "cells": [
  {
   "cell_type": "markdown",
   "metadata": {},
   "source": [
    "# Hello World: The Teacup Model\n",
    "\n",
    "This notebook demonstrates the basic capability of PySD using a model of a cup of tea cooling to room temperature.  \n",
    "\n",
    "<img src=\"../../models/Teacup/Teacup.png\" alt=\"Image of Vensim Teacup Model\" style=\"width: 300px;\"/>\n"
   ]
  },
  {
   "cell_type": "markdown",
   "metadata": {},
   "source": [
    "This workbook is intended to help students follow along with a demonstration. Though this file you will find code snippets with pieces missing, the gaps marked with `<<??>>`. Fill in the gaps by following along with the instructor, or consulting the base version of this notebook in which the segments are filled. "
   ]
  },
  {
   "cell_type": "markdown",
   "metadata": {},
   "source": [
    "\n",
    "Our model simulates [Newton's Law of Cooling](http://www.ugrad.math.ubc.ca/coursedoc/math100/notes/diffeqs/cool.html), which follows the functional form:\n",
    "$$\\frac{dT}{dt} = k(T - T_{ambient})$$\n",
    "\n",
    "This model has all of the canonical components of a system dynamics model: a stock, a flow, a feedback loop, a control parameter, and exhibits dynamic behavior. The model equations are:\n",
    "\n",
    "    Characteristic Time=\n",
    "            10\n",
    "    Units: Minutes\n",
    "\n",
    "    Heat Loss to Room=\n",
    "        (Teacup Temperature - Room Temperature) / Characteristic Time\n",
    "    Units: Degrees/Minute\n",
    "    This is the rate at which heat flows from the cup into the room. \n",
    "\n",
    "    Room Temperature=\n",
    "        70\n",
    "    Units: Degrees\n",
    "\n",
    "    Teacup Temperature= INTEG (\n",
    "        -Heat Loss to Room,\n",
    "            180)\n",
    "    Units: Degrees\n",
    "    \n",
    "    \n",
    "### Load the model\n",
    "We begin by importing the PySD module using the python standard import commands. We then use PySD's Vensim model translator to import the model from the Vensim model file and create a model object. We see that PySD translates the vensim component names into acceptable python identifiers."
   ]
  },
  {
   "cell_type": "code",
   "execution_count": null,
   "metadata": {},
   "outputs": [],
   "source": [
    "%pylab inline\n",
    "import pysd"
   ]
  },
  {
   "cell_type": "code",
   "execution_count": null,
   "metadata": {},
   "outputs": [],
   "source": [
    "model = pysd.read_vensim('../../models/Teacup/<<??>>')"
   ]
  },
  {
   "cell_type": "markdown",
   "metadata": {},
   "source": [
    "The `read_vensim` command we have just run does two things. First it translates the model into a python module which is stored `../../models/Teacup/Teacup.py` in the same directory as the original file, with the filename changed to `.py`. You can go and have a look at the file and compare it to the vensim model file that it came from to get a sense for how the translation works.\n",
    "\n",
    "The second thing the function does is load that translated python file into a PySD object and return it for use."
   ]
  },
  {
   "cell_type": "markdown",
   "metadata": {},
   "source": [
    "### Run with default parameters\n",
    "To understand the general behavior of the model, we can run a simulation using the default parameters specified by the Vensim model file. The default behavior of the run function is to return the value of the stocks as a [pandas](http://pandas.pydata.org/) dataframe:"
   ]
  },
  {
   "cell_type": "code",
   "execution_count": null,
   "metadata": {},
   "outputs": [],
   "source": [
    "stocks = model.<<??>>\n",
    "stocks.head(5)"
   ]
  },
  {
   "cell_type": "markdown",
   "metadata": {},
   "source": [
    "Pandas has some simple plotting utility built in which allows us to easily visualize the results."
   ]
  },
  {
   "cell_type": "code",
   "execution_count": null,
   "metadata": {},
   "outputs": [],
   "source": [
    "plt.figure(figsize(6, 2))\n",
    "stocks.<<??>>\n",
    "plt.ylabel('Degrees F')\n",
    "plt.xlabel('Minutes');"
   ]
  },
  {
   "cell_type": "markdown",
   "metadata": {},
   "source": [
    "### Return additional model components\n",
    "\n",
    "If we wish to see the values of model components other than the stocks, we can pass a list of component names with the keyword argument `return_columns`. This will change the columns of the returned dataframe such that they contain samples of the requested model components: "
   ]
  },
  {
   "cell_type": "code",
   "execution_count": null,
   "metadata": {},
   "outputs": [],
   "source": [
    "values = model.run(<<??>>=['teacup_temperature', 'room_temperature'])\n",
    "values.plot()\n",
    "plt.ylabel('Degrees F')\n",
    "plt.xlabel('Minutes') \n",
    "values.head()"
   ]
  },
  {
   "cell_type": "markdown",
   "metadata": {},
   "source": [
    "### Return values at a specific time\n",
    "\n",
    "Sometimes we want to specify the timestamps that the run function should return values. For instance, if we are comparing the result of our model with data that arrives at irregular time intervals. We can do so using the `return_timestamps` keyword argument. This argument expects a list of timestamps, and will return values at those timestamps."
   ]
  },
  {
   "cell_type": "code",
   "execution_count": null,
   "metadata": {},
   "outputs": [],
   "source": [
    "stocks = model.run(<<??>>=[0, 1, 3, 7, 14, 30])\n",
    "stocks.plot(linewidth=0, marker='o')\n",
    "plt.ylabel('Degrees F')\n",
    "plt.xlabel('Minutes')\n",
    "stocks.head()"
   ]
  },
  {
   "cell_type": "markdown",
   "metadata": {},
   "source": [
    "### Modify parameter values\n",
    "We can specify changes to the parameters of the model in the call to the run function. Here we set the room temperature to the constant value of 20 degrees before running the simulation."
   ]
  },
  {
   "cell_type": "code",
   "execution_count": null,
   "metadata": {},
   "outputs": [],
   "source": [
    "values = model.run(params={<<??>>:22})\n",
    "values.plot()\n",
    "plt.ylabel('Degrees F')\n",
    "plt.xlabel('Minutes');"
   ]
  },
  {
   "cell_type": "markdown",
   "metadata": {},
   "source": [
    "We can also specify that a parameter be set with a time-varying input. In this case, we raise the room temperature from 20 to 80 degrees over the course of the 30 minutes. We can see that once the room temperature rises above that of the tea, the tea begins to warm up again."
   ]
  },
  {
   "cell_type": "code",
   "execution_count": null,
   "metadata": {},
   "outputs": [],
   "source": [
    "import pandas as pd\n",
    "temp_timeseries = pd.Series(index=range(30), data=range(20, 80, 2))\n",
    "values = model.run(params={'room_temperature':<<??>>},\n",
    "                   return_columns=['teacup_temperature', 'room_temperature'])\n",
    "values.plot()\n",
    "plt.ylabel('Degrees F')\n",
    "plt.xlabel('Minutes');"
   ]
  },
  {
   "cell_type": "markdown",
   "metadata": {},
   "source": [
    "### Specifying model initial conditions\n",
    "\n",
    "In addition to parameters, we can set the initial conditions for the model, by passing a tuple to the argument `initial_condition`. In this case, the first element of the tuple is the time at which the model should begin its execution, and the second element of the tuple is a dictionary containing the values of the stocks at that particular time. "
   ]
  },
  {
   "cell_type": "code",
   "execution_count": null,
   "metadata": {},
   "outputs": [],
   "source": [
    "stocks = model.run(params={'room_temperature':75},\n",
    "                   <<??>>=(0, {'teacup_temperature':30}))\n",
    "stocks.plot()\n",
    "plt.ylabel('Degrees F')\n",
    "plt.xlabel('Minutes');"
   ]
  },
  {
   "cell_type": "code",
   "execution_count": null,
   "metadata": {},
   "outputs": [],
   "source": []
  }
 ],
 "metadata": {
  "kernelspec": {
   "display_name": "Python 3 (ipykernel)",
   "language": "python",
   "name": "python3"
  },
  "language_info": {
   "codemirror_mode": {
    "name": "ipython",
    "version": 3
   },
   "file_extension": ".py",
   "mimetype": "text/x-python",
   "name": "python",
   "nbconvert_exporter": "python",
   "pygments_lexer": "ipython3",
   "version": "3.7.12"
  }
 },
 "nbformat": 4,
 "nbformat_minor": 1
}
