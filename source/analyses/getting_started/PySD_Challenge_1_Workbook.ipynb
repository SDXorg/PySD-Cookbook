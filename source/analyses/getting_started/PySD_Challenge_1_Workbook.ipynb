{
 "cells": [
  {
   "cell_type": "markdown",
   "metadata": {
    "slideshow": {
     "slide_type": "slide"
    }
   },
   "source": [
    "# SIR Peak Infection Challenge\n",
    "\n",
    "You are the chief epidemiologist of the [McMurdo](https://en.wikipedia.org/wiki/McMurdo_Station) Antartic Research Station, a scientific outpost with a population of 1000 persons. A new and unusual disease, currently known as penguin foot, has struck 10 individuals in the camp, and seems to be spreading. \n",
    "\n",
    "The disease has several properties. While infected (and contagious), individuals behave as normal but are unable to drive [snow machines](https://youtu.be/gcIwrdeP21s?t=1m46s), the base's primary mode of evacuation in case of an emergency. (It is universally acknowledged that penguins cannot drive snow machines.) Snow machines can carry one passenger in addition to the driver, and so at any given time, at least half of the population must be able to drive."
   ]
  },
  {
   "cell_type": "markdown",
   "metadata": {
    "slideshow": {
     "slide_type": "slide"
    }
   },
   "source": [
    "The period of infection is on average 10 days, after which individuals return to their normal state and are immune to further infection. The infectivity of the disease is much less well known. The chance of infection from an encounter between an infected and a non-infected person could be anywhere from 0.5% to 10%.\n",
    "\n",
    "As there are no lasting consequences of penguin foot, the base has continued to operate as normal, with each individual coming into contact with about 25 people per day, with relatively uniform mixing between individuals. \n"
   ]
  },
  {
   "cell_type": "markdown",
   "metadata": {
    "slideshow": {
     "slide_type": "slide"
    }
   },
   "source": [
    "The primary danger posed by the disease is that there will come a point when there aren't enough people to drive snow machines. Your task is to calculate the maximum number of infections for a range of values of infectivity between `.005` and `0.1`.\n",
    "\n",
    "Specifically, you need to know the minimum value of infectivity that is sufficient to incapacitate over half the base at one time, so that as new measurements become available, you can assess the risk of this possibility."
   ]
  },
  {
   "cell_type": "markdown",
   "metadata": {
    "slideshow": {
     "slide_type": "slide"
    }
   },
   "source": [
    "### Load libraries\n",
    "The cell below gets us started by loading the plotting library. \n",
    "\n",
    "Add a line to this cell to load the `pysd` library using the standard python [import](https://www.codementor.io/python/tutorial/python-path-virtualenv-import-for-beginners) [syntax](https://docs.python.org/2/tutorial/modules.html#modules). "
   ]
  },
  {
   "cell_type": "code",
   "execution_count": null,
   "metadata": {},
   "outputs": [],
   "source": [
    "%pylab inline\n",
    "<<...>>"
   ]
  },
  {
   "cell_type": "markdown",
   "metadata": {
    "slideshow": {
     "slide_type": "slide"
    }
   },
   "source": [
    "### Load model\n",
    "Now, use PySD's `read_vensim` [function](https://pysd.readthedocs.io/en/master/python_api/model_loading.html#pysd.read_vensim) to read the SIR model found at relative location: '`../../models/Epidemic/SIR.mdl`', and name the resulting object '`model`'."
   ]
  },
  {
   "cell_type": "code",
   "execution_count": null,
   "metadata": {
    "collapsed": true
   },
   "outputs": [],
   "source": [
    "model = <<...>>"
   ]
  },
  {
   "cell_type": "markdown",
   "metadata": {
    "slideshow": {
     "slide_type": "slide"
    }
   },
   "source": [
    "Just to practice, [run the model](https://pysd.readthedocs.io/en/master/python_api/model_class.html#pysd.py_backend.model.Model.run), using the `.run()` function's `params` argument to set the value of `Infectivity` to `0.02`. \n",
    "\n",
    "Save the result in a variable named `res`. "
   ]
  },
  {
   "cell_type": "code",
   "execution_count": null,
   "metadata": {
    "collapsed": true
   },
   "outputs": [],
   "source": [
    "res = model.run(params=<<...>>)"
   ]
  },
  {
   "cell_type": "markdown",
   "metadata": {
    "slideshow": {
     "slide_type": "skip"
    }
   },
   "source": [
    "The cell below contains code to plot the result of your simulation. Execute it and ensure that everything is working properly."
   ]
  },
  {
   "cell_type": "code",
   "execution_count": null,
   "metadata": {},
   "outputs": [],
   "source": [
    "res['Infected'].plot()\n",
    "plt.xlabel('Days')\n",
    "plt.ylabel('Number of Individuals Infected');"
   ]
  },
  {
   "cell_type": "markdown",
   "metadata": {
    "slideshow": {
     "slide_type": "slide"
    }
   },
   "source": [
    "### Identify the peak for this base case run\n",
    "In the cell below, write an expression to calculate (for your base case) the [maximum](find ref to pandas max) number of individuals who are infected at any one time. You'll need to use Pandas syntax to select the column named 'Infected' and then use the Pandas functions referenced above."
   ]
  },
  {
   "cell_type": "code",
   "execution_count": null,
   "metadata": {},
   "outputs": [],
   "source": [
    "peak_value = <<...>>\n",
    "\n",
    "print('Up to', int(peak_value), 'individuals are infected at one time.')"
   ]
  },
  {
   "cell_type": "markdown",
   "metadata": {
    "slideshow": {
     "slide_type": "slide"
    }
   },
   "source": [
    "### Define the range of infectivities we want to sweep over\n",
    "\n",
    "To identify the worst case scenario, we need to sweep over the plausible values of `infectivity`, from 0.005 to 0.1, in increments of .005. Our next step is to generate an array of these values. We can use the python package [numpy](https://numpy.org/) which handles matrix mathematics and array manipulation. (It is common practice to give the numpy module the short handle '`np`' as I have done below). \n",
    "\n",
    "You'll specifically want to use the `np.arange(...)` function, which extends the python standard `range` function to handle non-integer values. Consult the [numpy documentation](https://numpy.org/doc/stable/) to determine the arguments you'll want to pass in to this function to generate an array that looks like:\n",
    "```\n",
    "[0.005, 0.01, 0.015, ... 0.095, 0.1]\n",
    "```\n",
    "You may have to be creative to ensure that the last value in the array is actually `0.1`."
   ]
  },
  {
   "cell_type": "code",
   "execution_count": null,
   "metadata": {},
   "outputs": [],
   "source": [
    "import numpy as np\n",
    "infectivity_values = np.arange(<<...>>)\n",
    "print(infectivity_values)"
   ]
  },
  {
   "cell_type": "markdown",
   "metadata": {
    "slideshow": {
     "slide_type": "slide"
    }
   },
   "source": [
    "### Evaluate the peak of infections for each value of infectivity\n",
    "We now want to calculate the peak for the list of possible infectivities, and collect them in a pair of lists. To do this, write a for loop that iterates over each value in the array of infectivites. I've started this off for you below.\n",
    "\n",
    "Within the body of the for loop, run the model with that value of infectivity, saving the result to a variable named res. Then use python's [list append](https://docs.python.org/3/tutorial/datastructures.html#more-on-lists) syntax to add the appropriate values to the end of the `peak_value_list`."
   ]
  },
  {
   "cell_type": "code",
   "execution_count": null,
   "metadata": {},
   "outputs": [],
   "source": [
    "peak_value_list = []\n",
    "\n",
    "for <<...>>\n",
    "\n",
    "peak_value_list"
   ]
  },
  {
   "cell_type": "markdown",
   "metadata": {
    "slideshow": {
     "slide_type": "slide"
    }
   },
   "source": [
    "### Plot the result\n",
    "Now create a plot showing showing the values of infectivity on the x-axis, and the peak value of the infections on the y axis. Label each axis, and give the plot a title. From this plot we can eyeball the value of infectivity beyond which the peak level of infections rises over 500."
   ]
  },
  {
   "cell_type": "code",
   "execution_count": null,
   "metadata": {},
   "outputs": [],
   "source": [
    "plt.plot(infectivity_values, peak_value_list)\n",
    "plt.grid()\n",
    "plt.xlabel('Infectivity')\n",
    "plt.ylabel('Peak Value of Infections')\n",
    "plt.title('Peak level of infection as a function of infectivity.');"
   ]
  },
  {
   "cell_type": "markdown",
   "metadata": {
    "slideshow": {
     "slide_type": "slide"
    }
   },
   "source": [
    "## Bonus Activities\n",
    "1. Identify the first day that the base might not be able to evacuate, for any value of infectivity.\n",
    "2. Identify the maximum total number of days that the base might be unable to evacuate, for the range of values of infectivity listed above.\n",
    "3. Come up with a better story for this example than 'penguin foot'. =)\n",
    "\n",
    "    "
   ]
  }
 ],
 "metadata": {
  "celltoolbar": "Slideshow",
  "kernelspec": {
   "display_name": "Python 3.8.10 64-bit",
   "language": "python",
   "name": "python3"
  },
  "language_info": {
   "codemirror_mode": {
    "name": "ipython",
    "version": 3
   },
   "file_extension": ".py",
   "mimetype": "text/x-python",
   "name": "python",
   "nbconvert_exporter": "python",
   "pygments_lexer": "ipython3",
   "version": "3.8.10"
  },
  "vscode": {
   "interpreter": {
    "hash": "916dbcbb3f70747c44a77c7bcd40155683ae19c65e1c03b4aa3499c5328201f1"
   }
  }
 },
 "nbformat": 4,
 "nbformat_minor": 1
}
