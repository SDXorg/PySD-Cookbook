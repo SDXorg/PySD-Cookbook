{
 "cells": [
  {
   "cell_type": "markdown",
   "metadata": {},
   "source": [
    "# Installation and Setup of Python and PySD\n",
    "\n",
    "## Using Anaconda\n",
    "The simplest way to get started with Python is to use a prepackaged version such as Anaconda from Continuum analytics. \n",
    "\n",
    "PySD works with Python 3.7+. We recommend using the latest version of Python 3.\n"
   ]
  },
  {
   "cell_type": "markdown",
   "metadata": {},
   "source": [
    "## Installing PySD\n",
    "\n",
    "With a python environment set up, at the command prompt you can type:\n",
    "\n",
    "    pip install pysd\n",
    "    \n",
    "this should install PySD and all of its dependencies.\n",
    "In some cases you may need to prepend the command with 'sudo' to give it administrative priveledges:\n",
    "\n",
    "    sudo pip install pysd\n",
    "    \n",
    "You'll be prompted for your administrator password."
   ]
  },
  {
   "cell_type": "markdown",
   "metadata": {},
   "source": [
    "### Manually installing PySD's dependencies\n",
    "\n",
    "On the off chance that pip fails to install the dependencies, you can do the task yourself.\n",
    "\n",
    "There are a few packages which form the core of the python scientific computing stack. They are:\n",
    "\n",
    "1. numpy - a library for matrix-type numerical computation\n",
    "2. scipy - a library which extends numpy with a bunch of useful features, such as stats, etc.\n",
    "3. matplotlib - a basic plotting library\n",
    "4. pandas - a basic data manipulation library\n",
    "5. ipython - an environment for interacting with python and writing clever text/documentation documents, such as this one.\n",
    "\n",
    "PySD also requires a few additional package beyond the basic data science stack:\n",
    "\n",
    "1. parsimonious - a text parsing library\n",
    "2. yapf - a python code formatting library\n",
    "\n",
    "To install these packages, use the syntax:\n",
    "\n",
    "    pip install numpy\n",
    "    \n",
    "Run the command once for each package, replacing `numpy` with `scipy`, `matplotlib`, etc.\n"
   ]
  },
  {
   "cell_type": "markdown",
   "metadata": {},
   "source": [
    "## Launch Jupyter Notebook, and get started\n",
    "\n",
    "If you used the anaconda graphical installer, you should have a 'Anaconda Launcher' user interface installed. Opening this program and clicking the 'Jupyter Notebook' will fire up the notebook explorer in your browser.\n",
    "\n",
    "Alternately, at your command line type:\n",
    "\n",
    "    jupyter notebook\n",
    "    \n",
    "Your browser should start, and give you a document much like this one that you can play with."
   ]
  },
  {
   "cell_type": "markdown",
   "metadata": {},
   "source": [
    "## Upgrading PySD\n",
    "\n",
    "PySD is a work in progress, and from time to time, we'll ipgrade its features. To upgrade to the latest version of PySD (or any of the other packages, for that matter) use the syntax:\n",
    "\n",
    "    pip install pysd --upgrade"
   ]
  }
 ],
 "metadata": {
  "kernelspec": {
   "display_name": "Python 3 (ipykernel)",
   "language": "python",
   "name": "python3"
  },
  "language_info": {
   "codemirror_mode": {
    "name": "ipython",
    "version": 3
   },
   "file_extension": ".py",
   "mimetype": "text/x-python",
   "name": "python",
   "nbconvert_exporter": "python",
   "pygments_lexer": "ipython3",
   "version": "3.7.12"
  }
 },
 "nbformat": 4,
 "nbformat_minor": 1
}
