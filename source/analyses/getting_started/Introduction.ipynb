{
 "cells": [
  {
   "cell_type": "markdown",
   "metadata": {},
   "source": [
    "# Introduction to the PySD Cookbook\n",
    "\n",
    "**Dear Reader,**\n",
    "\n",
    "This cookbook is intended to be a resource for system dynamicists interested in applying the power of python analytics to their simulation models. \n",
    "\n",
    "Every recipe in this cookbook is an executable [Jupyter Notebook](http://jupyter.org/) (a.k.a. iPython Notebook). Because of this, I recommend that you download a copy of the cookbook, open the source files and follow along by executing the steps in each recipe as you read, playing with the parameters, etc. If you want to implement a recipe, you can make a copy of the notebook you are interested in, and modify it to analyze your own problem with your own data.\n",
    "\n",
    "Workbook versions of many recipes are available for use in a classroom setting. In these workbooks, components of the code have been removed for students to fill in on their own. These are identified with a trailing `_Workbook` in the filename.\n",
    "\n",
    "You can download the cookbook as a zip file from [this link](https://github.com/SDXorg/PySD-Cookbook/archive/master.zip), or, if you prefer, [create a fork](https://guides.github.com/activities/forking/) of the repository from [its github page](https://github.com/SDXorg/pysd-cookbook), and clone it to your computer. \n",
    "\n",
    "If you come up with an interesting recipe of your own, I'd love to have [your contributions](https://guides.github.com/activities/contributing-to-open-source/). If you find a bug in the scripts used in this cookbook, or have a suggestion for improvements, I'd encourage you to submit [an issue](https://guides.github.com/features/issues/) on the project's [issue tracker](https://github.com/SDXorg/pysd-cookbook/issues). If you find a bug in the way PySD itself behaves, the [PySD Issue Tracker](https://github.com/SDXorg/pysd/issues) is a great place to raise it.\n",
    "\n",
    "Thanks for being interested and supportive of this project. I hope you find the tools presented here to be useful.\n",
    "\n",
    "**Happy Coding!**\n",
    "\n",
    "**James Houghton**"
   ]
  }
 ],
 "metadata": {
  "kernelspec": {
   "display_name": "Python 2",
   "language": "python",
   "name": "python2"
  },
  "language_info": {
   "codemirror_mode": {
    "name": "ipython",
    "version": 2
   },
   "file_extension": ".py",
   "mimetype": "text/x-python",
   "name": "python",
   "nbconvert_exporter": "python",
   "pygments_lexer": "ipython2",
   "version": "2.7.12"
  }
 },
 "nbformat": 4,
 "nbformat_minor": 0
}
