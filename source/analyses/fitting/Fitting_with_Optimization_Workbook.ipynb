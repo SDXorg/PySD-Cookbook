{
 "cells": [
  {
   "cell_type": "markdown",
   "metadata": {},
   "source": [
    "# Fitting a model's parameters with run-at-a-time optimization\n",
    "\n",
    "In this notebook, we'll fit a simple compartmental model to disease propagation data. We'll use a standard optimizer built into the python `scipy` library to set two independent parameters to minimize the sum of squared errors between the model's timeseries output and data from the World Health Organization.\n",
    "\n",
    "## About this technique\n",
    "A run-at-a-time optimization runs the simulation forward from a single starting point, and so only requires an *a-priori* full state estimate for this initial condition. This makes it especially appropriate when we only have partial information about the state of the system. "
   ]
  },
  {
   "cell_type": "markdown",
   "metadata": {},
   "source": [
    "## Ingredients:\n",
    "\n",
    "We'll use the familiar `pandas` library along with `pysd`, and introduce the optimization functionality provided by `scipy.optimize`."
   ]
  },
  {
   "cell_type": "code",
   "execution_count": null,
   "metadata": {},
   "outputs": [],
   "source": [
    "%pylab inline\n",
    "import pandas as pd\n",
    "import pysd\n",
    "import <<...>>"
   ]
  },
  {
   "cell_type": "markdown",
   "metadata": {},
   "source": [
    "The model that we'll try to fit is simple 'Susceptible-Infectious' model. This model assumes that everyone is either susceptible, or infectious. It assumes that there is no recovery, or death; and doesn't account for changes in behavior due to the presence of the disease. But it is super simple, and so we'll accept those limitations for now, until we've seen it's fit to the data.\n",
    "\n",
    "<img src=\"../../models/Epidemic/SI_Model.png\" alt=\"Stock and Flow diagram of Susceptible-Infectious model\" style=\"width: 600px;\"/>"
   ]
  },
  {
   "cell_type": "markdown",
   "metadata": {},
   "source": [
    "We'll hold **infectivity** constant, and try to infer values for the **total population** and the **contact frequency**."
   ]
  },
  {
   "cell_type": "code",
   "execution_count": null,
   "metadata": {},
   "outputs": [],
   "source": [
    "model = pysd.read_vensim('../../models/Epidemic/SI_Model.mdl')"
   ]
  },
  {
   "cell_type": "markdown",
   "metadata": {},
   "source": [
    "We'll fit our model to data from the WHO patient database for Sierra Leone. We see the standard *S-Shaped* growth in the cumulative infections curve. As our model has no structure for representing recovery or death, we will compare this directly to the **Population Infected with Ebola**. We format this dataset in the notebook [Ebola Data Loader]()."
   ]
  },
  {
   "cell_type": "code",
   "execution_count": null,
   "metadata": {},
   "outputs": [],
   "source": [
    "data = pd.read_csv('../../data/Ebola/Ebola_in_SL_Data.csv', index_col=<<...>>)\n",
    "data.plot();"
   ]
  },
  {
   "cell_type": "markdown",
   "metadata": {},
   "source": [
    "## Recipe\n",
    "\n",
    "#### Step 1: Construct an 'error' function\n",
    "We'll begin by constructing a function which takes the model parameters that we intend to vary, and returns the sum of the squared error between the model's prediction and the reported data.\n",
    "\n",
    "Our optimizer will interact with our parameter set through an ordered list of values, so our function will need to take this list and unpack it before we can pass it into our model.\n",
    "\n",
    "With `pysd` we can ask directly for the model components that we're interested in, at the timestamps that match our data."
   ]
  },
  {
   "cell_type": "code",
   "execution_count": null,
   "metadata": {},
   "outputs": [],
   "source": [
    "def error(param_list):\n",
    "    #unpack the parameter list \n",
    "    population, contact_frequency = param_list\n",
    "    #run the model with the new parameters, returning the info we're interested in\n",
    "    result = model.run(params={'total_population':<<...>>,\n",
    "                               'contact_frequency':<<...>>},\n",
    "                       return_columns=['population_infected_with_ebola'],\n",
    "                       return_timestamps=list(data.index.values))\n",
    "    #return the sum of the squared errors\n",
    "    return <<...>>((result['population_infected_with_ebola'] - data['Cumulative Cases'])**2)\n",
    "\n",
    "error([10000, 10])"
   ]
  },
  {
   "cell_type": "markdown",
   "metadata": {},
   "source": [
    "#### Step 2: Suggest a starting point and parameter bounds for the optimizer\n",
    "The optimizer will want a starting point from which it will vary the parameters to minimize the error. We'll take a guess based upon the data and our intuition.\n",
    "\n",
    "As our model is only valid for positive parameter values, we'll want to specify that fact to the optimizer. We know that there must be at least two people for an infection to take place (one person susceptible, and another contageous) and we know that the contact frequency must be a finite, positive value. We can use these, plus some reasonable upper limits, to set the bounds."
   ]
  },
  {
   "cell_type": "code",
   "execution_count": null,
   "metadata": {},
   "outputs": [],
   "source": [
    "susceptible_population_guess = 9000\n",
    "contact_frequency_guess = <<...>>\n",
    "\n",
    "susceptible_population_bounds = <<...>>\n",
    "contact_frequency_bounds = (0.001, 100)"
   ]
  },
  {
   "cell_type": "markdown",
   "metadata": {},
   "source": [
    "#### Step 3: Minimize the error with an optimization function\n",
    "We pass this function into the optimization function, along with an initial guess as to the parameters that we're optimizing. There are a number of optimization algorithms, each with their own settings, that are available to us through this interface. In this case, we're using the L-BFGS-B algorithm, as it gives us the ability to constrain the values the optimizer will try."
   ]
  },
  {
   "cell_type": "code",
   "execution_count": null,
   "metadata": {},
   "outputs": [],
   "source": [
    "res = scipy.optimize.minimize(<<...>>, [susceptible_population_guess,\n",
    "                                        contact_frequency_guess],\n",
    "                              method='L-BFGS-B',\n",
    "                              bounds=[susceptible_population_bounds,\n",
    "                                      contact_frequency_bounds])\n",
    "res"
   ]
  },
  {
   "cell_type": "markdown",
   "metadata": {},
   "source": [
    "#### Result\n",
    "If we run the simulation with the parameters suggested by the optimizer, we see that the model follows the general behavior of the data, but is too simple to truly capture the correct shape of the curve."
   ]
  },
  {
   "cell_type": "code",
   "execution_count": null,
   "metadata": {},
   "outputs": [],
   "source": [
    "population, contact_frequency = <<..>>\n",
    "result = model.run(params={'total_population':population,\n",
    "                           'contact_frequency':contact_frequency},\n",
    "                   return_columns=['population_infected_with_ebola'],\n",
    "                   return_timestamps=list(data.index.values))\n",
    "\n",
    "plt.plot(result.index, result['population_infected_with_ebola'])\n",
    "plt.plot(data.index, data['Cumulative Cases']);"
   ]
  },
  {
   "cell_type": "code",
   "execution_count": null,
   "metadata": {},
   "outputs": [],
   "source": []
  }
 ],
 "metadata": {
  "kernelspec": {
   "display_name": "Python 3 (ipykernel)",
   "language": "python",
   "name": "python3"
  },
  "language_info": {
   "codemirror_mode": {
    "name": "ipython",
    "version": 3
   },
   "file_extension": ".py",
   "mimetype": "text/x-python",
   "name": "python",
   "nbconvert_exporter": "python",
   "pygments_lexer": "ipython3",
   "version": "3.7.12"
  }
 },
 "nbformat": 4,
 "nbformat_minor": 1
}
