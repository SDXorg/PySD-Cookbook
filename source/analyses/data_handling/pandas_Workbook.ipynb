{
 "cells": [
  {
   "cell_type": "markdown",
   "metadata": {
    "slideshow": {
     "slide_type": "slide"
    }
   },
   "source": [
    "# Data handling with Pandas\n",
    "\n",
    "Pandas is a library optimized for handling one or two dimensional data sources [1]. One dimensional data is stored in a `Series` object, and two dimensional data is stored in a `DataFrame` object."
   ]
  },
  {
   "cell_type": "markdown",
   "metadata": {
    "slideshow": {
     "slide_type": "slide"
    }
   },
   "source": [
    "### Loading the library\n",
    "It is customary to give the library a short handle '`pd`' at import time:"
   ]
  },
  {
   "cell_type": "code",
   "execution_count": null,
   "metadata": {},
   "outputs": [],
   "source": [
    "import pandas as pd\n",
    "pd.options.display.max_rows = 10 #this line aids in displaying the data concisely"
   ]
  },
  {
   "cell_type": "markdown",
   "metadata": {
    "slideshow": {
     "slide_type": "slide"
    }
   },
   "source": [
    "### Loading data from CSV files"
   ]
  },
  {
   "cell_type": "markdown",
   "metadata": {
    "slideshow": {
     "slide_type": "notes"
    }
   },
   "source": [
    "\n",
    "\n",
    "Pandas gives us a comprehensive set of tools for loading data from [a variety of sources](http://pandas.pydata.org/pandas-docs/version/0.18.1/io.html), including CSV, Excel, SQL, JSON, and Stata, amongst others. In this demonstration, we'll read a comma separated value file of global emissions data from the year 1751 until 2011.\n",
    "\n",
    "The `.read_csv` [method]() gives us options for how we want to format the data as we read it in. In reading in our data file, we want to skip the second row (indexed as `1`!) and use the column `Time` as the index of our resulting `DataFrame`."
   ]
  },
  {
   "cell_type": "code",
   "execution_count": null,
   "metadata": {
    "slideshow": {
     "slide_type": "-"
    }
   },
   "outputs": [],
   "source": [
    "emissions = pd.<<...>>('../../data/Climate/global_emissions.csv',  # add the call to `read_csv`\n",
    "                        skiprows=[1], index_col='Year')\n",
    "emissions  # Display the resulting DataFrame in the notebook"
   ]
  },
  {
   "cell_type": "markdown",
   "metadata": {
    "slideshow": {
     "slide_type": "slide"
    }
   },
   "source": [
    "### Selecting rows of data by name\n",
    "Both `DataFrame` and `Series` objects have an `index` attribute which is used to identify their rows. We can access rows of data according to this index, using the `.loc[...]` syntax."
   ]
  },
  {
   "cell_type": "markdown",
   "metadata": {
    "slideshow": {
     "slide_type": "notes"
    }
   },
   "source": [
    "Between the brackets, we can select individual rows:\n",
    "```\n",
    "emissions.loc[1875]\n",
    "```\n",
    "or ranges of dates:\n",
    "```\n",
    "emissions.loc[1908:1920]\n",
    "```\n",
    "or ranges beginning or ending at a specific point:\n",
    "```\n",
    "emissions.loc[1967:]\n",
    "emissions.loc[:1805]\n",
    "```\n",
    "Give these a try and become comfortable selecting index ranges."
   ]
  },
  {
   "cell_type": "code",
   "execution_count": null,
   "metadata": {},
   "outputs": [],
   "source": [
    "emissions.loc[<<...>>] # try some of the values above, or some of your own"
   ]
  },
  {
   "cell_type": "markdown",
   "metadata": {
    "slideshow": {
     "slide_type": "slide"
    }
   },
   "source": [
    "### Selecting rows of data by position\n",
    "\n",
    "In addition to selecting by row names, we can select by the row position using the `.iloc` syntax."
   ]
  },
  {
   "cell_type": "markdown",
   "metadata": {
    "slideshow": {
     "slide_type": "notes"
    }
   },
   "source": [
    "This syntax lets us select the first n rows:\n",
    ">```\n",
    "emissions.iloc[:5]\n",
    "```\n",
    "\n",
    "or, if we wish, the last n, using a minus sign to indicate counting from the end of the `DataFrame`:\n",
    "\n",
    ">```\n",
    "emissions.iloc[-5:]\n",
    "```\n",
    "\n",
    "or rows in the middle:\n",
    ">```\n",
    "emissions.iloc[10:20]\n",
    "```"
   ]
  },
  {
   "cell_type": "code",
   "execution_count": null,
   "metadata": {},
   "outputs": [],
   "source": [
    "emissions.iloc[<<...>>]  # Try some of the values above"
   ]
  },
  {
   "cell_type": "markdown",
   "metadata": {
    "slideshow": {
     "slide_type": "slide"
    }
   },
   "source": [
    "### Renaming columns\n",
    "The column names given in the CSV file are too long to use conveniently in dealing with data. We can assign new column names from a list of strings, that will be applied in order as the new column names:"
   ]
  },
  {
   "cell_type": "code",
   "execution_count": null,
   "metadata": {
    "scrolled": true
   },
   "outputs": [],
   "source": [
    "emissions.columns = ['Total Emissions', 'Gas Emissions', 'Liquid Emissions', \n",
    "                     'Solid Emissions', 'Cement Emissions', 'Flare Emissions',\n",
    "                     'Per Capita Emissions']\n",
    "emissions.iloc[-3:]"
   ]
  },
  {
   "cell_type": "markdown",
   "metadata": {
    "slideshow": {
     "slide_type": "slide"
    }
   },
   "source": [
    "### Accessing specific columns\n",
    "\n",
    "Each of the columns in the `DataFrame` can be accessed as its own `Series` object, using the same syntax we would use to access members of a python dictionary:"
   ]
  },
  {
   "cell_type": "code",
   "execution_count": null,
   "metadata": {},
   "outputs": [],
   "source": [
    "emissions['<<...>>']  # Choose one of the columns using its name"
   ]
  },
  {
   "cell_type": "markdown",
   "metadata": {
    "slideshow": {
     "slide_type": "subslide"
    }
   },
   "source": [
    "Passing a list of column names into this syntax returns a subset of the dataframe:"
   ]
  },
  {
   "cell_type": "code",
   "execution_count": null,
   "metadata": {},
   "outputs": [],
   "source": [
    "emissions[['Gas Emissions', 'Liquid Emissions']]"
   ]
  },
  {
   "cell_type": "markdown",
   "metadata": {
    "slideshow": {
     "slide_type": "slide"
    }
   },
   "source": [
    "### Element-wise Arithmetic\n",
    "We can perform [element-wise arithmetic](http://pandas.pydata.org/pandas-docs/version/0.18.1/dsintro.html#dataframe-interoperability-with-numpy-functions) on `DataFrame` columns using natural syntax."
   ]
  },
  {
   "cell_type": "code",
   "execution_count": null,
   "metadata": {},
   "outputs": [],
   "source": [
    "emissions['Gas Emissions'] <<...>> emissions['Liquid Emissions'] # try using a '+' or '-' operator"
   ]
  },
  {
   "cell_type": "markdown",
   "metadata": {
    "slideshow": {
     "slide_type": "slide"
    }
   },
   "source": [
    "### Array Operations\n",
    "\n",
    "A number of simple operations are built into Pandas to facilitate working with the data. For example, we can show [descriptive statistics](http://pandas.pydata.org/pandas-docs/version/0.18.1/basics.html#descriptive-statistics) such as the maximum value of each column:"
   ]
  },
  {
   "cell_type": "code",
   "execution_count": null,
   "metadata": {},
   "outputs": [],
   "source": [
    "emissions.max()"
   ]
  },
  {
   "cell_type": "markdown",
   "metadata": {
    "slideshow": {
     "slide_type": "subslide"
    }
   },
   "source": [
    "The year [in which this maximum value occurred](http://pandas.pydata.org/pandas-docs/version/0.18.1/basics.html#index-of-min-max-values):"
   ]
  },
  {
   "cell_type": "code",
   "execution_count": null,
   "metadata": {},
   "outputs": [],
   "source": [
    "emissions.idxmax()"
   ]
  },
  {
   "cell_type": "markdown",
   "metadata": {
    "slideshow": {
     "slide_type": "subslide"
    }
   },
   "source": [
    "Or the sum of each column:"
   ]
  },
  {
   "cell_type": "code",
   "execution_count": null,
   "metadata": {},
   "outputs": [],
   "source": [
    "emissions.<<...>>() # substitute the function name 'sum'"
   ]
  },
  {
   "cell_type": "markdown",
   "metadata": {},
   "source": [
    "### Merging Datasets\n",
    "The dataset we have currently is missing data for per capita consumption before 1950. We have another dataset which gives us estimates of the world population which we can use to try and fill in some missing data. It too, however, has some missing values: before 1900, the data comes at 50 year intervals."
   ]
  },
  {
   "cell_type": "code",
   "execution_count": null,
   "metadata": {},
   "outputs": [],
   "source": [
    "population = pd.read_csv('../../data/Climate/world_population.csv', index_col='Year')"
   ]
  },
  {
   "cell_type": "markdown",
   "metadata": {},
   "source": [
    "What we need to do is first merge the two datasets together. Pandas gives us a merge function which allows us to align the datasets on their index values."
   ]
  },
  {
   "cell_type": "code",
   "execution_count": null,
   "metadata": {},
   "outputs": [],
   "source": [
    "# substitute 'outer' for the value of how\n",
    "merged = pd.merge(emissions, population, how='<<...>>', left_index=True, right_index=True)  \n",
    "merged.loc[1750:2011]"
   ]
  },
  {
   "cell_type": "markdown",
   "metadata": {},
   "source": [
    "### Interpolating missing values\n",
    "The merge operation creates `NaN` values in the rows where data is missing from the world population column. We can fill these using a cubic spline interpolation from the surrounding points:"
   ]
  },
  {
   "cell_type": "code",
   "execution_count": null,
   "metadata": {},
   "outputs": [],
   "source": [
    "interpolated = merged.interpolate(method='cubic')\n",
    "interpolated.loc[1750:2011]"
   ]
  },
  {
   "cell_type": "markdown",
   "metadata": {},
   "source": [
    "#### Calculating per capita emissions\n",
    "Now we can calculate a new value for per capita emissions. We multiply by `1,000,000` to convert from units of 'Million Metric Tons' as the Total Emissions are expressed, to merely 'Metric Tons', as the existing, incomplete estimate of per capita emissions is expressed."
   ]
  },
  {
   "cell_type": "code",
   "execution_count": null,
   "metadata": {},
   "outputs": [],
   "source": [
    "interpolated['Per Capita Emissions 2'] = interpolated['Total Emissions'] / interpolated['World Population'] * 1000000\n",
    "interpolated.loc[1751:2011]"
   ]
  },
  {
   "cell_type": "markdown",
   "metadata": {
    "slideshow": {
     "slide_type": "slide"
    }
   },
   "source": [
    "## Pandas and PySD\n",
    "\n",
    "By default, PySD will return the results of model simulation as a Pandas `DataFrame`, with the column names representing elements of the model, and the index (row names) as timestamps in the model."
   ]
  },
  {
   "cell_type": "code",
   "execution_count": null,
   "metadata": {},
   "outputs": [],
   "source": [
    "import pysd\n",
    "model = pysd.read_vensim('../../models/Predator_Prey/Predator_Prey.mdl')\n",
    "sim_result_df = model.run()\n",
    "sim_result_df"
   ]
  },
  {
   "cell_type": "markdown",
   "metadata": {
    "slideshow": {
     "slide_type": "slide"
    }
   },
   "source": [
    "In this case, may want to downsample the returned data to make it more manageable:"
   ]
  },
  {
   "cell_type": "code",
   "execution_count": null,
   "metadata": {},
   "outputs": [],
   "source": [
    "sim_result_df.loc[range(50)]"
   ]
  },
  {
   "cell_type": "markdown",
   "metadata": {
    "slideshow": {
     "slide_type": "slide"
    }
   },
   "source": [
    "### Notes\n",
    "\n",
    "[1]: While pandas can handle dimensions larger than two, it is clunky. [Xarray](http://xarray.pydata.org/en/stable/) is a package for handling multidimensional data that interfaces well with Pandas.\n",
    "\n",
    "\n",
    "### Resources\n",
    "- [Basic introduction](http://pandas.pydata.org/pandas-docs/stable/10min.html) to Pandas constructs\n",
    "- [More advanced](http://pandas.pydata.org/pandas-docs/stable/cookbook.html#cookbook) usage of Pandas syntax\n",
    "- [Cookbook of Pandas Applications](https://github.com/jvns/pandas-cookbook)"
   ]
  }
 ],
 "metadata": {
  "celltoolbar": "Slideshow",
  "kernelspec": {
   "display_name": "Python 3 (ipykernel)",
   "language": "python",
   "name": "python3"
  },
  "language_info": {
   "codemirror_mode": {
    "name": "ipython",
    "version": 3
   },
   "file_extension": ".py",
   "mimetype": "text/x-python",
   "name": "python",
   "nbconvert_exporter": "python",
   "pygments_lexer": "ipython3",
   "version": "3.7.12"
  }
 },
 "nbformat": 4,
 "nbformat_minor": 1
}
