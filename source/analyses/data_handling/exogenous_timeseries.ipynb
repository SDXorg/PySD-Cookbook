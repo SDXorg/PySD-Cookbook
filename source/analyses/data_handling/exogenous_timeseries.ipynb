{
 "cells": [
  {
   "cell_type": "markdown",
   "metadata": {
    "slideshow": {
     "slide_type": "slide"
    }
   },
   "source": [
    "# Exogenous model input from a file\n",
    "In this notebook we'll demonstrate using an external data source to feed values into a model. We'll use the carbon emissions dataset, and feed total emissions into a stock of excess atmospheric carbon:\n",
    "\n",
    "<img src=\"../../models/Climate/Atmospheric_Bathtub.png\" alt=\"Stock and Flow diagram of Carbon Bathtub Model\" style=\"width: 400px;\"/>\n"
   ]
  },
  {
   "cell_type": "markdown",
   "metadata": {
    "slideshow": {
     "slide_type": "skip"
    }
   },
   "source": [
    "We'll begin as usual by importing PySD and the machinery we need in order to deal with data manipulation and plotting."
   ]
  },
  {
   "cell_type": "code",
   "execution_count": 1,
   "metadata": {
    "collapsed": false,
    "slideshow": {
     "slide_type": "skip"
    }
   },
   "outputs": [
    {
     "name": "stdout",
     "output_type": "stream",
     "text": [
      "Populating the interactive namespace from numpy and matplotlib\n"
     ]
    },
    {
     "name": "stderr",
     "output_type": "stream",
     "text": [
      "/Users/houghton/anaconda/lib/python2.7/site-packages/pandas/computation/__init__.py:19: UserWarning: The installed version of numexpr 2.4.4 is not supported in pandas and will be not be used\n",
      "\n",
      "  UserWarning)\n"
     ]
    }
   ],
   "source": [
    "%pylab inline\n",
    "import pysd\n",
    "import pandas as pd"
   ]
  },
  {
   "cell_type": "markdown",
   "metadata": {
    "slideshow": {
     "slide_type": "skip"
    }
   },
   "source": [
    "We use [Pandas]() library to import emissions data from a `.csv` file. In this command, we both rename the columns of the dataset, and set the index to the 'Year' column."
   ]
  },
  {
   "cell_type": "code",
   "execution_count": 2,
   "metadata": {
    "collapsed": false,
    "slideshow": {
     "slide_type": "skip"
    }
   },
   "outputs": [
    {
     "data": {
      "text/html": [
       "<div>\n",
       "<table border=\"1\" class=\"dataframe\">\n",
       "  <thead>\n",
       "    <tr style=\"text-align: right;\">\n",
       "      <th></th>\n",
       "      <th>Total Emissions</th>\n",
       "      <th>Gas Emissions</th>\n",
       "      <th>Liquid Emissions</th>\n",
       "      <th>Solid Emissions</th>\n",
       "      <th>Cement Emissions</th>\n",
       "      <th>Flare Emissions</th>\n",
       "      <th>Per Capita Emissions</th>\n",
       "    </tr>\n",
       "    <tr>\n",
       "      <th>Year</th>\n",
       "      <th></th>\n",
       "      <th></th>\n",
       "      <th></th>\n",
       "      <th></th>\n",
       "      <th></th>\n",
       "      <th></th>\n",
       "      <th></th>\n",
       "    </tr>\n",
       "  </thead>\n",
       "  <tbody>\n",
       "    <tr>\n",
       "      <th>1751</th>\n",
       "      <td>3</td>\n",
       "      <td>0</td>\n",
       "      <td>0</td>\n",
       "      <td>3</td>\n",
       "      <td>0</td>\n",
       "      <td>0</td>\n",
       "      <td>NaN</td>\n",
       "    </tr>\n",
       "    <tr>\n",
       "      <th>1752</th>\n",
       "      <td>3</td>\n",
       "      <td>0</td>\n",
       "      <td>0</td>\n",
       "      <td>3</td>\n",
       "      <td>0</td>\n",
       "      <td>0</td>\n",
       "      <td>NaN</td>\n",
       "    </tr>\n",
       "    <tr>\n",
       "      <th>1753</th>\n",
       "      <td>3</td>\n",
       "      <td>0</td>\n",
       "      <td>0</td>\n",
       "      <td>3</td>\n",
       "      <td>0</td>\n",
       "      <td>0</td>\n",
       "      <td>NaN</td>\n",
       "    </tr>\n",
       "    <tr>\n",
       "      <th>1754</th>\n",
       "      <td>3</td>\n",
       "      <td>0</td>\n",
       "      <td>0</td>\n",
       "      <td>3</td>\n",
       "      <td>0</td>\n",
       "      <td>0</td>\n",
       "      <td>NaN</td>\n",
       "    </tr>\n",
       "    <tr>\n",
       "      <th>1755</th>\n",
       "      <td>3</td>\n",
       "      <td>0</td>\n",
       "      <td>0</td>\n",
       "      <td>3</td>\n",
       "      <td>0</td>\n",
       "      <td>0</td>\n",
       "      <td>NaN</td>\n",
       "    </tr>\n",
       "  </tbody>\n",
       "</table>\n",
       "</div>"
      ],
      "text/plain": [
       "      Total Emissions  Gas Emissions  Liquid Emissions  Solid Emissions  \\\n",
       "Year                                                                      \n",
       "1751                3              0                 0                3   \n",
       "1752                3              0                 0                3   \n",
       "1753                3              0                 0                3   \n",
       "1754                3              0                 0                3   \n",
       "1755                3              0                 0                3   \n",
       "\n",
       "      Cement Emissions  Flare Emissions  Per Capita Emissions  \n",
       "Year                                                           \n",
       "1751                 0                0                   NaN  \n",
       "1752                 0                0                   NaN  \n",
       "1753                 0                0                   NaN  \n",
       "1754                 0                0                   NaN  \n",
       "1755                 0                0                   NaN  "
      ]
     },
     "execution_count": 2,
     "metadata": {},
     "output_type": "execute_result"
    }
   ],
   "source": [
    "emissions = pd.read_csv('../../data/Climate/global_emissions.csv', \n",
    "                        skiprows=2, index_col='Year',\n",
    "                        names=['Year', 'Total Emissions', \n",
    "                               'Gas Emissions', 'Liquid Emissions', \n",
    "                               'Solid Emissions', 'Cement Emissions', \n",
    "                               'Flare Emissions', 'Per Capita Emissions'])\n",
    "emissions.head()"
   ]
  },
  {
   "cell_type": "code",
   "execution_count": 3,
   "metadata": {
    "collapsed": false,
    "slideshow": {
     "slide_type": "-"
    }
   },
   "outputs": [],
   "source": [
    "model = pysd.read_vensim('../../models/Climate/Atmospheric_Bathtub.mdl')"
   ]
  },
  {
   "cell_type": "markdown",
   "metadata": {
    "slideshow": {
     "slide_type": "slide"
    }
   },
   "source": [
    "In our vensim model file, the value of the  inflow to the carbon bathtub, the `Emissions` parameter, is set to zero. We want to instead have this track our exogenous data.\n",
    "```python\n",
    "Emissions=\n",
    "\t0\n",
    "\n",
    "Excess Atmospheric Carbon= INTEG (\n",
    "\tEmissions - Natural Removal,\n",
    "\t0)\n",
    "\n",
    "Natural Removal=\n",
    "\tExcess Atmospheric Carbon * Removal Constant\n",
    "\n",
    "Removal Constant=\n",
    "\t0.01\n",
    "```"
   ]
  },
  {
   "cell_type": "markdown",
   "metadata": {
    "slideshow": {
     "slide_type": "slide"
    }
   },
   "source": [
    "### Aligning the model time bounds with that of the dataset\n",
    "Before we can substitute in our exogenous data, however, we need to ensure that the model will execute over the proper timeseries. The initial and final times of the simulation are specified in the model file as:"
   ]
  },
  {
   "cell_type": "code",
   "execution_count": 4,
   "metadata": {
    "collapsed": false
   },
   "outputs": [
    {
     "name": "stdout",
     "output_type": "stream",
     "text": [
      "initial: 0\n",
      "final: 100\n"
     ]
    }
   ],
   "source": [
    "print('initial:', model.components.initial_time()) \n",
    "print('final:', model.components.final_time())"
   ]
  },
  {
   "cell_type": "markdown",
   "metadata": {},
   "source": [
    "However, the time frame of the dataset runs:"
   ]
  },
  {
   "cell_type": "code",
   "execution_count": 5,
   "metadata": {
    "collapsed": false
   },
   "outputs": [
    {
     "name": "stdout",
     "output_type": "stream",
     "text": [
      "initial: 1751\n",
      "final: 2011\n"
     ]
    }
   ],
   "source": [
    "print('initial:', emissions.index[0])\n",
    "print('final:', emissions.index[-1])"
   ]
  },
  {
   "cell_type": "markdown",
   "metadata": {
    "slideshow": {
     "slide_type": "slide"
    }
   },
   "source": [
    "In order to run the model over a time series equal to that of the data set, we need to specify the appropriate initial conditions, and ask the run function to return to us timestamps equal to that of our dataset:"
   ]
  },
  {
   "cell_type": "code",
   "execution_count": 6,
   "metadata": {
    "collapsed": false
   },
   "outputs": [
    {
     "data": {
      "text/html": [
       "<div>\n",
       "<table border=\"1\" class=\"dataframe\">\n",
       "  <thead>\n",
       "    <tr style=\"text-align: right;\">\n",
       "      <th></th>\n",
       "      <th>Emissions</th>\n",
       "      <th>Excess Atmospheric Carbon</th>\n",
       "    </tr>\n",
       "  </thead>\n",
       "  <tbody>\n",
       "    <tr>\n",
       "      <th>1751</th>\n",
       "      <td>0</td>\n",
       "      <td>0.0</td>\n",
       "    </tr>\n",
       "    <tr>\n",
       "      <th>1752</th>\n",
       "      <td>0</td>\n",
       "      <td>0.0</td>\n",
       "    </tr>\n",
       "    <tr>\n",
       "      <th>1753</th>\n",
       "      <td>0</td>\n",
       "      <td>0.0</td>\n",
       "    </tr>\n",
       "    <tr>\n",
       "      <th>1754</th>\n",
       "      <td>0</td>\n",
       "      <td>0.0</td>\n",
       "    </tr>\n",
       "    <tr>\n",
       "      <th>1755</th>\n",
       "      <td>0</td>\n",
       "      <td>0.0</td>\n",
       "    </tr>\n",
       "  </tbody>\n",
       "</table>\n",
       "</div>"
      ],
      "text/plain": [
       "      Emissions  Excess Atmospheric Carbon\n",
       "1751          0                        0.0\n",
       "1752          0                        0.0\n",
       "1753          0                        0.0\n",
       "1754          0                        0.0\n",
       "1755          0                        0.0"
      ]
     },
     "execution_count": 6,
     "metadata": {},
     "output_type": "execute_result"
    }
   ],
   "source": [
    "res = model.run(initial_condition=(emissions.index[0], \n",
    "                                   {'Excess Atmospheric Carbon': 0}),\n",
    "                return_timestamps=emissions.index.values,\n",
    "                return_columns=['Emissions', 'Excess Atmospheric Carbon'])\n",
    "res.head()"
   ]
  },
  {
   "cell_type": "markdown",
   "metadata": {
    "slideshow": {
     "slide_type": "slide"
    }
   },
   "source": [
    "### Pass in our timeseries data\n",
    "In place of the constant value of `emissions`, we want to substitute our dataset. We can do this in a very straightforward way by passing the Pandas `Series` corresponding to the dataset in a dictionary to the `params` argument of the run function."
   ]
  },
  {
   "cell_type": "code",
   "execution_count": 7,
   "metadata": {
    "collapsed": false
   },
   "outputs": [],
   "source": [
    "res = model.run(initial_condition=(emissions.index[0], \n",
    "                                   {'Excess Atmospheric Carbon': 0}),\n",
    "                return_timestamps=emissions.index.values,\n",
    "                return_columns=['Emissions', 'Excess Atmospheric Carbon'],\n",
    "                params={'Emissions': emissions['Total Emissions']})"
   ]
  },
  {
   "cell_type": "code",
   "execution_count": 8,
   "metadata": {
    "collapsed": false
   },
   "outputs": [
    {
     "data": {
      "image/png": "[encoded data removed]",
      "text/plain": [
       "<matplotlib.figure.Figure at 0x10ef5d310>"
      ]
     },
     "metadata": {},
     "output_type": "display_data"
    }
   ],
   "source": [
    "res.plot();"
   ]
  },
  {
   "cell_type": "code",
   "execution_count": null,
   "metadata": {
    "collapsed": true
   },
   "outputs": [],
   "source": []
  }
 ],
 "metadata": {
  "celltoolbar": "Slideshow",
  "kernelspec": {
   "display_name": "Python 3.8.10 64-bit",
   "language": "python",
   "name": "python3"
  },
  "language_info": {
   "codemirror_mode": {
    "name": "ipython",
    "version": 2
   },
   "file_extension": ".py",
   "mimetype": "text/x-python",
   "name": "python",
   "nbconvert_exporter": "python",
   "pygments_lexer": "ipython2",
   "version": "3.8.10"
  },
  "vscode": {
   "interpreter": {
    "hash": "916dbcbb3f70747c44a77c7bcd40155683ae19c65e1c03b4aa3499c5328201f1"
   }
  }
 },
 "nbformat": 4,
 "nbformat_minor": 0
}
