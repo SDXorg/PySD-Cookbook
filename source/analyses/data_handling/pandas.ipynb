{
 "cells": [
  {
   "cell_type": "markdown",
   "metadata": {
    "slideshow": {
     "slide_type": "slide"
    }
   },
   "source": [
    "# Data handling with Pandas\n",
    "\n",
    "Pandas is a library optimized for handling one or two dimensional data sources [1]. One dimensional data is stored in a `Series` object, and two dimensional data is stored in a `DataFrame` object."
   ]
  },
  {
   "cell_type": "markdown",
   "metadata": {
    "slideshow": {
     "slide_type": "slide"
    }
   },
   "source": [
    "### Loading the library\n",
    "It is customary to give the library a short handle '`pd`' at import time:"
   ]
  },
  {
   "cell_type": "code",
   "execution_count": 2,
   "metadata": {
    "collapsed": false
   },
   "outputs": [
    {
     "name": "stderr",
     "output_type": "stream",
     "text": [
      "/Users/houghton/anaconda/lib/python2.7/site-packages/pandas/computation/__init__.py:19: UserWarning: The installed version of numexpr 2.4.4 is not supported in pandas and will be not be used\n",
      "\n",
      "  UserWarning)\n"
     ]
    }
   ],
   "source": [
    "import pandas as pd\n",
    "pd.options.display.max_rows = 10 #this line aids in displaying the data concisely"
   ]
  },
  {
   "cell_type": "markdown",
   "metadata": {
    "slideshow": {
     "slide_type": "slide"
    }
   },
   "source": [
    "### Loading data from CSV files"
   ]
  },
  {
   "cell_type": "markdown",
   "metadata": {
    "slideshow": {
     "slide_type": "notes"
    }
   },
   "source": [
    "\n",
    "\n",
    "Pandas gives us a comprehensive set of tools for loading data from [a variety of sources](http://pandas.pydata.org/pandas-docs/version/0.18.1/io.html), including CSV, Excel, SQL, JSON, and Stata, amongst others. In this demonstration, we'll read a comma separated value file of global emissions data from the year 1751 until 2011.\n",
    "\n",
    "The `.read_csv` [method]() gives us options for how we want to format the data as we read it in. In reading in our data file, we want to skip the second row (indexed as `1`!) and use the column `Time` as the index of our resulting `DataFrame`."
   ]
  },
  {
   "cell_type": "code",
   "execution_count": 3,
   "metadata": {
    "collapsed": false,
    "slideshow": {
     "slide_type": "-"
    }
   },
   "outputs": [
    {
     "data": {
      "text/html": [
       "<div>\n",
       "<table border=\"1\" class=\"dataframe\">\n",
       "  <thead>\n",
       "    <tr style=\"text-align: right;\">\n",
       "      <th></th>\n",
       "      <th>Total carbon emissions from fossil fuel consumption and cement production (million metric tons of C)</th>\n",
       "      <th>Carbon emissions from gas fuel consumption</th>\n",
       "      <th>Carbon emissions from liquid fuel consumption</th>\n",
       "      <th>Carbon emissions from solid fuel consumption</th>\n",
       "      <th>Carbon emissions from cement production</th>\n",
       "      <th>Carbon emissions from gas flaring</th>\n",
       "      <th>Per capita carbon emissions (metric tons of carbon; after 1949 only)</th>\n",
       "    </tr>\n",
       "    <tr>\n",
       "      <th>Year</th>\n",
       "      <th></th>\n",
       "      <th></th>\n",
       "      <th></th>\n",
       "      <th></th>\n",
       "      <th></th>\n",
       "      <th></th>\n",
       "      <th></th>\n",
       "    </tr>\n",
       "  </thead>\n",
       "  <tbody>\n",
       "    <tr>\n",
       "      <th>1751</th>\n",
       "      <td>3</td>\n",
       "      <td>0</td>\n",
       "      <td>0</td>\n",
       "      <td>3</td>\n",
       "      <td>0</td>\n",
       "      <td>0</td>\n",
       "      <td>NaN</td>\n",
       "    </tr>\n",
       "    <tr>\n",
       "      <th>1752</th>\n",
       "      <td>3</td>\n",
       "      <td>0</td>\n",
       "      <td>0</td>\n",
       "      <td>3</td>\n",
       "      <td>0</td>\n",
       "      <td>0</td>\n",
       "      <td>NaN</td>\n",
       "    </tr>\n",
       "    <tr>\n",
       "      <th>1753</th>\n",
       "      <td>3</td>\n",
       "      <td>0</td>\n",
       "      <td>0</td>\n",
       "      <td>3</td>\n",
       "      <td>0</td>\n",
       "      <td>0</td>\n",
       "      <td>NaN</td>\n",
       "    </tr>\n",
       "    <tr>\n",
       "      <th>1754</th>\n",
       "      <td>3</td>\n",
       "      <td>0</td>\n",
       "      <td>0</td>\n",
       "      <td>3</td>\n",
       "      <td>0</td>\n",
       "      <td>0</td>\n",
       "      <td>NaN</td>\n",
       "    </tr>\n",
       "    <tr>\n",
       "      <th>1755</th>\n",
       "      <td>3</td>\n",
       "      <td>0</td>\n",
       "      <td>0</td>\n",
       "      <td>3</td>\n",
       "      <td>0</td>\n",
       "      <td>0</td>\n",
       "      <td>NaN</td>\n",
       "    </tr>\n",
       "    <tr>\n",
       "      <th>...</th>\n",
       "      <td>...</td>\n",
       "      <td>...</td>\n",
       "      <td>...</td>\n",
       "      <td>...</td>\n",
       "      <td>...</td>\n",
       "      <td>...</td>\n",
       "      <td>...</td>\n",
       "    </tr>\n",
       "    <tr>\n",
       "      <th>2007</th>\n",
       "      <td>8532</td>\n",
       "      <td>1563</td>\n",
       "      <td>3080</td>\n",
       "      <td>3442</td>\n",
       "      <td>382</td>\n",
       "      <td>65</td>\n",
       "      <td>1.28</td>\n",
       "    </tr>\n",
       "    <tr>\n",
       "      <th>2008</th>\n",
       "      <td>8740</td>\n",
       "      <td>1625</td>\n",
       "      <td>3107</td>\n",
       "      <td>3552</td>\n",
       "      <td>387</td>\n",
       "      <td>68</td>\n",
       "      <td>1.29</td>\n",
       "    </tr>\n",
       "    <tr>\n",
       "      <th>2009</th>\n",
       "      <td>8700</td>\n",
       "      <td>1582</td>\n",
       "      <td>3039</td>\n",
       "      <td>3604</td>\n",
       "      <td>412</td>\n",
       "      <td>63</td>\n",
       "      <td>1.27</td>\n",
       "    </tr>\n",
       "    <tr>\n",
       "      <th>2010</th>\n",
       "      <td>9140</td>\n",
       "      <td>1698</td>\n",
       "      <td>3100</td>\n",
       "      <td>3832</td>\n",
       "      <td>445</td>\n",
       "      <td>65</td>\n",
       "      <td>1.32</td>\n",
       "    </tr>\n",
       "    <tr>\n",
       "      <th>2011</th>\n",
       "      <td>9449</td>\n",
       "      <td>1760</td>\n",
       "      <td>3137</td>\n",
       "      <td>3997</td>\n",
       "      <td>491</td>\n",
       "      <td>63</td>\n",
       "      <td>1.35</td>\n",
       "    </tr>\n",
       "  </tbody>\n",
       "</table>\n",
       "<p>261 rows × 7 columns</p>\n",
       "</div>"
      ],
      "text/plain": [
       "      Total carbon emissions from fossil fuel consumption and cement production (million metric tons of C)  \\\n",
       "Year                                                                                                         \n",
       "1751                                                  3                                                      \n",
       "1752                                                  3                                                      \n",
       "1753                                                  3                                                      \n",
       "1754                                                  3                                                      \n",
       "1755                                                  3                                                      \n",
       "...                                                 ...                                                      \n",
       "2007                                               8532                                                      \n",
       "2008                                               8740                                                      \n",
       "2009                                               8700                                                      \n",
       "2010                                               9140                                                      \n",
       "2011                                               9449                                                      \n",
       "\n",
       "      Carbon emissions from gas fuel consumption  \\\n",
       "Year                                               \n",
       "1751                                           0   \n",
       "1752                                           0   \n",
       "1753                                           0   \n",
       "1754                                           0   \n",
       "1755                                           0   \n",
       "...                                          ...   \n",
       "2007                                        1563   \n",
       "2008                                        1625   \n",
       "2009                                        1582   \n",
       "2010                                        1698   \n",
       "2011                                        1760   \n",
       "\n",
       "      Carbon emissions from liquid fuel consumption  \\\n",
       "Year                                                  \n",
       "1751                                              0   \n",
       "1752                                              0   \n",
       "1753                                              0   \n",
       "1754                                              0   \n",
       "1755                                              0   \n",
       "...                                             ...   \n",
       "2007                                           3080   \n",
       "2008                                           3107   \n",
       "2009                                           3039   \n",
       "2010                                           3100   \n",
       "2011                                           3137   \n",
       "\n",
       "      Carbon emissions from solid fuel consumption  \\\n",
       "Year                                                 \n",
       "1751                                             3   \n",
       "1752                                             3   \n",
       "1753                                             3   \n",
       "1754                                             3   \n",
       "1755                                             3   \n",
       "...                                            ...   \n",
       "2007                                          3442   \n",
       "2008                                          3552   \n",
       "2009                                          3604   \n",
       "2010                                          3832   \n",
       "2011                                          3997   \n",
       "\n",
       "      Carbon emissions from cement production  \\\n",
       "Year                                            \n",
       "1751                                        0   \n",
       "1752                                        0   \n",
       "1753                                        0   \n",
       "1754                                        0   \n",
       "1755                                        0   \n",
       "...                                       ...   \n",
       "2007                                      382   \n",
       "2008                                      387   \n",
       "2009                                      412   \n",
       "2010                                      445   \n",
       "2011                                      491   \n",
       "\n",
       "      Carbon emissions from gas flaring  \\\n",
       "Year                                      \n",
       "1751                                  0   \n",
       "1752                                  0   \n",
       "1753                                  0   \n",
       "1754                                  0   \n",
       "1755                                  0   \n",
       "...                                 ...   \n",
       "2007                                 65   \n",
       "2008                                 68   \n",
       "2009                                 63   \n",
       "2010                                 65   \n",
       "2011                                 63   \n",
       "\n",
       "      Per capita carbon emissions (metric tons of carbon; after 1949 only)  \n",
       "Year                                                                        \n",
       "1751                                                NaN                     \n",
       "1752                                                NaN                     \n",
       "1753                                                NaN                     \n",
       "1754                                                NaN                     \n",
       "1755                                                NaN                     \n",
       "...                                                 ...                     \n",
       "2007                                               1.28                     \n",
       "2008                                               1.29                     \n",
       "2009                                               1.27                     \n",
       "2010                                               1.32                     \n",
       "2011                                               1.35                     \n",
       "\n",
       "[261 rows x 7 columns]"
      ]
     },
     "execution_count": 3,
     "metadata": {},
     "output_type": "execute_result"
    }
   ],
   "source": [
    "emissions = pd.read_csv('../../data/Climate/global_emissions.csv', \n",
    "                        skiprows=[1], index_col='Year')\n",
    "emissions  # Display the resulting DataFrame in the notebook"
   ]
  },
  {
   "cell_type": "markdown",
   "metadata": {
    "slideshow": {
     "slide_type": "slide"
    }
   },
   "source": [
    "### Selecting rows of data by name\n",
    "Both `DataFrame` and `Series` objects have an `index` attribute which is used to identify their rows. We can access rows of data according to this index, using the `.loc[...]` syntax."
   ]
  },
  {
   "cell_type": "markdown",
   "metadata": {
    "slideshow": {
     "slide_type": "notes"
    }
   },
   "source": [
    "Between the brackets, we can select individual rows:\n",
    "```\n",
    "emissions.loc[1875]\n",
    "```\n",
    "or ranges of dates:\n",
    "```\n",
    "emissions.loc[1908:1920]\n",
    "```\n",
    "or ranges beginning or ending at a specific point:\n",
    "```\n",
    "emissions.loc[1967:]\n",
    "emissions.loc[:1805]\n",
    "```\n",
    "Give these a try and become comfortable selecting index ranges."
   ]
  },
  {
   "cell_type": "code",
   "execution_count": 4,
   "metadata": {
    "collapsed": false
   },
   "outputs": [
    {
     "data": {
      "text/html": [
       "<div>\n",
       "<table border=\"1\" class=\"dataframe\">\n",
       "  <thead>\n",
       "    <tr style=\"text-align: right;\">\n",
       "      <th></th>\n",
       "      <th>Total carbon emissions from fossil fuel consumption and cement production (million metric tons of C)</th>\n",
       "      <th>Carbon emissions from gas fuel consumption</th>\n",
       "      <th>Carbon emissions from liquid fuel consumption</th>\n",
       "      <th>Carbon emissions from solid fuel consumption</th>\n",
       "      <th>Carbon emissions from cement production</th>\n",
       "      <th>Carbon emissions from gas flaring</th>\n",
       "      <th>Per capita carbon emissions (metric tons of carbon; after 1949 only)</th>\n",
       "    </tr>\n",
       "    <tr>\n",
       "      <th>Year</th>\n",
       "      <th></th>\n",
       "      <th></th>\n",
       "      <th></th>\n",
       "      <th></th>\n",
       "      <th></th>\n",
       "      <th></th>\n",
       "      <th></th>\n",
       "    </tr>\n",
       "  </thead>\n",
       "  <tbody>\n",
       "    <tr>\n",
       "      <th>1985</th>\n",
       "      <td>5438</td>\n",
       "      <td>835</td>\n",
       "      <td>2186</td>\n",
       "      <td>2237</td>\n",
       "      <td>131</td>\n",
       "      <td>49</td>\n",
       "      <td>1.12</td>\n",
       "    </tr>\n",
       "    <tr>\n",
       "      <th>1986</th>\n",
       "      <td>5606</td>\n",
       "      <td>830</td>\n",
       "      <td>2293</td>\n",
       "      <td>2300</td>\n",
       "      <td>137</td>\n",
       "      <td>46</td>\n",
       "      <td>1.13</td>\n",
       "    </tr>\n",
       "    <tr>\n",
       "      <th>1987</th>\n",
       "      <td>5750</td>\n",
       "      <td>892</td>\n",
       "      <td>2306</td>\n",
       "      <td>2364</td>\n",
       "      <td>143</td>\n",
       "      <td>44</td>\n",
       "      <td>1.14</td>\n",
       "    </tr>\n",
       "  </tbody>\n",
       "</table>\n",
       "</div>"
      ],
      "text/plain": [
       "      Total carbon emissions from fossil fuel consumption and cement production (million metric tons of C)  \\\n",
       "Year                                                                                                         \n",
       "1985                                               5438                                                      \n",
       "1986                                               5606                                                      \n",
       "1987                                               5750                                                      \n",
       "\n",
       "      Carbon emissions from gas fuel consumption  \\\n",
       "Year                                               \n",
       "1985                                         835   \n",
       "1986                                         830   \n",
       "1987                                         892   \n",
       "\n",
       "      Carbon emissions from liquid fuel consumption  \\\n",
       "Year                                                  \n",
       "1985                                           2186   \n",
       "1986                                           2293   \n",
       "1987                                           2306   \n",
       "\n",
       "      Carbon emissions from solid fuel consumption  \\\n",
       "Year                                                 \n",
       "1985                                          2237   \n",
       "1986                                          2300   \n",
       "1987                                          2364   \n",
       "\n",
       "      Carbon emissions from cement production  \\\n",
       "Year                                            \n",
       "1985                                      131   \n",
       "1986                                      137   \n",
       "1987                                      143   \n",
       "\n",
       "      Carbon emissions from gas flaring  \\\n",
       "Year                                      \n",
       "1985                                 49   \n",
       "1986                                 46   \n",
       "1987                                 44   \n",
       "\n",
       "      Per capita carbon emissions (metric tons of carbon; after 1949 only)  \n",
       "Year                                                                        \n",
       "1985                                               1.12                     \n",
       "1986                                               1.13                     \n",
       "1987                                               1.14                     "
      ]
     },
     "execution_count": 4,
     "metadata": {},
     "output_type": "execute_result"
    }
   ],
   "source": [
    "emissions.loc[1985:1987]"
   ]
  },
  {
   "cell_type": "markdown",
   "metadata": {
    "slideshow": {
     "slide_type": "slide"
    }
   },
   "source": [
    "### Selecting rows of data by position\n",
    "\n",
    "In addition to selecting by row names, we can select by the row position using the `.iloc` syntax."
   ]
  },
  {
   "cell_type": "markdown",
   "metadata": {
    "slideshow": {
     "slide_type": "notes"
    }
   },
   "source": [
    "This syntax lets us select the first n rows:\n",
    ">```\n",
    "emissions.iloc[:5]\n",
    "```\n",
    "\n",
    "or, if we wish, the last n, using a minus sign to indicate counting from the end of the `DataFrame`:\n",
    "\n",
    ">```\n",
    "emissions.iloc[-5:]\n",
    "```\n",
    "\n",
    "or rows in the middle:\n",
    ">```\n",
    "emissions.iloc[10:20]\n",
    "```"
   ]
  },
  {
   "cell_type": "code",
   "execution_count": 8,
   "metadata": {
    "collapsed": false
   },
   "outputs": [
    {
     "data": {
      "text/html": [
       "<div>\n",
       "<table border=\"1\" class=\"dataframe\">\n",
       "  <thead>\n",
       "    <tr style=\"text-align: right;\">\n",
       "      <th></th>\n",
       "      <th>Total carbon emissions from fossil fuel consumption and cement production (million metric tons of C)</th>\n",
       "      <th>Carbon emissions from gas fuel consumption</th>\n",
       "      <th>Carbon emissions from liquid fuel consumption</th>\n",
       "      <th>Carbon emissions from solid fuel consumption</th>\n",
       "      <th>Carbon emissions from cement production</th>\n",
       "      <th>Carbon emissions from gas flaring</th>\n",
       "      <th>Per capita carbon emissions (metric tons of carbon; after 1949 only)</th>\n",
       "    </tr>\n",
       "    <tr>\n",
       "      <th>Year</th>\n",
       "      <th></th>\n",
       "      <th></th>\n",
       "      <th></th>\n",
       "      <th></th>\n",
       "      <th></th>\n",
       "      <th></th>\n",
       "      <th></th>\n",
       "    </tr>\n",
       "  </thead>\n",
       "  <tbody>\n",
       "    <tr>\n",
       "      <th>1752</th>\n",
       "      <td>3</td>\n",
       "      <td>0</td>\n",
       "      <td>0</td>\n",
       "      <td>3</td>\n",
       "      <td>0</td>\n",
       "      <td>0</td>\n",
       "      <td>NaN</td>\n",
       "    </tr>\n",
       "    <tr>\n",
       "      <th>1754</th>\n",
       "      <td>3</td>\n",
       "      <td>0</td>\n",
       "      <td>0</td>\n",
       "      <td>3</td>\n",
       "      <td>0</td>\n",
       "      <td>0</td>\n",
       "      <td>NaN</td>\n",
       "    </tr>\n",
       "    <tr>\n",
       "      <th>1756</th>\n",
       "      <td>3</td>\n",
       "      <td>0</td>\n",
       "      <td>0</td>\n",
       "      <td>3</td>\n",
       "      <td>0</td>\n",
       "      <td>0</td>\n",
       "      <td>NaN</td>\n",
       "    </tr>\n",
       "    <tr>\n",
       "      <th>1758</th>\n",
       "      <td>3</td>\n",
       "      <td>0</td>\n",
       "      <td>0</td>\n",
       "      <td>3</td>\n",
       "      <td>0</td>\n",
       "      <td>0</td>\n",
       "      <td>NaN</td>\n",
       "    </tr>\n",
       "    <tr>\n",
       "      <th>1760</th>\n",
       "      <td>3</td>\n",
       "      <td>0</td>\n",
       "      <td>0</td>\n",
       "      <td>3</td>\n",
       "      <td>0</td>\n",
       "      <td>0</td>\n",
       "      <td>NaN</td>\n",
       "    </tr>\n",
       "    <tr>\n",
       "      <th>...</th>\n",
       "      <td>...</td>\n",
       "      <td>...</td>\n",
       "      <td>...</td>\n",
       "      <td>...</td>\n",
       "      <td>...</td>\n",
       "      <td>...</td>\n",
       "      <td>...</td>\n",
       "    </tr>\n",
       "    <tr>\n",
       "      <th>1772</th>\n",
       "      <td>4</td>\n",
       "      <td>0</td>\n",
       "      <td>0</td>\n",
       "      <td>4</td>\n",
       "      <td>0</td>\n",
       "      <td>0</td>\n",
       "      <td>NaN</td>\n",
       "    </tr>\n",
       "    <tr>\n",
       "      <th>1774</th>\n",
       "      <td>4</td>\n",
       "      <td>0</td>\n",
       "      <td>0</td>\n",
       "      <td>4</td>\n",
       "      <td>0</td>\n",
       "      <td>0</td>\n",
       "      <td>NaN</td>\n",
       "    </tr>\n",
       "    <tr>\n",
       "      <th>1776</th>\n",
       "      <td>4</td>\n",
       "      <td>0</td>\n",
       "      <td>0</td>\n",
       "      <td>4</td>\n",
       "      <td>0</td>\n",
       "      <td>0</td>\n",
       "      <td>NaN</td>\n",
       "    </tr>\n",
       "    <tr>\n",
       "      <th>1778</th>\n",
       "      <td>4</td>\n",
       "      <td>0</td>\n",
       "      <td>0</td>\n",
       "      <td>4</td>\n",
       "      <td>0</td>\n",
       "      <td>0</td>\n",
       "      <td>NaN</td>\n",
       "    </tr>\n",
       "    <tr>\n",
       "      <th>1780</th>\n",
       "      <td>4</td>\n",
       "      <td>0</td>\n",
       "      <td>0</td>\n",
       "      <td>4</td>\n",
       "      <td>0</td>\n",
       "      <td>0</td>\n",
       "      <td>NaN</td>\n",
       "    </tr>\n",
       "  </tbody>\n",
       "</table>\n",
       "<p>15 rows × 7 columns</p>\n",
       "</div>"
      ],
      "text/plain": [
       "      Total carbon emissions from fossil fuel consumption and cement production (million metric tons of C)  \\\n",
       "Year                                                                                                         \n",
       "1752                                                  3                                                      \n",
       "1754                                                  3                                                      \n",
       "1756                                                  3                                                      \n",
       "1758                                                  3                                                      \n",
       "1760                                                  3                                                      \n",
       "...                                                 ...                                                      \n",
       "1772                                                  4                                                      \n",
       "1774                                                  4                                                      \n",
       "1776                                                  4                                                      \n",
       "1778                                                  4                                                      \n",
       "1780                                                  4                                                      \n",
       "\n",
       "      Carbon emissions from gas fuel consumption  \\\n",
       "Year                                               \n",
       "1752                                           0   \n",
       "1754                                           0   \n",
       "1756                                           0   \n",
       "1758                                           0   \n",
       "1760                                           0   \n",
       "...                                          ...   \n",
       "1772                                           0   \n",
       "1774                                           0   \n",
       "1776                                           0   \n",
       "1778                                           0   \n",
       "1780                                           0   \n",
       "\n",
       "      Carbon emissions from liquid fuel consumption  \\\n",
       "Year                                                  \n",
       "1752                                              0   \n",
       "1754                                              0   \n",
       "1756                                              0   \n",
       "1758                                              0   \n",
       "1760                                              0   \n",
       "...                                             ...   \n",
       "1772                                              0   \n",
       "1774                                              0   \n",
       "1776                                              0   \n",
       "1778                                              0   \n",
       "1780                                              0   \n",
       "\n",
       "      Carbon emissions from solid fuel consumption  \\\n",
       "Year                                                 \n",
       "1752                                             3   \n",
       "1754                                             3   \n",
       "1756                                             3   \n",
       "1758                                             3   \n",
       "1760                                             3   \n",
       "...                                            ...   \n",
       "1772                                             4   \n",
       "1774                                             4   \n",
       "1776                                             4   \n",
       "1778                                             4   \n",
       "1780                                             4   \n",
       "\n",
       "      Carbon emissions from cement production  \\\n",
       "Year                                            \n",
       "1752                                        0   \n",
       "1754                                        0   \n",
       "1756                                        0   \n",
       "1758                                        0   \n",
       "1760                                        0   \n",
       "...                                       ...   \n",
       "1772                                        0   \n",
       "1774                                        0   \n",
       "1776                                        0   \n",
       "1778                                        0   \n",
       "1780                                        0   \n",
       "\n",
       "      Carbon emissions from gas flaring  \\\n",
       "Year                                      \n",
       "1752                                  0   \n",
       "1754                                  0   \n",
       "1756                                  0   \n",
       "1758                                  0   \n",
       "1760                                  0   \n",
       "...                                 ...   \n",
       "1772                                  0   \n",
       "1774                                  0   \n",
       "1776                                  0   \n",
       "1778                                  0   \n",
       "1780                                  0   \n",
       "\n",
       "      Per capita carbon emissions (metric tons of carbon; after 1949 only)  \n",
       "Year                                                                        \n",
       "1752                                                NaN                     \n",
       "1754                                                NaN                     \n",
       "1756                                                NaN                     \n",
       "1758                                                NaN                     \n",
       "1760                                                NaN                     \n",
       "...                                                 ...                     \n",
       "1772                                                NaN                     \n",
       "1774                                                NaN                     \n",
       "1776                                                NaN                     \n",
       "1778                                                NaN                     \n",
       "1780                                                NaN                     \n",
       "\n",
       "[15 rows x 7 columns]"
      ]
     },
     "execution_count": 8,
     "metadata": {},
     "output_type": "execute_result"
    }
   ],
   "source": [
    "emissions.iloc[1:30]"
   ]
  },
  {
   "cell_type": "markdown",
   "metadata": {
    "slideshow": {
     "slide_type": "slide"
    }
   },
   "source": [
    "### Renaming columns\n",
    "The column names given in the CSV file are too long to use conveniently in dealing with data. We can assign new column names from a list of strings, that will be applied in order as the new column names:"
   ]
  },
  {
   "cell_type": "code",
   "execution_count": 11,
   "metadata": {
    "collapsed": false,
    "scrolled": true
   },
   "outputs": [
    {
     "data": {
      "text/html": [
       "<div>\n",
       "<table border=\"1\" class=\"dataframe\">\n",
       "  <thead>\n",
       "    <tr style=\"text-align: right;\">\n",
       "      <th></th>\n",
       "      <th>Total Emissions</th>\n",
       "      <th>Gas Emissions</th>\n",
       "      <th>Liquid Emissions</th>\n",
       "      <th>Solid Emissions</th>\n",
       "      <th>Cement Emissions</th>\n",
       "      <th>Flare Emissions</th>\n",
       "      <th>Per Capita Emissions</th>\n",
       "    </tr>\n",
       "    <tr>\n",
       "      <th>Year</th>\n",
       "      <th></th>\n",
       "      <th></th>\n",
       "      <th></th>\n",
       "      <th></th>\n",
       "      <th></th>\n",
       "      <th></th>\n",
       "      <th></th>\n",
       "    </tr>\n",
       "  </thead>\n",
       "  <tbody>\n",
       "    <tr>\n",
       "      <th>2009</th>\n",
       "      <td>8700</td>\n",
       "      <td>1582</td>\n",
       "      <td>3039</td>\n",
       "      <td>3604</td>\n",
       "      <td>412</td>\n",
       "      <td>63</td>\n",
       "      <td>1.27</td>\n",
       "    </tr>\n",
       "    <tr>\n",
       "      <th>2010</th>\n",
       "      <td>9140</td>\n",
       "      <td>1698</td>\n",
       "      <td>3100</td>\n",
       "      <td>3832</td>\n",
       "      <td>445</td>\n",
       "      <td>65</td>\n",
       "      <td>1.32</td>\n",
       "    </tr>\n",
       "    <tr>\n",
       "      <th>2011</th>\n",
       "      <td>9449</td>\n",
       "      <td>1760</td>\n",
       "      <td>3137</td>\n",
       "      <td>3997</td>\n",
       "      <td>491</td>\n",
       "      <td>63</td>\n",
       "      <td>1.35</td>\n",
       "    </tr>\n",
       "  </tbody>\n",
       "</table>\n",
       "</div>"
      ],
      "text/plain": [
       "      Total Emissions  Gas Emissions  Liquid Emissions  Solid Emissions  \\\n",
       "Year                                                                      \n",
       "2009             8700           1582              3039             3604   \n",
       "2010             9140           1698              3100             3832   \n",
       "2011             9449           1760              3137             3997   \n",
       "\n",
       "      Cement Emissions  Flare Emissions  Per Capita Emissions  \n",
       "Year                                                           \n",
       "2009               412               63                  1.27  \n",
       "2010               445               65                  1.32  \n",
       "2011               491               63                  1.35  "
      ]
     },
     "execution_count": 11,
     "metadata": {},
     "output_type": "execute_result"
    }
   ],
   "source": [
    "emissions.columns = ['Total Emissions', 'Gas Emissions', 'Liquid Emissions', \n",
    "                     'Solid Emissions', 'Cement Emissions', 'Flare Emissions',\n",
    "                     'Per Capita Emissions']\n",
    "emissions.iloc[-3:]"
   ]
  },
  {
   "cell_type": "markdown",
   "metadata": {
    "slideshow": {
     "slide_type": "slide"
    }
   },
   "source": [
    "### Accessing specific columns\n",
    "\n",
    "Each of the columns in the `DataFrame` can be accessed as its own `Series` object, using the same syntax we would use to access members of a python dictionary:"
   ]
  },
  {
   "cell_type": "code",
   "execution_count": null,
   "metadata": {
    "collapsed": false
   },
   "outputs": [
    {
     "ename": "",
     "evalue": "",
     "output_type": "error",
     "traceback": [
      "\u001b[1;31mRunning cells with 'Python 3.8.10 64-bit' requires ipykernel package.\n",
      "\u001b[1;31mRun the following command to install 'ipykernel' into the Python environment. \n",
      "\u001b[1;31mCommand: '/bin/python3 -m pip install ipykernel -U --user --force-reinstall'"
     ]
    }
   ],
   "source": [
    "emissions[['Total Emissions']]"
   ]
  },
  {
   "cell_type": "markdown",
   "metadata": {
    "slideshow": {
     "slide_type": "subslide"
    }
   },
   "source": [
    "Passing a list of column names into this syntax returns a subset of the dataframe:"
   ]
  },
  {
   "cell_type": "code",
   "execution_count": 50,
   "metadata": {
    "collapsed": false
   },
   "outputs": [
    {
     "data": {
      "text/html": [
       "<div>\n",
       "<table border=\"1\" class=\"dataframe\">\n",
       "  <thead>\n",
       "    <tr style=\"text-align: right;\">\n",
       "      <th></th>\n",
       "      <th>Gas Emissions</th>\n",
       "      <th>Liquid Emissions</th>\n",
       "    </tr>\n",
       "    <tr>\n",
       "      <th>Year</th>\n",
       "      <th></th>\n",
       "      <th></th>\n",
       "    </tr>\n",
       "  </thead>\n",
       "  <tbody>\n",
       "    <tr>\n",
       "      <th>1751</th>\n",
       "      <td>0</td>\n",
       "      <td>0</td>\n",
       "    </tr>\n",
       "    <tr>\n",
       "      <th>1752</th>\n",
       "      <td>0</td>\n",
       "      <td>0</td>\n",
       "    </tr>\n",
       "    <tr>\n",
       "      <th>1753</th>\n",
       "      <td>0</td>\n",
       "      <td>0</td>\n",
       "    </tr>\n",
       "    <tr>\n",
       "      <th>1754</th>\n",
       "      <td>0</td>\n",
       "      <td>0</td>\n",
       "    </tr>\n",
       "    <tr>\n",
       "      <th>1755</th>\n",
       "      <td>0</td>\n",
       "      <td>0</td>\n",
       "    </tr>\n",
       "    <tr>\n",
       "      <th>...</th>\n",
       "      <td>...</td>\n",
       "      <td>...</td>\n",
       "    </tr>\n",
       "    <tr>\n",
       "      <th>2007</th>\n",
       "      <td>1563</td>\n",
       "      <td>3080</td>\n",
       "    </tr>\n",
       "    <tr>\n",
       "      <th>2008</th>\n",
       "      <td>1625</td>\n",
       "      <td>3107</td>\n",
       "    </tr>\n",
       "    <tr>\n",
       "      <th>2009</th>\n",
       "      <td>1582</td>\n",
       "      <td>3039</td>\n",
       "    </tr>\n",
       "    <tr>\n",
       "      <th>2010</th>\n",
       "      <td>1698</td>\n",
       "      <td>3100</td>\n",
       "    </tr>\n",
       "    <tr>\n",
       "      <th>2011</th>\n",
       "      <td>1760</td>\n",
       "      <td>3137</td>\n",
       "    </tr>\n",
       "  </tbody>\n",
       "</table>\n",
       "<p>261 rows × 2 columns</p>\n",
       "</div>"
      ],
      "text/plain": [
       "      Gas Emissions  Liquid Emissions\n",
       "Year                                 \n",
       "1751              0                 0\n",
       "1752              0                 0\n",
       "1753              0                 0\n",
       "1754              0                 0\n",
       "1755              0                 0\n",
       "...             ...               ...\n",
       "2007           1563              3080\n",
       "2008           1625              3107\n",
       "2009           1582              3039\n",
       "2010           1698              3100\n",
       "2011           1760              3137\n",
       "\n",
       "[261 rows x 2 columns]"
      ]
     },
     "execution_count": 50,
     "metadata": {},
     "output_type": "execute_result"
    }
   ],
   "source": [
    "emissions[['Gas Emissions', 'Liquid Emissions']]"
   ]
  },
  {
   "cell_type": "markdown",
   "metadata": {
    "slideshow": {
     "slide_type": "slide"
    }
   },
   "source": [
    "### Element-wise Arithmetic\n",
    "We can perform [element-wise arithmetic](http://pandas.pydata.org/pandas-docs/version/0.18.1/dsintro.html#dataframe-interoperability-with-numpy-functions) on `DataFrame` columns using natural syntax."
   ]
  },
  {
   "cell_type": "code",
   "execution_count": 12,
   "metadata": {
    "collapsed": false
   },
   "outputs": [
    {
     "data": {
      "text/plain": [
       "Year\n",
       "1751       0\n",
       "1752       0\n",
       "1753       0\n",
       "1754       0\n",
       "1755       0\n",
       "        ... \n",
       "2007    4643\n",
       "2008    4732\n",
       "2009    4621\n",
       "2010    4798\n",
       "2011    4897\n",
       "dtype: int64"
      ]
     },
     "execution_count": 12,
     "metadata": {},
     "output_type": "execute_result"
    }
   ],
   "source": [
    "emissions['Gas Emissions'] + emissions['Liquid Emissions']"
   ]
  },
  {
   "cell_type": "markdown",
   "metadata": {
    "slideshow": {
     "slide_type": "slide"
    }
   },
   "source": [
    "### Array Operations\n",
    "\n",
    "A number of simple operations are built into Pandas to facilitate working with the data. For example, we can show [descriptive statistics](http://pandas.pydata.org/pandas-docs/version/0.18.1/basics.html#descriptive-statistics) such as the maximum value of each column:"
   ]
  },
  {
   "cell_type": "code",
   "execution_count": 20,
   "metadata": {
    "collapsed": false
   },
   "outputs": [
    {
     "name": "stdout",
     "output_type": "stream",
     "text": [
      "Total Emissions         2011\n",
      "Gas Emissions           2011\n",
      "Liquid Emissions        2011\n",
      "Solid Emissions         2011\n",
      "Cement Emissions        2011\n",
      "Flare Emissions         1973\n",
      "Per Capita Emissions    2011\n",
      "dtype: int64 Total Emissions         9449.00\n",
      "Gas Emissions           1760.00\n",
      "Liquid Emissions        3137.00\n",
      "Solid Emissions         3997.00\n",
      "Cement Emissions         491.00\n",
      "Flare Emissions          110.00\n",
      "Per Capita Emissions       1.35\n",
      "dtype: float64\n"
     ]
    }
   ],
   "source": [
    "print(emissions.idxmax(), emissions.max())"
   ]
  },
  {
   "cell_type": "markdown",
   "metadata": {
    "slideshow": {
     "slide_type": "subslide"
    }
   },
   "source": [
    "The year [in which this maximum value occurred](http://pandas.pydata.org/pandas-docs/version/0.18.1/basics.html#index-of-min-max-values):"
   ]
  },
  {
   "cell_type": "code",
   "execution_count": 53,
   "metadata": {
    "collapsed": false
   },
   "outputs": [
    {
     "data": {
      "text/plain": [
       "Total Emissions         2011\n",
       "Gas Emissions           2011\n",
       "Liquid Emissions        2011\n",
       "Solid Emissions         2011\n",
       "Cement Emissions        2011\n",
       "Flare Emissions         1973\n",
       "Per Capita Emissions    2011\n",
       "dtype: int64"
      ]
     },
     "execution_count": 53,
     "metadata": {},
     "output_type": "execute_result"
    }
   ],
   "source": [
    "emissions.idxmax()"
   ]
  },
  {
   "cell_type": "markdown",
   "metadata": {
    "slideshow": {
     "slide_type": "subslide"
    }
   },
   "source": [
    "Or the sum of each column:"
   ]
  },
  {
   "cell_type": "code",
   "execution_count": 54,
   "metadata": {
    "collapsed": false
   },
   "outputs": [
    {
     "data": {
      "text/plain": [
       "Total Emissions         373729.0\n",
       "Gas Emissions            49774.0\n",
       "Liquid Emissions        131976.0\n",
       "Solid Emissions         179160.0\n",
       "Cement Emissions          9366.0\n",
       "Flare Emissions           3456.0\n",
       "Per Capita Emissions        65.5\n",
       "dtype: float64"
      ]
     },
     "execution_count": 54,
     "metadata": {},
     "output_type": "execute_result"
    }
   ],
   "source": [
    "emissions.sum()"
   ]
  },
  {
   "cell_type": "code",
   "execution_count": 55,
   "metadata": {
    "collapsed": false
   },
   "outputs": [
    {
     "data": {
      "text/plain": [
       "Year\n",
       "1930     NaN\n",
       "1931     NaN\n",
       "1932     NaN\n",
       "1933     NaN\n",
       "1934     NaN\n",
       "        ... \n",
       "2007    1.28\n",
       "2008    1.29\n",
       "2009    1.27\n",
       "2010    1.32\n",
       "2011    1.35\n",
       "Name: Per Capita Emissions, dtype: float64"
      ]
     },
     "execution_count": 55,
     "metadata": {},
     "output_type": "execute_result"
    }
   ],
   "source": [
    "emissions['Per Capita Emissions'].loc[1930:]"
   ]
  },
  {
   "cell_type": "markdown",
   "metadata": {},
   "source": [
    "### Merging Datasets\n",
    "The dataset we have currently is missing data for per capita consumption before 1950. We have another dataset which gives us estimates of the world population which we can use to try and fill in some missing data. It too, however, has some missing values: before 1900, the data comes at 50 year intervals."
   ]
  },
  {
   "cell_type": "code",
   "execution_count": 57,
   "metadata": {
    "collapsed": false
   },
   "outputs": [],
   "source": [
    "population = pd.read_csv('../../data/Climate/world_population.csv', index_col='Year')"
   ]
  },
  {
   "cell_type": "markdown",
   "metadata": {},
   "source": [
    "What we need to do is first merge the two datasets together. Pandas gives us a merge function which allows us to align the datasets on their index values."
   ]
  },
  {
   "cell_type": "code",
   "execution_count": 62,
   "metadata": {
    "collapsed": false
   },
   "outputs": [
    {
     "data": {
      "text/html": [
       "<div>\n",
       "<table border=\"1\" class=\"dataframe\">\n",
       "  <thead>\n",
       "    <tr style=\"text-align: right;\">\n",
       "      <th></th>\n",
       "      <th>Total Emissions</th>\n",
       "      <th>Gas Emissions</th>\n",
       "      <th>Liquid Emissions</th>\n",
       "      <th>Solid Emissions</th>\n",
       "      <th>Cement Emissions</th>\n",
       "      <th>Flare Emissions</th>\n",
       "      <th>Per Capita Emissions</th>\n",
       "      <th>World Population</th>\n",
       "    </tr>\n",
       "    <tr>\n",
       "      <th>Year</th>\n",
       "      <th></th>\n",
       "      <th></th>\n",
       "      <th></th>\n",
       "      <th></th>\n",
       "      <th></th>\n",
       "      <th></th>\n",
       "      <th></th>\n",
       "      <th></th>\n",
       "    </tr>\n",
       "  </thead>\n",
       "  <tbody>\n",
       "    <tr>\n",
       "      <th>1750</th>\n",
       "      <td>NaN</td>\n",
       "      <td>NaN</td>\n",
       "      <td>NaN</td>\n",
       "      <td>NaN</td>\n",
       "      <td>NaN</td>\n",
       "      <td>NaN</td>\n",
       "      <td>NaN</td>\n",
       "      <td>8.115621e+08</td>\n",
       "    </tr>\n",
       "    <tr>\n",
       "      <th>1751</th>\n",
       "      <td>3.0</td>\n",
       "      <td>0.0</td>\n",
       "      <td>0.0</td>\n",
       "      <td>3.0</td>\n",
       "      <td>0.0</td>\n",
       "      <td>0.0</td>\n",
       "      <td>NaN</td>\n",
       "      <td>NaN</td>\n",
       "    </tr>\n",
       "    <tr>\n",
       "      <th>1752</th>\n",
       "      <td>3.0</td>\n",
       "      <td>0.0</td>\n",
       "      <td>0.0</td>\n",
       "      <td>3.0</td>\n",
       "      <td>0.0</td>\n",
       "      <td>0.0</td>\n",
       "      <td>NaN</td>\n",
       "      <td>NaN</td>\n",
       "    </tr>\n",
       "    <tr>\n",
       "      <th>1753</th>\n",
       "      <td>3.0</td>\n",
       "      <td>0.0</td>\n",
       "      <td>0.0</td>\n",
       "      <td>3.0</td>\n",
       "      <td>0.0</td>\n",
       "      <td>0.0</td>\n",
       "      <td>NaN</td>\n",
       "      <td>NaN</td>\n",
       "    </tr>\n",
       "    <tr>\n",
       "      <th>1754</th>\n",
       "      <td>3.0</td>\n",
       "      <td>0.0</td>\n",
       "      <td>0.0</td>\n",
       "      <td>3.0</td>\n",
       "      <td>0.0</td>\n",
       "      <td>0.0</td>\n",
       "      <td>NaN</td>\n",
       "      <td>NaN</td>\n",
       "    </tr>\n",
       "    <tr>\n",
       "      <th>...</th>\n",
       "      <td>...</td>\n",
       "      <td>...</td>\n",
       "      <td>...</td>\n",
       "      <td>...</td>\n",
       "      <td>...</td>\n",
       "      <td>...</td>\n",
       "      <td>...</td>\n",
       "      <td>...</td>\n",
       "    </tr>\n",
       "    <tr>\n",
       "      <th>2007</th>\n",
       "      <td>8532.0</td>\n",
       "      <td>1563.0</td>\n",
       "      <td>3080.0</td>\n",
       "      <td>3442.0</td>\n",
       "      <td>382.0</td>\n",
       "      <td>65.0</td>\n",
       "      <td>1.28</td>\n",
       "      <td>6.681607e+09</td>\n",
       "    </tr>\n",
       "    <tr>\n",
       "      <th>2008</th>\n",
       "      <td>8740.0</td>\n",
       "      <td>1625.0</td>\n",
       "      <td>3107.0</td>\n",
       "      <td>3552.0</td>\n",
       "      <td>387.0</td>\n",
       "      <td>68.0</td>\n",
       "      <td>1.29</td>\n",
       "      <td>6.763733e+09</td>\n",
       "    </tr>\n",
       "    <tr>\n",
       "      <th>2009</th>\n",
       "      <td>8700.0</td>\n",
       "      <td>1582.0</td>\n",
       "      <td>3039.0</td>\n",
       "      <td>3604.0</td>\n",
       "      <td>412.0</td>\n",
       "      <td>63.0</td>\n",
       "      <td>1.27</td>\n",
       "      <td>6.846480e+09</td>\n",
       "    </tr>\n",
       "    <tr>\n",
       "      <th>2010</th>\n",
       "      <td>9140.0</td>\n",
       "      <td>1698.0</td>\n",
       "      <td>3100.0</td>\n",
       "      <td>3832.0</td>\n",
       "      <td>445.0</td>\n",
       "      <td>65.0</td>\n",
       "      <td>1.32</td>\n",
       "      <td>6.929725e+09</td>\n",
       "    </tr>\n",
       "    <tr>\n",
       "      <th>2011</th>\n",
       "      <td>9449.0</td>\n",
       "      <td>1760.0</td>\n",
       "      <td>3137.0</td>\n",
       "      <td>3997.0</td>\n",
       "      <td>491.0</td>\n",
       "      <td>63.0</td>\n",
       "      <td>1.35</td>\n",
       "      <td>7.013427e+09</td>\n",
       "    </tr>\n",
       "  </tbody>\n",
       "</table>\n",
       "<p>262 rows × 8 columns</p>\n",
       "</div>"
      ],
      "text/plain": [
       "      Total Emissions  Gas Emissions  Liquid Emissions  Solid Emissions  \\\n",
       "Year                                                                      \n",
       "1750              NaN            NaN               NaN              NaN   \n",
       "1751              3.0            0.0               0.0              3.0   \n",
       "1752              3.0            0.0               0.0              3.0   \n",
       "1753              3.0            0.0               0.0              3.0   \n",
       "1754              3.0            0.0               0.0              3.0   \n",
       "...               ...            ...               ...              ...   \n",
       "2007           8532.0         1563.0            3080.0           3442.0   \n",
       "2008           8740.0         1625.0            3107.0           3552.0   \n",
       "2009           8700.0         1582.0            3039.0           3604.0   \n",
       "2010           9140.0         1698.0            3100.0           3832.0   \n",
       "2011           9449.0         1760.0            3137.0           3997.0   \n",
       "\n",
       "      Cement Emissions  Flare Emissions  Per Capita Emissions  \\\n",
       "Year                                                            \n",
       "1750               NaN              NaN                   NaN   \n",
       "1751               0.0              0.0                   NaN   \n",
       "1752               0.0              0.0                   NaN   \n",
       "1753               0.0              0.0                   NaN   \n",
       "1754               0.0              0.0                   NaN   \n",
       "...                ...              ...                   ...   \n",
       "2007             382.0             65.0                  1.28   \n",
       "2008             387.0             68.0                  1.29   \n",
       "2009             412.0             63.0                  1.27   \n",
       "2010             445.0             65.0                  1.32   \n",
       "2011             491.0             63.0                  1.35   \n",
       "\n",
       "      World Population  \n",
       "Year                    \n",
       "1750      8.115621e+08  \n",
       "1751               NaN  \n",
       "1752               NaN  \n",
       "1753               NaN  \n",
       "1754               NaN  \n",
       "...                ...  \n",
       "2007      6.681607e+09  \n",
       "2008      6.763733e+09  \n",
       "2009      6.846480e+09  \n",
       "2010      6.929725e+09  \n",
       "2011      7.013427e+09  \n",
       "\n",
       "[262 rows x 8 columns]"
      ]
     },
     "execution_count": 62,
     "metadata": {},
     "output_type": "execute_result"
    }
   ],
   "source": [
    "merged = pd.merge(emissions, population, how='outer', left_index=True, right_index=True)\n",
    "merged.loc[1750:2011]"
   ]
  },
  {
   "cell_type": "markdown",
   "metadata": {},
   "source": [
    "### Interpolating missing values\n",
    "The merge operation creates `NaN` values in the rows where data is missing from the world population column. We can fill these using a cubic spline interpolation from the surrounding points:"
   ]
  },
  {
   "cell_type": "code",
   "execution_count": 64,
   "metadata": {
    "collapsed": false
   },
   "outputs": [
    {
     "data": {
      "text/html": [
       "<div>\n",
       "<table border=\"1\" class=\"dataframe\">\n",
       "  <thead>\n",
       "    <tr style=\"text-align: right;\">\n",
       "      <th></th>\n",
       "      <th>Total Emissions</th>\n",
       "      <th>Gas Emissions</th>\n",
       "      <th>Liquid Emissions</th>\n",
       "      <th>Solid Emissions</th>\n",
       "      <th>Cement Emissions</th>\n",
       "      <th>Flare Emissions</th>\n",
       "      <th>Per Capita Emissions</th>\n",
       "      <th>World Population</th>\n",
       "    </tr>\n",
       "    <tr>\n",
       "      <th>Year</th>\n",
       "      <th></th>\n",
       "      <th></th>\n",
       "      <th></th>\n",
       "      <th></th>\n",
       "      <th></th>\n",
       "      <th></th>\n",
       "      <th></th>\n",
       "      <th></th>\n",
       "    </tr>\n",
       "  </thead>\n",
       "  <tbody>\n",
       "    <tr>\n",
       "      <th>1750</th>\n",
       "      <td>NaN</td>\n",
       "      <td>NaN</td>\n",
       "      <td>NaN</td>\n",
       "      <td>NaN</td>\n",
       "      <td>NaN</td>\n",
       "      <td>NaN</td>\n",
       "      <td>NaN</td>\n",
       "      <td>8.115621e+08</td>\n",
       "    </tr>\n",
       "    <tr>\n",
       "      <th>1751</th>\n",
       "      <td>3.0</td>\n",
       "      <td>0.0</td>\n",
       "      <td>0.0</td>\n",
       "      <td>3.0</td>\n",
       "      <td>0.0</td>\n",
       "      <td>0.0</td>\n",
       "      <td>NaN</td>\n",
       "      <td>8.155185e+08</td>\n",
       "    </tr>\n",
       "    <tr>\n",
       "      <th>1752</th>\n",
       "      <td>3.0</td>\n",
       "      <td>0.0</td>\n",
       "      <td>0.0</td>\n",
       "      <td>3.0</td>\n",
       "      <td>0.0</td>\n",
       "      <td>0.0</td>\n",
       "      <td>NaN</td>\n",
       "      <td>8.194193e+08</td>\n",
       "    </tr>\n",
       "    <tr>\n",
       "      <th>1753</th>\n",
       "      <td>3.0</td>\n",
       "      <td>0.0</td>\n",
       "      <td>0.0</td>\n",
       "      <td>3.0</td>\n",
       "      <td>0.0</td>\n",
       "      <td>0.0</td>\n",
       "      <td>NaN</td>\n",
       "      <td>8.232672e+08</td>\n",
       "    </tr>\n",
       "    <tr>\n",
       "      <th>1754</th>\n",
       "      <td>3.0</td>\n",
       "      <td>0.0</td>\n",
       "      <td>0.0</td>\n",
       "      <td>3.0</td>\n",
       "      <td>0.0</td>\n",
       "      <td>0.0</td>\n",
       "      <td>NaN</td>\n",
       "      <td>8.270645e+08</td>\n",
       "    </tr>\n",
       "    <tr>\n",
       "      <th>...</th>\n",
       "      <td>...</td>\n",
       "      <td>...</td>\n",
       "      <td>...</td>\n",
       "      <td>...</td>\n",
       "      <td>...</td>\n",
       "      <td>...</td>\n",
       "      <td>...</td>\n",
       "      <td>...</td>\n",
       "    </tr>\n",
       "    <tr>\n",
       "      <th>2007</th>\n",
       "      <td>8532.0</td>\n",
       "      <td>1563.0</td>\n",
       "      <td>3080.0</td>\n",
       "      <td>3442.0</td>\n",
       "      <td>382.0</td>\n",
       "      <td>65.0</td>\n",
       "      <td>1.28</td>\n",
       "      <td>6.681607e+09</td>\n",
       "    </tr>\n",
       "    <tr>\n",
       "      <th>2008</th>\n",
       "      <td>8740.0</td>\n",
       "      <td>1625.0</td>\n",
       "      <td>3107.0</td>\n",
       "      <td>3552.0</td>\n",
       "      <td>387.0</td>\n",
       "      <td>68.0</td>\n",
       "      <td>1.29</td>\n",
       "      <td>6.763733e+09</td>\n",
       "    </tr>\n",
       "    <tr>\n",
       "      <th>2009</th>\n",
       "      <td>8700.0</td>\n",
       "      <td>1582.0</td>\n",
       "      <td>3039.0</td>\n",
       "      <td>3604.0</td>\n",
       "      <td>412.0</td>\n",
       "      <td>63.0</td>\n",
       "      <td>1.27</td>\n",
       "      <td>6.846480e+09</td>\n",
       "    </tr>\n",
       "    <tr>\n",
       "      <th>2010</th>\n",
       "      <td>9140.0</td>\n",
       "      <td>1698.0</td>\n",
       "      <td>3100.0</td>\n",
       "      <td>3832.0</td>\n",
       "      <td>445.0</td>\n",
       "      <td>65.0</td>\n",
       "      <td>1.32</td>\n",
       "      <td>6.929725e+09</td>\n",
       "    </tr>\n",
       "    <tr>\n",
       "      <th>2011</th>\n",
       "      <td>9449.0</td>\n",
       "      <td>1760.0</td>\n",
       "      <td>3137.0</td>\n",
       "      <td>3997.0</td>\n",
       "      <td>491.0</td>\n",
       "      <td>63.0</td>\n",
       "      <td>1.35</td>\n",
       "      <td>7.013427e+09</td>\n",
       "    </tr>\n",
       "  </tbody>\n",
       "</table>\n",
       "<p>262 rows × 8 columns</p>\n",
       "</div>"
      ],
      "text/plain": [
       "      Total Emissions  Gas Emissions  Liquid Emissions  Solid Emissions  \\\n",
       "Year                                                                      \n",
       "1750              NaN            NaN               NaN              NaN   \n",
       "1751              3.0            0.0               0.0              3.0   \n",
       "1752              3.0            0.0               0.0              3.0   \n",
       "1753              3.0            0.0               0.0              3.0   \n",
       "1754              3.0            0.0               0.0              3.0   \n",
       "...               ...            ...               ...              ...   \n",
       "2007           8532.0         1563.0            3080.0           3442.0   \n",
       "2008           8740.0         1625.0            3107.0           3552.0   \n",
       "2009           8700.0         1582.0            3039.0           3604.0   \n",
       "2010           9140.0         1698.0            3100.0           3832.0   \n",
       "2011           9449.0         1760.0            3137.0           3997.0   \n",
       "\n",
       "      Cement Emissions  Flare Emissions  Per Capita Emissions  \\\n",
       "Year                                                            \n",
       "1750               NaN              NaN                   NaN   \n",
       "1751               0.0              0.0                   NaN   \n",
       "1752               0.0              0.0                   NaN   \n",
       "1753               0.0              0.0                   NaN   \n",
       "1754               0.0              0.0                   NaN   \n",
       "...                ...              ...                   ...   \n",
       "2007             382.0             65.0                  1.28   \n",
       "2008             387.0             68.0                  1.29   \n",
       "2009             412.0             63.0                  1.27   \n",
       "2010             445.0             65.0                  1.32   \n",
       "2011             491.0             63.0                  1.35   \n",
       "\n",
       "      World Population  \n",
       "Year                    \n",
       "1750      8.115621e+08  \n",
       "1751      8.155185e+08  \n",
       "1752      8.194193e+08  \n",
       "1753      8.232672e+08  \n",
       "1754      8.270645e+08  \n",
       "...                ...  \n",
       "2007      6.681607e+09  \n",
       "2008      6.763733e+09  \n",
       "2009      6.846480e+09  \n",
       "2010      6.929725e+09  \n",
       "2011      7.013427e+09  \n",
       "\n",
       "[262 rows x 8 columns]"
      ]
     },
     "execution_count": 64,
     "metadata": {},
     "output_type": "execute_result"
    }
   ],
   "source": [
    "interpolated = merged.interpolate(method='cubic')\n",
    "interpolated.loc[1750:2011]"
   ]
  },
  {
   "cell_type": "markdown",
   "metadata": {},
   "source": [
    "#### Calculating per capita emissions\n",
    "Now we can calculate a new value for per capita emissions. We multiply by `1,000,000` to convert from units of 'Million Metric Tons' as the Total Emissions are expressed, to merely 'Metric Tons', as the existing, incomplete estimate of per capita emissions is expressed."
   ]
  },
  {
   "cell_type": "code",
   "execution_count": 69,
   "metadata": {
    "collapsed": false
   },
   "outputs": [
    {
     "data": {
      "text/html": [
       "<div>\n",
       "<table border=\"1\" class=\"dataframe\">\n",
       "  <thead>\n",
       "    <tr style=\"text-align: right;\">\n",
       "      <th></th>\n",
       "      <th>Total Emissions</th>\n",
       "      <th>Gas Emissions</th>\n",
       "      <th>Liquid Emissions</th>\n",
       "      <th>Solid Emissions</th>\n",
       "      <th>Cement Emissions</th>\n",
       "      <th>Flare Emissions</th>\n",
       "      <th>Per Capita Emissions</th>\n",
       "      <th>World Population</th>\n",
       "      <th>Per Capita Emissions 2</th>\n",
       "    </tr>\n",
       "    <tr>\n",
       "      <th>Year</th>\n",
       "      <th></th>\n",
       "      <th></th>\n",
       "      <th></th>\n",
       "      <th></th>\n",
       "      <th></th>\n",
       "      <th></th>\n",
       "      <th></th>\n",
       "      <th></th>\n",
       "      <th></th>\n",
       "    </tr>\n",
       "  </thead>\n",
       "  <tbody>\n",
       "    <tr>\n",
       "      <th>1751</th>\n",
       "      <td>3.0</td>\n",
       "      <td>0.0</td>\n",
       "      <td>0.0</td>\n",
       "      <td>3.0</td>\n",
       "      <td>0.0</td>\n",
       "      <td>0.0</td>\n",
       "      <td>NaN</td>\n",
       "      <td>8.155185e+08</td>\n",
       "      <td>0.003679</td>\n",
       "    </tr>\n",
       "    <tr>\n",
       "      <th>1752</th>\n",
       "      <td>3.0</td>\n",
       "      <td>0.0</td>\n",
       "      <td>0.0</td>\n",
       "      <td>3.0</td>\n",
       "      <td>0.0</td>\n",
       "      <td>0.0</td>\n",
       "      <td>NaN</td>\n",
       "      <td>8.194193e+08</td>\n",
       "      <td>0.003661</td>\n",
       "    </tr>\n",
       "    <tr>\n",
       "      <th>1753</th>\n",
       "      <td>3.0</td>\n",
       "      <td>0.0</td>\n",
       "      <td>0.0</td>\n",
       "      <td>3.0</td>\n",
       "      <td>0.0</td>\n",
       "      <td>0.0</td>\n",
       "      <td>NaN</td>\n",
       "      <td>8.232672e+08</td>\n",
       "      <td>0.003644</td>\n",
       "    </tr>\n",
       "    <tr>\n",
       "      <th>1754</th>\n",
       "      <td>3.0</td>\n",
       "      <td>0.0</td>\n",
       "      <td>0.0</td>\n",
       "      <td>3.0</td>\n",
       "      <td>0.0</td>\n",
       "      <td>0.0</td>\n",
       "      <td>NaN</td>\n",
       "      <td>8.270645e+08</td>\n",
       "      <td>0.003627</td>\n",
       "    </tr>\n",
       "    <tr>\n",
       "      <th>1755</th>\n",
       "      <td>3.0</td>\n",
       "      <td>0.0</td>\n",
       "      <td>0.0</td>\n",
       "      <td>3.0</td>\n",
       "      <td>0.0</td>\n",
       "      <td>0.0</td>\n",
       "      <td>NaN</td>\n",
       "      <td>8.308138e+08</td>\n",
       "      <td>0.003611</td>\n",
       "    </tr>\n",
       "    <tr>\n",
       "      <th>...</th>\n",
       "      <td>...</td>\n",
       "      <td>...</td>\n",
       "      <td>...</td>\n",
       "      <td>...</td>\n",
       "      <td>...</td>\n",
       "      <td>...</td>\n",
       "      <td>...</td>\n",
       "      <td>...</td>\n",
       "      <td>...</td>\n",
       "    </tr>\n",
       "    <tr>\n",
       "      <th>2007</th>\n",
       "      <td>8532.0</td>\n",
       "      <td>1563.0</td>\n",
       "      <td>3080.0</td>\n",
       "      <td>3442.0</td>\n",
       "      <td>382.0</td>\n",
       "      <td>65.0</td>\n",
       "      <td>1.28</td>\n",
       "      <td>6.681607e+09</td>\n",
       "      <td>1.276938</td>\n",
       "    </tr>\n",
       "    <tr>\n",
       "      <th>2008</th>\n",
       "      <td>8740.0</td>\n",
       "      <td>1625.0</td>\n",
       "      <td>3107.0</td>\n",
       "      <td>3552.0</td>\n",
       "      <td>387.0</td>\n",
       "      <td>68.0</td>\n",
       "      <td>1.29</td>\n",
       "      <td>6.763733e+09</td>\n",
       "      <td>1.292186</td>\n",
       "    </tr>\n",
       "    <tr>\n",
       "      <th>2009</th>\n",
       "      <td>8700.0</td>\n",
       "      <td>1582.0</td>\n",
       "      <td>3039.0</td>\n",
       "      <td>3604.0</td>\n",
       "      <td>412.0</td>\n",
       "      <td>63.0</td>\n",
       "      <td>1.27</td>\n",
       "      <td>6.846480e+09</td>\n",
       "      <td>1.270726</td>\n",
       "    </tr>\n",
       "    <tr>\n",
       "      <th>2010</th>\n",
       "      <td>9140.0</td>\n",
       "      <td>1698.0</td>\n",
       "      <td>3100.0</td>\n",
       "      <td>3832.0</td>\n",
       "      <td>445.0</td>\n",
       "      <td>65.0</td>\n",
       "      <td>1.32</td>\n",
       "      <td>6.929725e+09</td>\n",
       "      <td>1.318956</td>\n",
       "    </tr>\n",
       "    <tr>\n",
       "      <th>2011</th>\n",
       "      <td>9449.0</td>\n",
       "      <td>1760.0</td>\n",
       "      <td>3137.0</td>\n",
       "      <td>3997.0</td>\n",
       "      <td>491.0</td>\n",
       "      <td>63.0</td>\n",
       "      <td>1.35</td>\n",
       "      <td>7.013427e+09</td>\n",
       "      <td>1.347273</td>\n",
       "    </tr>\n",
       "  </tbody>\n",
       "</table>\n",
       "<p>261 rows × 9 columns</p>\n",
       "</div>"
      ],
      "text/plain": [
       "      Total Emissions  Gas Emissions  Liquid Emissions  Solid Emissions  \\\n",
       "Year                                                                      \n",
       "1751              3.0            0.0               0.0              3.0   \n",
       "1752              3.0            0.0               0.0              3.0   \n",
       "1753              3.0            0.0               0.0              3.0   \n",
       "1754              3.0            0.0               0.0              3.0   \n",
       "1755              3.0            0.0               0.0              3.0   \n",
       "...               ...            ...               ...              ...   \n",
       "2007           8532.0         1563.0            3080.0           3442.0   \n",
       "2008           8740.0         1625.0            3107.0           3552.0   \n",
       "2009           8700.0         1582.0            3039.0           3604.0   \n",
       "2010           9140.0         1698.0            3100.0           3832.0   \n",
       "2011           9449.0         1760.0            3137.0           3997.0   \n",
       "\n",
       "      Cement Emissions  Flare Emissions  Per Capita Emissions  \\\n",
       "Year                                                            \n",
       "1751               0.0              0.0                   NaN   \n",
       "1752               0.0              0.0                   NaN   \n",
       "1753               0.0              0.0                   NaN   \n",
       "1754               0.0              0.0                   NaN   \n",
       "1755               0.0              0.0                   NaN   \n",
       "...                ...              ...                   ...   \n",
       "2007             382.0             65.0                  1.28   \n",
       "2008             387.0             68.0                  1.29   \n",
       "2009             412.0             63.0                  1.27   \n",
       "2010             445.0             65.0                  1.32   \n",
       "2011             491.0             63.0                  1.35   \n",
       "\n",
       "      World Population  Per Capita Emissions 2  \n",
       "Year                                            \n",
       "1751      8.155185e+08                0.003679  \n",
       "1752      8.194193e+08                0.003661  \n",
       "1753      8.232672e+08                0.003644  \n",
       "1754      8.270645e+08                0.003627  \n",
       "1755      8.308138e+08                0.003611  \n",
       "...                ...                     ...  \n",
       "2007      6.681607e+09                1.276938  \n",
       "2008      6.763733e+09                1.292186  \n",
       "2009      6.846480e+09                1.270726  \n",
       "2010      6.929725e+09                1.318956  \n",
       "2011      7.013427e+09                1.347273  \n",
       "\n",
       "[261 rows x 9 columns]"
      ]
     },
     "execution_count": 69,
     "metadata": {},
     "output_type": "execute_result"
    }
   ],
   "source": [
    "interpolated['Per Capita Emissions 2'] = interpolated['Total Emissions'] / interpolated['World Population'] * 1000000\n",
    "interpolated.loc[1751:2011]"
   ]
  },
  {
   "cell_type": "markdown",
   "metadata": {
    "slideshow": {
     "slide_type": "slide"
    }
   },
   "source": [
    "## Pandas and PySD\n",
    "\n",
    "By default, PySD will return the results of model simulation as a Pandas `DataFrame`, with the column names representing elements of the model, and the index (row names) as timestamps in the model."
   ]
  },
  {
   "cell_type": "code",
   "execution_count": null,
   "metadata": {
    "collapsed": false
   },
   "outputs": [],
   "source": [
    "import pysd\n",
    "model = pysd.read_vensim('../../models/Predator_Prey/Predator_Prey.mdl')\n",
    "sim_result_df = model.run()\n",
    "sim_result_df"
   ]
  },
  {
   "cell_type": "markdown",
   "metadata": {
    "slideshow": {
     "slide_type": "slide"
    }
   },
   "source": [
    "In this case, may want to downsample the returned data to make it more manageable:"
   ]
  },
  {
   "cell_type": "code",
   "execution_count": null,
   "metadata": {
    "collapsed": false
   },
   "outputs": [],
   "source": [
    "sim_result_df.loc[range(50)]"
   ]
  },
  {
   "cell_type": "markdown",
   "metadata": {
    "slideshow": {
     "slide_type": "slide"
    }
   },
   "source": [
    "### Notes\n",
    "\n",
    "[1]: While pandas can handle dimensions larger than two, it is clunky. [Xarray](http://xarray.pydata.org/en/stable/) is a package for handling multidimensional data that interfaces well with Pandas.\n",
    "\n",
    "\n",
    "### Resources\n",
    "- [Basic introduction](http://pandas.pydata.org/pandas-docs/stable/10min.html) to Pandas constructs\n",
    "- [More advanced](http://pandas.pydata.org/pandas-docs/stable/cookbook.html#cookbook) usage of Pandas syntax\n",
    "- [Cookbook of Pandas Applications](https://github.com/jvns/pandas-cookbook)"
   ]
  }
 ],
 "metadata": {
  "celltoolbar": "Slideshow",
  "kernelspec": {
   "display_name": "Python 3.8.10 64-bit",
   "language": "python",
   "name": "python3"
  },
  "language_info": {
   "codemirror_mode": {
    "name": "ipython",
    "version": 2
   },
   "file_extension": ".py",
   "mimetype": "text/x-python",
   "name": "python",
   "nbconvert_exporter": "python",
   "pygments_lexer": "ipython2",
   "version": "3.8.10"
  },
  "vscode": {
   "interpreter": {
    "hash": "916dbcbb3f70747c44a77c7bcd40155683ae19c65e1c03b4aa3499c5328201f1"
   }
  }
 },
 "nbformat": 4,
 "nbformat_minor": 0
}
