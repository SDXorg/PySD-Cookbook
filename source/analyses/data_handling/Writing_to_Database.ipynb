{
 "cells": [
  {
   "cell_type": "markdown",
   "metadata": {},
   "source": [
    "# Saving Simulation Results to a Database\n",
    "\n",
    "There are a number of reasons why you might want to save simulation results to a database:\n",
    "\n",
    "- Observing changes in model output over the course of model development\n",
    "- Cacheing runs of a model to speed later analysis or display, especially in large models\n",
    "- Creating a traceable record of your work\n",
    "\n",
    "It's relatively easy to set up a sequel database and commit runs output to it. This demo uses sqlite, which creates a database in a local file."
   ]
  },
  {
   "cell_type": "code",
   "execution_count": 1,
   "metadata": {},
   "outputs": [],
   "source": [
    "import sqlite3\n",
    "import numpy as np\n",
    "import pysd"
   ]
  },
  {
   "cell_type": "markdown",
   "metadata": {},
   "source": [
    "## Ingredients\n"
   ]
  },
  {
   "cell_type": "markdown",
   "metadata": {},
   "source": [
    "#### Model\n",
    "We'll use the simple teacup model for this experiment, and we'll ask for the value at integer times from `[0..29]`."
   ]
  },
  {
   "cell_type": "code",
   "execution_count": 2,
   "metadata": {},
   "outputs": [],
   "source": [
    "model = pysd.read_vensim('../../models/Teacup/Teacup.mdl')\n",
    "tseries = range(30)"
   ]
  },
  {
   "cell_type": "markdown",
   "metadata": {},
   "source": [
    "#### A database\n",
    "In this example, we'll create a database which will be saved in the working directory as `example.db`. We populate its columns with two columns for storing the parameter values that we'll change from run to run, and then a column for each timestamp value we intend to save:"
   ]
  },
  {
   "cell_type": "code",
   "execution_count": 3,
   "metadata": {},
   "outputs": [],
   "source": [
    "conn = sqlite3.connect('example.db')\n",
    "c = conn.cursor()\n",
    "\n",
    "# Create table\n",
    "c.execute('''CREATE TABLE simulations\n",
    "             (room_temperature real, init_teacup_temperature real, \n",
    "              %s ) '''%', '.join(['t%i real'%i for i in tseries]));"
   ]
  },
  {
   "cell_type": "markdown",
   "metadata": {},
   "source": [
    "####Parameters\n",
    "We want to save the output of our model when driven with a variety of parameters. For demonstration, we'll set these randomly:"
   ]
  },
  {
   "cell_type": "code",
   "execution_count": 4,
   "metadata": {},
   "outputs": [],
   "source": [
    "room_temps = np.random.normal(75, 5, 100)\n",
    "init_tea_temps = np.random.normal(175, 15, 100)"
   ]
  },
  {
   "cell_type": "markdown",
   "metadata": {},
   "source": [
    "## The Recipe\n",
    "\n",
    "We're now ready to simulate our model with the various parameters. After execution, we construct a SQL insert querry containing each of the returned values, and commit it to the database."
   ]
  },
  {
   "cell_type": "code",
   "execution_count": 5,
   "metadata": {},
   "outputs": [],
   "source": [
    "\n",
    "for room_temp, init_tea_temp in zip(room_temps, init_tea_temps):\n",
    "    output = model.run(params={'room_temperature':room_temp}, \n",
    "                       initial_condition=(0,{'teacup_temperature':init_tea_temp}),\n",
    "                       return_timestamps=tseries)\n",
    "    \n",
    "    c.execute(\"INSERT INTO simulations VALUES (%i,%i,%s)\"%\n",
    "              (room_temp, init_tea_temp, ', '.join(output['Teacup Temperature'].apply(str))))\n",
    "\n",
    "    conn.commit()\n"
   ]
  },
  {
   "cell_type": "markdown",
   "metadata": {},
   "source": [
    "We can see that the result was added properly by fetching a record:"
   ]
  },
  {
   "cell_type": "code",
   "execution_count": 6,
   "metadata": {},
   "outputs": [
    {
     "data": {
      "text/plain": [
       "(73.0,\n",
       " 161.0,\n",
       " 161.3004136013599,\n",
       " 152.93211154727877,\n",
       " 145.3649295009812,\n",
       " 138.52217409471785,\n",
       " 132.33449402260226,\n",
       " 126.73917716532998,\n",
       " 121.67951500303411,\n",
       " 117.10422787460355,\n",
       " 112.96694525846864,\n",
       " 109.22573580750158,\n",
       " 105.84268237493694,\n",
       " 102.78349772420083,\n",
       " 100.01717702786915,\n",
       " 97.51568363383308,\n",
       " 95.25366491391246,\n",
       " 93.2081953150439,\n",
       " 91.35854400886798,\n",
       " 89.68596478484497,\n",
       " 88.17350605746613,\n",
       " 86.80583906198456,\n",
       " 85.56910249742967,\n",
       " 84.45076204236265,\n",
       " 83.43948331956555,\n",
       " 82.52501702216168,\n",
       " 81.69809503692045,\n",
       " 80.95033651195727,\n",
       " 80.27416291682422,\n",
       " 79.66272123412638,\n",
       " 79.10981450421062,\n",
       " 78.60983901899793)"
      ]
     },
     "execution_count": 6,
     "metadata": {},
     "output_type": "execute_result"
    }
   ],
   "source": [
    "c.execute('SELECT * FROM simulations')\n",
    "c.fetchone()"
   ]
  },
  {
   "cell_type": "markdown",
   "metadata": {},
   "source": [
    "Finally, we must remember to close our connection to the database:"
   ]
  },
  {
   "cell_type": "code",
   "execution_count": 7,
   "metadata": {},
   "outputs": [],
   "source": [
    "conn.close()"
   ]
  },
  {
   "cell_type": "code",
   "execution_count": 8,
   "metadata": {},
   "outputs": [],
   "source": [
    "#remove the database file when we are finished with it.\n",
    "!rm example.db"
   ]
  }
 ],
 "metadata": {
  "kernelspec": {
   "display_name": "Python 3 (ipykernel)",
   "language": "python",
   "name": "python3"
  },
  "language_info": {
   "codemirror_mode": {
    "name": "ipython",
    "version": 3
   },
   "file_extension": ".py",
   "mimetype": "text/x-python",
   "name": "python",
   "nbconvert_exporter": "python",
   "pygments_lexer": "ipython3",
   "version": "3.7.12"
  }
 },
 "nbformat": 4,
 "nbformat_minor": 1
}
