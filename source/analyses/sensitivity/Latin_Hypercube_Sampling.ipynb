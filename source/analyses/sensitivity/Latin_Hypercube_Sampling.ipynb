{
 "cells": [
  {
   "cell_type": "markdown",
   "metadata": {},
   "source": [
    "# Latin Hyopercube Sampling"
   ]
  },
  {
   "cell_type": "code",
   "execution_count": 1,
   "metadata": {},
   "outputs": [],
   "source": [
    "%matplotlib inline\n",
    "import pysd\n",
    "import numpy as np\n",
    "import pandas as pd\n",
    "import pyDOE\n",
    "import scipy.stats.distributions as dist\n",
    "import multiprocessing"
   ]
  },
  {
   "cell_type": "code",
   "execution_count": 2,
   "metadata": {},
   "outputs": [],
   "source": [
    "model = pysd.read_vensim('../../models/Capability_Trap/Capability Trap.mdl')"
   ]
  },
  {
   "cell_type": "code",
   "execution_count": 3,
   "metadata": {},
   "outputs": [
    {
     "data": {
      "text/html": [
       "<div>\n",
       "<style scoped>\n",
       "    .dataframe tbody tr th:only-of-type {\n",
       "        vertical-align: middle;\n",
       "    }\n",
       "\n",
       "    .dataframe tbody tr th {\n",
       "        vertical-align: top;\n",
       "    }\n",
       "\n",
       "    .dataframe thead th {\n",
       "        text-align: right;\n",
       "    }\n",
       "</style>\n",
       "<table border=\"1\" class=\"dataframe\">\n",
       "  <thead>\n",
       "    <tr style=\"text-align: right;\">\n",
       "      <th></th>\n",
       "      <th>Fraction of Effort for Sales</th>\n",
       "      <th>Startup Subsidy</th>\n",
       "      <th>Startup Subsidy Length</th>\n",
       "    </tr>\n",
       "  </thead>\n",
       "  <tbody>\n",
       "    <tr>\n",
       "      <th>0</th>\n",
       "      <td>0.611800</td>\n",
       "      <td>1.367751</td>\n",
       "      <td>2.058684</td>\n",
       "    </tr>\n",
       "    <tr>\n",
       "      <th>1</th>\n",
       "      <td>0.851258</td>\n",
       "      <td>0.305343</td>\n",
       "      <td>2.631837</td>\n",
       "    </tr>\n",
       "    <tr>\n",
       "      <th>2</th>\n",
       "      <td>0.114397</td>\n",
       "      <td>1.789170</td>\n",
       "      <td>2.471216</td>\n",
       "    </tr>\n",
       "    <tr>\n",
       "      <th>3</th>\n",
       "      <td>0.126074</td>\n",
       "      <td>1.541200</td>\n",
       "      <td>2.653847</td>\n",
       "    </tr>\n",
       "    <tr>\n",
       "      <th>4</th>\n",
       "      <td>0.546046</td>\n",
       "      <td>0.012404</td>\n",
       "      <td>6.980225</td>\n",
       "    </tr>\n",
       "  </tbody>\n",
       "</table>\n",
       "</div>"
      ],
      "text/plain": [
       "   Fraction of Effort for Sales  Startup Subsidy  Startup Subsidy Length\n",
       "0                      0.611800         1.367751                2.058684\n",
       "1                      0.851258         0.305343                2.631837\n",
       "2                      0.114397         1.789170                2.471216\n",
       "3                      0.126074         1.541200                2.653847\n",
       "4                      0.546046         0.012404                6.980225"
      ]
     },
     "execution_count": 3,
     "metadata": {},
     "output_type": "execute_result"
    }
   ],
   "source": [
    "# define the sample space\n",
    "ranges = {'Fraction of Effort for Sales':(0,1),\n",
    "          'Startup Subsidy':(0,2),\n",
    "          'Startup Subsidy Length':(0,12)}\n",
    "\n",
    "# generate LHS samples within the unit square\n",
    "lhs = pyDOE.lhs(n=len(ranges), samples=2000)\n",
    "\n",
    "# transform samples into our sample space\n",
    "samples = pd.DataFrame(\n",
    "    data=dist.uniform(loc=[x[0] for x in ranges.values()],\n",
    "                      scale=[x[1] for x in ranges.values()]).ppf(lhs),\n",
    "    columns=ranges.keys())\n",
    "\n",
    "samples.head()"
   ]
  },
  {
   "cell_type": "code",
   "execution_count": null,
   "metadata": {
    "collapsed": true
   },
   "outputs": [],
   "source": [
    "def runner(params):\n",
    "    market = market_model.run(dict(params),return_columns=['Tenure'])\n",
    "    motiv = motivation_model.run(dict(params),return_columns=['Tenure'])\n",
    "    return pd.Series({'market':market['Tenure'].iloc[-1], \n",
    "                      'motivation':motiv['Tenure'].iloc[-1]})"
   ]
  },
  {
   "cell_type": "code",
   "execution_count": null,
   "metadata": {
    "collapsed": true
   },
   "outputs": [],
   "source": [
    "def _apply_df(args):\n",
    "    df, func, kwargs = args\n",
    "    return df.apply(func, **kwargs)\n",
    "\n",
    "def apply_by_multiprocessing(df, func, workers=multiprocessing.cpu_count(), **kwargs):\n",
    "    pool = multiprocessing.Pool(processes=workers)\n",
    "    result = pool.map(_apply_df, [(d, func, kwargs) for d in np.array_split(df, workers)])\n",
    "    pool.close()\n",
    "    return pd.concat(list(result))\n",
    "\n",
    "res = apply_by_multiprocessing(samples, runner, axis=1)"
   ]
  },
  {
   "cell_type": "code",
   "execution_count": null,
   "metadata": {
    "collapsed": true
   },
   "outputs": [],
   "source": [
    "# define the sample space\n",
    "ranges = {'Fraction of Effort for Sales':(0,1),\n",
    "          'Startup Subsidy':(0,2),\n",
    "          'Startup Subsidy Length':(0,12)}\n",
    "\n",
    "# generate LHS samples within the unit square\n",
    "lhs = pyDOE.lhs(n=len(ranges), samples=2000)\n",
    "\n",
    "# transform samples into our sample space\n",
    "samples = pd.DataFrame(\n",
    "    data=dist.uniform(loc=[x[0] for x in ranges.values()],\n",
    "                      scale=[x[1] for x in ranges.values()]).ppf(lhs),\n",
    "    columns=ranges.keys())\n",
    "\n",
    "samples.head()"
   ]
  }
 ],
 "metadata": {
  "kernelspec": {
   "display_name": "Python 3 (ipykernel)",
   "language": "python",
   "name": "python3"
  },
  "language_info": {
   "codemirror_mode": {
    "name": "ipython",
    "version": 3
   },
   "file_extension": ".py",
   "mimetype": "text/x-python",
   "name": "python",
   "nbconvert_exporter": "python",
   "pygments_lexer": "ipython3",
   "version": "3.7.12"
  }
 },
 "nbformat": 4,
 "nbformat_minor": 1
}
