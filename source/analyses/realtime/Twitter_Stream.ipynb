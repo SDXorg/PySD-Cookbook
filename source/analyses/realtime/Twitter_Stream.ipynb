{
 "cells": [
  {
   "cell_type": "markdown",
   "metadata": {},
   "source": [
    "# Feeding models with realtime streaming data\n",
    "\n",
    "In this example, we'll construct a very simple model of the number of posts relating to a given topic on twitter timelines around the world. We'll feed the model with live streaming data from the twitter API and run the model in real time."
   ]
  },
  {
   "cell_type": "markdown",
   "metadata": {},
   "source": [
    "##Ingredients\n",
    "\n",
    "#### Libraries\n",
    "In addition to our standard data analytics stack, we'll take advantage of the [tweepy](http://tweepy.readthedocs.org/) library for interacting with the twitter API, the standard python library for dealing with [JSON](https://docs.python.org/2/library/json.html) objects, and the standard python [threading](https://docs.python.org/2/library/threading.html) library, to give us access to both the stream and the plots in real time."
   ]
  },
  {
   "cell_type": "code",
   "execution_count": 1,
   "metadata": {},
   "outputs": [
    {
     "name": "stdout",
     "output_type": "stream",
     "text": [
      "Using matplotlib backend: <object object at 0x7f185c12ac20>\n",
      "Populating the interactive namespace from numpy and matplotlib\n"
     ]
    }
   ],
   "source": [
    "%pylab\n",
    "import tweepy\n",
    "import json\n",
    "import pysd\n",
    "import threading\n",
    "from matplotlib import animation"
   ]
  },
  {
   "cell_type": "markdown",
   "metadata": {},
   "source": [
    "#### Twitter Credentials\n",
    "If you want to execute this recipe, you'll need to [sign up for a twitter developer account](https://dev.twitter.com/) and create a file containing your credentials. \n",
    "\n",
    "Name this file `_twitter_credentials.py` and save it in the working directory. It should contain something similar to:\n",
    "\n",
    "    consumer_key = 'sdjfhkdgjhsk8u09wejne4vdj8j34'\n",
    "    consumer_secret = 'nvjsdv8wp43nneri'\n",
    "    access_token = 'vndisoerihosfdbuttonmashingjkfdlasnvei'\n",
    "    access_token_secret = 'navdjewrjodfjkmorebuttonmashingnjkasdoinv'\n",
    "\n",
    "We can load these into our environment using the `import *` syntax."
   ]
  },
  {
   "cell_type": "code",
   "execution_count": 2,
   "metadata": {},
   "outputs": [
    {
     "ename": "ModuleNotFoundError",
     "evalue": "No module named '_twitter_credentials'",
     "output_type": "error",
     "traceback": [
      "\u001b[0;31m---------------------------------------------------------------------------\u001b[0m",
      "\u001b[0;31mModuleNotFoundError\u001b[0m                       Traceback (most recent call last)",
      "\u001b[0;32m/tmp/ipykernel_22050/1999121466.py\u001b[0m in \u001b[0;36m<module>\u001b[0;34m\u001b[0m\n\u001b[0;32m----> 1\u001b[0;31m \u001b[0;32mfrom\u001b[0m \u001b[0m_twitter_credentials\u001b[0m \u001b[0;32mimport\u001b[0m \u001b[0;34m*\u001b[0m\u001b[0;34m\u001b[0m\u001b[0;34m\u001b[0m\u001b[0m\n\u001b[0m",
      "\u001b[0;31mModuleNotFoundError\u001b[0m: No module named '_twitter_credentials'"
     ]
    }
   ],
   "source": [
    "from _twitter_credentials import *"
   ]
  },
  {
   "cell_type": "markdown",
   "metadata": {},
   "source": [
    "#### Model\n",
    "\n",
    "Our model is a simple delay process. The inflow of the process is the rate at which twitter users post messages containing our keywords, and the level decays over time as posts fall out of the top of users timelines.\n",
    "\n",
    "We'll explicitly set the timescale in this demo, to show the behavior of the system in a short timeperiod. "
   ]
  },
  {
   "cell_type": "code",
   "execution_count": 3,
   "metadata": {
    "collapsed": true
   },
   "outputs": [],
   "source": [
    "model = pysd.read_vensim('../../models/Twitter/Twitter.mdl')\n",
    "model.set_components({'displacement_timescale':30})"
   ]
  },
  {
   "cell_type": "markdown",
   "metadata": {},
   "source": [
    "## The Recipe\n",
    "\n",
    "\n",
    "#### Listening to twitter\n",
    "The first thing we'll do is to create a variable that will track the total number of posts recieved in the last model interation timeperiod. This counter will be reset after every model timestep."
   ]
  },
  {
   "cell_type": "code",
   "execution_count": 4,
   "metadata": {
    "collapsed": true
   },
   "outputs": [],
   "source": [
    "counter = 0"
   ]
  },
  {
   "cell_type": "markdown",
   "metadata": {},
   "source": [
    "Next, we'll construct a function that will be run whenever a tweet is recieved from the API. This function will increase the counter value, and format the tweet to print to the screen."
   ]
  },
  {
   "cell_type": "code",
   "execution_count": 5,
   "metadata": {},
   "outputs": [],
   "source": [
    "class TweetListener(tweepy.StreamListener):\n",
    "    def on_data(self, data):\n",
    "        global counter\n",
    "        counter += 1\n",
    "        \n",
    "        # Twitter returns data in JSON format - we need to decode it first\n",
    "        decoded = json.loads(data)\n",
    "\n",
    "        # Also, we convert UTF-8 to ASCII ignoring all bad characters sent by users\n",
    "        print('@%s: %s\\n' % (decoded['user']['screen_name'], decoded['text'].encode('ascii', 'ignore')))\n",
    "        return True\n",
    "\n",
    "    def on_error(self, status):\n",
    "        print(status)"
   ]
  },
  {
   "cell_type": "markdown",
   "metadata": {},
   "source": [
    "The tweepy library manages formatting our credentials for the API request:"
   ]
  },
  {
   "cell_type": "code",
   "execution_count": 6,
   "metadata": {
    "collapsed": true
   },
   "outputs": [],
   "source": [
    "auth = tweepy.OAuthHandler(consumer_key, consumer_secret)\n",
    "auth.set_access_token(access_token, access_token_secret)"
   ]
  },
  {
   "cell_type": "markdown",
   "metadata": {},
   "source": [
    "Finally we create the object that will parse the twitter stream, and start it within its own thread."
   ]
  },
  {
   "cell_type": "code",
   "execution_count": 7,
   "metadata": {
    "collapsed": true
   },
   "outputs": [],
   "source": [
    "stream = tweepy.Stream(auth, TweetListener())\n",
    "\n",
    "t = threading.Thread(target=stream.filter, kwargs={'track':['ISDC', 'PySD', 'ISDC15', 'Trump']})\n",
    "t.daemon = True\n",
    "t.start()"
   ]
  },
  {
   "cell_type": "markdown",
   "metadata": {},
   "source": [
    "#### Animation\n",
    "\n",
    "First we create a function that will be called at every step in the integration:"
   ]
  },
  {
   "cell_type": "code",
   "execution_count": 8,
   "metadata": {},
   "outputs": [
    {
     "name": "stdout",
     "output_type": "stream",
     "text": [
      "@alisonjpotter: RT @queenfeminist: Retweet for Bernie Sanders fav for Hillary Clinton\n",
      "\n",
      "Ignore and Donald Trump wins\n",
      "\n",
      "@MrTommyCampbell: RT @swhammerhead: #WhenTrumpIsElected the letter H will be removed from the American lexicon as Trump doesn't pronounce it anyways.  It wil\n",
      "\n",
      "@JBRichard50: RT @BradThor: \"It's impossible for Perry to have stayed gov of TX for so long if he really is the person we saw in those debates.\" http://t\n",
      "\n",
      "@AdeboyeOriade: RT @politicususa: President Obama Rips Donald Trump, Mike Huckabee, and The Entire Republican Party http://t.co/krMZwVV1u0 via @politicusus\n",
      "\n",
      "@1baldeagle77: The one thing that makes me take Donald Trump seriously as a candidate  Rush Limbaugh http://t.co/VxDAyO8xw7 via @voxdotcom\n",
      "\n"
     ]
    }
   ],
   "source": [
    "#make the animation\n",
    "def animate(t):\n",
    "    global counter\n",
    "    #run the simulation forward\n",
    "    time = model.components.t+dt\n",
    "    model.run({'tweeting':counter}, \n",
    "              return_timestamps=time,\n",
    "              return_columns=['tweeting', 'posts_on_timeline'],\n",
    "              initial_condition='current',\n",
    "              collect=True)\n",
    "    out = model.get_record()\n",
    "    ax.plot(out['tweeting'], 'r', label='Tweeting')\n",
    "    ax.plot(out['posts_on_timeline'], 'b', label='Posts on Timeline')\n",
    "    counter = 0"
   ]
  },
  {
   "cell_type": "markdown",
   "metadata": {},
   "source": [
    "Lastly we set the parameters for the animation, set up the figure, reset the counter (which has been accumulating posts since we ran the first part of the code) and start the animation."
   ]
  },
  {
   "cell_type": "code",
   "execution_count": 9,
   "metadata": {},
   "outputs": [
    {
     "name": "stdout",
     "output_type": "stream",
     "text": [
      "@shehelby: RT @ProBirdRights: How can they say me a bird can not be run for Presindent when Donal Trump a giant talking corn can??? #birb2016\n",
      "\n",
      "@LacrosseUpdate: Hope Hicks flies quietly in the eye of the Trump storm http://t.co/SSUZKcyyiG http://t.co/3MlnhhsEwc\n",
      "\n",
      "@thedancingqueer: RT @queenfeminist: Retweet for Bernie Sanders fav for Hillary Clinton\n",
      "\n",
      "Ignore and Donald Trump wins\n",
      "\n",
      "@BuzzFeedAndrew: \"Never a Bush fan,\" Donald Trump campaigned for H.W. in 1988 held a fundraiser for Jeb in 2002. http://t.co/7S2u6eSyrN\n",
      "\n",
      "@david_alman: Fucking leftist media spends so much time covering Donald Trump's statements from 20 years ago that it neglects like...anything relevant.\n",
      "\n",
      "@kcasa7131: RT @pdacosta: #WhenTrumpIsElected, he might appoint himself as Chairman of the Federal Reserve, and begin to issue Trump dollars. http://t.\n",
      "\n",
      "@presidentrumped: President Trump: Mr Trump is a Gemini this means he is TOTALLY unpredictable! http://t.co/tP5lraAyUH\n",
      "\n",
      "@MicheleUpdate: Nicolle Wallace: Trump Is 'Doing One Thing Really, Really Well' http://t.co/kLfGNkCqyh\n",
      "\n",
      "@jjyorktown: RT @ConanOBrien: Im on vacation. Please keep Trump popular while Im gone, I need him in the debates.\n",
      "\n",
      "@MisaelDiazMLM: .@amazonmex @jcgs68 @amazon Amazon: Dejen de vender los libros de Donald Trump! - Firm la Peti... https://t.co/UMSTq5AxY2 va @Change_M\n",
      "\n",
      "@StrongerForce: RT @BradThor: \"It's impossible for Perry to have stayed gov of TX for so long if he really is the person we saw in those debates.\" http://t\n",
      "\n",
      "@cheyannebiancab: RT @bigmacher: #WhenTrumpIsElected everyone will get a Trump action figure that will buy all your play houses &amp; then goes bankrupt. http://\n",
      "\n",
      "@BigEers: RT @Mediaite: Chris Christie Will No Longer Comment Publicly on Donald Trump http://t.co/UrfQEfGklZ (AUDIO) http://t.co/5fEw69cvM7\n",
      "\n",
      "@_miramira93: RT @SockHimBopHer: Bill Cosby's legacy is dead.. Donald Trump can possibly be the president.. The Klan is traveling like an AAU team.. And \n",
      "\n",
      "@paigekathstev: RT @ConanOBrien: Im on vacation. Please keep Trump popular while Im gone, I need him in the debates.\n",
      "\n",
      "@BMLewis2: RT @GStuedler: I cant see it happening, but in the slim chance it doesa Donald Trump nomination would mean they have completely given up.\n",
      "\n",
      "@DebndanfarrDeb: Donald Trump Surges to Lead in NH GOP Presidential Poll, Erases Another's Iowa Lead - The Political Insider http://t.co/3exB1TrjPJ via\n",
      "\n"
     ]
    },
    {
     "data": {
      "text/plain": [
       "<matplotlib.animation.FuncAnimation at 0x114fc0c90>"
      ]
     },
     "execution_count": 9,
     "metadata": {},
     "output_type": "execute_result"
    }
   ],
   "source": [
    "#set the animation parameters\n",
    "fps=1\n",
    "seconds=60*30\n",
    "dt=1./fps    \n",
    "\n",
    "#set up the plot\n",
    "fig, ax = plt.subplots()\n",
    "ax.set_xlim(0,seconds)\n",
    "title = ax.set_title('Expected Twitter Messages on First Page of Feed')\n",
    "ax.set_xlabel('Seconds')\n",
    "ax.set_ylabel('Posts, Posts/second')\n",
    "    \n",
    "#reset the counter to start fresh.\n",
    "counter=0    \n",
    "    \n",
    "# call the animator.\n",
    "animation.FuncAnimation(fig, animate, repeat=False,\n",
    "                        frames=seconds*fps, interval=1000./fps, \n",
    "                        blit=False)"
   ]
  },
  {
   "cell_type": "code",
   "execution_count": null,
   "metadata": {
    "collapsed": true
   },
   "outputs": [],
   "source": []
  }
 ],
 "metadata": {
  "kernelspec": {
   "display_name": "Python 3 (ipykernel)",
   "language": "python",
   "name": "python3"
  },
  "language_info": {
   "codemirror_mode": {
    "name": "ipython",
    "version": 3
   },
   "file_extension": ".py",
   "mimetype": "text/x-python",
   "name": "python",
   "nbconvert_exporter": "python",
   "pygments_lexer": "ipython3",
   "version": "3.7.12"
  },
  "vscode": {
   "interpreter": {
    "hash": "916dbcbb3f70747c44a77c7bcd40155683ae19c65e1c03b4aa3499c5328201f1"
   }
  }
 },
 "nbformat": 4,
 "nbformat_minor": 1
}
