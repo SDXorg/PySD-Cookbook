{
 "cells": [
  {
   "cell_type": "markdown",
   "metadata": {},
   "source": [
    "# Demo of a KDE plot beside timeseries set"
   ]
  },
  {
   "cell_type": "code",
   "execution_count": 1,
   "metadata": {},
   "outputs": [
    {
     "name": "stdout",
     "output_type": "stream",
     "text": [
      "Populating the interactive namespace from numpy and matplotlib\n"
     ]
    }
   ],
   "source": [
    "%pylab inline\n",
    "import pysd\n",
    "import numpy as np\n",
    "import pandas as pd\n",
    "import seaborn"
   ]
  },
  {
   "cell_type": "markdown",
   "metadata": {},
   "source": [
    "### Load the model using PySD\n",
    "The model is a basic, 1-stock carbon bathtub model"
   ]
  },
  {
   "cell_type": "code",
   "execution_count": 2,
   "metadata": {},
   "outputs": [
    {
     "name": "stdout",
     "output_type": "stream",
     "text": [
      "                   Real Name                    Py Name Subscripts  Units  \\\n",
      "0                  Emissions                  emissions       None   None   \n",
      "1  Excess Atmospheric Carbon  excess_atmospheric_carbon       None   None   \n",
      "2                 FINAL TIME                 final_time       None  Month   \n",
      "3               INITIAL TIME               initial_time       None  Month   \n",
      "4            Natural Removal            natural_removal       None   None   \n",
      "5           Removal Constant           removal_constant       None   None   \n",
      "6                    SAVEPER                    saveper       None  Month   \n",
      "7                  TIME STEP                  time_step       None  Month   \n",
      "8                       Time                       time       None   None   \n",
      "\n",
      "       Limits       Type Subtype                                     Comment  \n",
      "0  (nan, nan)   Constant  Normal                                        None  \n",
      "1  (nan, nan)   Stateful   Integ                                        None  \n",
      "2  (nan, nan)   Constant  Normal          The final time for the simulation.  \n",
      "3  (nan, nan)   Constant  Normal        The initial time for the simulation.  \n",
      "4  (nan, nan)  Auxiliary  Normal                                        None  \n",
      "5  (nan, nan)   Constant  Normal                                        None  \n",
      "6  (0.0, nan)  Auxiliary  Normal  The frequency with which output is stored.  \n",
      "7  (0.0, nan)   Constant  Normal           The time step for the simulation.  \n",
      "8  (nan, nan)       None    None                  Current time of the model.  \n"
     ]
    }
   ],
   "source": [
    "model = pysd.read_vensim('../../models/Climate/Atmospheric_Bathtub.mdl')\n",
    "print(model.doc)"
   ]
  },
  {
   "cell_type": "markdown",
   "metadata": {},
   "source": [
    "### Generate a set of parameters to use as input\n",
    "Here, drawing 100 constant values for the `Emissions` parameter from an exponential distribution"
   ]
  },
  {
   "cell_type": "code",
   "execution_count": 5,
   "metadata": {},
   "outputs": [
    {
     "data": {
      "text/html": [
       "<div>\n",
       "<style scoped>\n",
       "    .dataframe tbody tr th:only-of-type {\n",
       "        vertical-align: middle;\n",
       "    }\n",
       "\n",
       "    .dataframe tbody tr th {\n",
       "        vertical-align: top;\n",
       "    }\n",
       "\n",
       "    .dataframe thead th {\n",
       "        text-align: right;\n",
       "    }\n",
       "</style>\n",
       "<table border=\"1\" class=\"dataframe\">\n",
       "  <thead>\n",
       "    <tr style=\"text-align: right;\">\n",
       "      <th></th>\n",
       "      <th>Emissions</th>\n",
       "    </tr>\n",
       "  </thead>\n",
       "  <tbody>\n",
       "    <tr>\n",
       "      <th>0</th>\n",
       "      <td>30739.241088</td>\n",
       "    </tr>\n",
       "    <tr>\n",
       "      <th>1</th>\n",
       "      <td>19597.098505</td>\n",
       "    </tr>\n",
       "    <tr>\n",
       "      <th>2</th>\n",
       "      <td>30075.873591</td>\n",
       "    </tr>\n",
       "    <tr>\n",
       "      <th>3</th>\n",
       "      <td>623.753990</td>\n",
       "    </tr>\n",
       "    <tr>\n",
       "      <th>4</th>\n",
       "      <td>659.644094</td>\n",
       "    </tr>\n",
       "  </tbody>\n",
       "</table>\n",
       "</div>"
      ],
      "text/plain": [
       "      Emissions\n",
       "0  30739.241088\n",
       "1  19597.098505\n",
       "2  30075.873591\n",
       "3    623.753990\n",
       "4    659.644094"
      ]
     },
     "execution_count": 5,
     "metadata": {},
     "output_type": "execute_result"
    }
   ],
   "source": [
    "n_runs = 100\n",
    "runs = pd.DataFrame({'Emissions': np.random.exponential(scale=10000, size=n_runs)})\n",
    "runs.head()"
   ]
  },
  {
   "cell_type": "markdown",
   "metadata": {},
   "source": [
    "### Run the model with the various parameters"
   ]
  },
  {
   "cell_type": "code",
   "execution_count": 6,
   "metadata": {},
   "outputs": [
    {
     "data": {
      "text/html": [
       "<div>\n",
       "<style scoped>\n",
       "    .dataframe tbody tr th:only-of-type {\n",
       "        vertical-align: middle;\n",
       "    }\n",
       "\n",
       "    .dataframe tbody tr th {\n",
       "        vertical-align: top;\n",
       "    }\n",
       "\n",
       "    .dataframe thead th {\n",
       "        text-align: right;\n",
       "    }\n",
       "</style>\n",
       "<table border=\"1\" class=\"dataframe\">\n",
       "  <thead>\n",
       "    <tr style=\"text-align: right;\">\n",
       "      <th></th>\n",
       "      <th>0</th>\n",
       "      <th>1</th>\n",
       "      <th>2</th>\n",
       "      <th>3</th>\n",
       "      <th>4</th>\n",
       "      <th>5</th>\n",
       "      <th>6</th>\n",
       "      <th>7</th>\n",
       "      <th>8</th>\n",
       "      <th>9</th>\n",
       "      <th>...</th>\n",
       "      <th>90</th>\n",
       "      <th>91</th>\n",
       "      <th>92</th>\n",
       "      <th>93</th>\n",
       "      <th>94</th>\n",
       "      <th>95</th>\n",
       "      <th>96</th>\n",
       "      <th>97</th>\n",
       "      <th>98</th>\n",
       "      <th>99</th>\n",
       "    </tr>\n",
       "  </thead>\n",
       "  <tbody>\n",
       "    <tr>\n",
       "      <th>0</th>\n",
       "      <td>0.000000</td>\n",
       "      <td>0.000000</td>\n",
       "      <td>0.000000</td>\n",
       "      <td>0.000000</td>\n",
       "      <td>0.000000</td>\n",
       "      <td>0.000000</td>\n",
       "      <td>0.000000</td>\n",
       "      <td>0.000000</td>\n",
       "      <td>0.000000</td>\n",
       "      <td>0.000000</td>\n",
       "      <td>...</td>\n",
       "      <td>0.000000</td>\n",
       "      <td>0.000000</td>\n",
       "      <td>0.000000</td>\n",
       "      <td>0.000000</td>\n",
       "      <td>0.000000</td>\n",
       "      <td>0.000000</td>\n",
       "      <td>0.000000</td>\n",
       "      <td>0.000000</td>\n",
       "      <td>0.000000</td>\n",
       "      <td>0.000000</td>\n",
       "    </tr>\n",
       "    <tr>\n",
       "      <th>1</th>\n",
       "      <td>30739.241088</td>\n",
       "      <td>19597.098505</td>\n",
       "      <td>30075.873591</td>\n",
       "      <td>623.753990</td>\n",
       "      <td>659.644094</td>\n",
       "      <td>411.705469</td>\n",
       "      <td>17672.646070</td>\n",
       "      <td>15960.288902</td>\n",
       "      <td>1870.901399</td>\n",
       "      <td>1681.321388</td>\n",
       "      <td>...</td>\n",
       "      <td>3638.205953</td>\n",
       "      <td>4919.785317</td>\n",
       "      <td>1759.569986</td>\n",
       "      <td>1638.519468</td>\n",
       "      <td>2116.223495</td>\n",
       "      <td>28503.985071</td>\n",
       "      <td>3826.219122</td>\n",
       "      <td>543.636820</td>\n",
       "      <td>2100.672416</td>\n",
       "      <td>3600.921744</td>\n",
       "    </tr>\n",
       "    <tr>\n",
       "      <th>2</th>\n",
       "      <td>61171.089765</td>\n",
       "      <td>38998.226026</td>\n",
       "      <td>59850.988445</td>\n",
       "      <td>1241.270441</td>\n",
       "      <td>1312.691748</td>\n",
       "      <td>819.293882</td>\n",
       "      <td>35168.565680</td>\n",
       "      <td>31760.974916</td>\n",
       "      <td>3723.093784</td>\n",
       "      <td>3345.829562</td>\n",
       "      <td>...</td>\n",
       "      <td>7240.029846</td>\n",
       "      <td>9790.372781</td>\n",
       "      <td>3501.544273</td>\n",
       "      <td>3260.653742</td>\n",
       "      <td>4211.284754</td>\n",
       "      <td>56722.930291</td>\n",
       "      <td>7614.176054</td>\n",
       "      <td>1081.837271</td>\n",
       "      <td>4180.338107</td>\n",
       "      <td>7165.834270</td>\n",
       "    </tr>\n",
       "    <tr>\n",
       "      <th>3</th>\n",
       "      <td>91298.619955</td>\n",
       "      <td>58205.342271</td>\n",
       "      <td>89328.352152</td>\n",
       "      <td>1852.611727</td>\n",
       "      <td>1959.208924</td>\n",
       "      <td>1222.806412</td>\n",
       "      <td>52489.526093</td>\n",
       "      <td>47403.654069</td>\n",
       "      <td>5556.764246</td>\n",
       "      <td>4993.692654</td>\n",
       "      <td>...</td>\n",
       "      <td>10805.835500</td>\n",
       "      <td>14612.254371</td>\n",
       "      <td>5226.098817</td>\n",
       "      <td>4866.566672</td>\n",
       "      <td>6285.395401</td>\n",
       "      <td>84659.686059</td>\n",
       "      <td>11364.253415</td>\n",
       "      <td>1614.655718</td>\n",
       "      <td>6239.207142</td>\n",
       "      <td>10695.097671</td>\n",
       "    </tr>\n",
       "    <tr>\n",
       "      <th>4</th>\n",
       "      <td>121124.874843</td>\n",
       "      <td>77220.387354</td>\n",
       "      <td>118510.942221</td>\n",
       "      <td>2457.839600</td>\n",
       "      <td>2599.260929</td>\n",
       "      <td>1622.283817</td>\n",
       "      <td>69637.276902</td>\n",
       "      <td>62889.906430</td>\n",
       "      <td>7372.098002</td>\n",
       "      <td>6625.077116</td>\n",
       "      <td>...</td>\n",
       "      <td>14335.983098</td>\n",
       "      <td>19385.917144</td>\n",
       "      <td>6933.407815</td>\n",
       "      <td>6456.420474</td>\n",
       "      <td>8338.764942</td>\n",
       "      <td>112317.074270</td>\n",
       "      <td>15076.830004</td>\n",
       "      <td>2142.145981</td>\n",
       "      <td>8277.487486</td>\n",
       "      <td>14189.068439</td>\n",
       "    </tr>\n",
       "  </tbody>\n",
       "</table>\n",
       "<p>5 rows × 100 columns</p>\n",
       "</div>"
      ],
      "text/plain": [
       "              0             1              2            3            4   \\\n",
       "0       0.000000      0.000000       0.000000     0.000000     0.000000   \n",
       "1   30739.241088  19597.098505   30075.873591   623.753990   659.644094   \n",
       "2   61171.089765  38998.226026   59850.988445  1241.270441  1312.691748   \n",
       "3   91298.619955  58205.342271   89328.352152  1852.611727  1959.208924   \n",
       "4  121124.874843  77220.387354  118510.942221  2457.839600  2599.260929   \n",
       "\n",
       "            5             6             7            8            9   ...  \\\n",
       "0     0.000000      0.000000      0.000000     0.000000     0.000000  ...   \n",
       "1   411.705469  17672.646070  15960.288902  1870.901399  1681.321388  ...   \n",
       "2   819.293882  35168.565680  31760.974916  3723.093784  3345.829562  ...   \n",
       "3  1222.806412  52489.526093  47403.654069  5556.764246  4993.692654  ...   \n",
       "4  1622.283817  69637.276902  62889.906430  7372.098002  6625.077116  ...   \n",
       "\n",
       "             90            91           92           93           94  \\\n",
       "0      0.000000      0.000000     0.000000     0.000000     0.000000   \n",
       "1   3638.205953   4919.785317  1759.569986  1638.519468  2116.223495   \n",
       "2   7240.029846   9790.372781  3501.544273  3260.653742  4211.284754   \n",
       "3  10805.835500  14612.254371  5226.098817  4866.566672  6285.395401   \n",
       "4  14335.983098  19385.917144  6933.407815  6456.420474  8338.764942   \n",
       "\n",
       "              95            96           97           98            99  \n",
       "0       0.000000      0.000000     0.000000     0.000000      0.000000  \n",
       "1   28503.985071   3826.219122   543.636820  2100.672416   3600.921744  \n",
       "2   56722.930291   7614.176054  1081.837271  4180.338107   7165.834270  \n",
       "3   84659.686059  11364.253415  1614.655718  6239.207142  10695.097671  \n",
       "4  112317.074270  15076.830004  2142.145981  8277.487486  14189.068439  \n",
       "\n",
       "[5 rows x 100 columns]"
      ]
     },
     "execution_count": 6,
     "metadata": {},
     "output_type": "execute_result"
    }
   ],
   "source": [
    "result = runs.apply(lambda p: model.run(params=dict(p))['Excess Atmospheric Carbon'],\n",
    "                    axis=1).T\n",
    "result.head()"
   ]
  },
  {
   "cell_type": "markdown",
   "metadata": {},
   "source": [
    "### Draw a plot showing the results, and a marginal density plot"
   ]
  },
  {
   "cell_type": "code",
   "execution_count": 12,
   "metadata": {},
   "outputs": [
    {
     "data": {
      "image/png": "[encoded data removed]",
      "text/plain": [
       "<Figure size 640x480 with 2 Axes>"
      ]
     },
     "metadata": {},
     "output_type": "display_data"
    }
   ],
   "source": [
    "# left side should have all traces plotted\n",
    "plt.subplot2grid((1,4), loc=(0,0), colspan=3)\n",
    "[plt.plot(result.index, result[i], 'b', alpha=.02) for i in result.columns]\n",
    "plt.ylim(0, max(result.iloc[-1]))\n",
    "\n",
    "# right side has gaussian KDE on last timestamp\n",
    "plt.subplot2grid((1,4), loc=(0,3))\n",
    "seaborn.kdeplot(y=result.iloc[-1])\n",
    "plt.ylim(0, max(result.iloc[-1]));\n",
    "plt.yticks([])\n",
    "plt.xticks([])\n",
    "\n",
    "plt.suptitle('Emissions scenarios under uncertainty', fontsize=16);"
   ]
  },
  {
   "cell_type": "code",
   "execution_count": null,
   "metadata": {},
   "outputs": [],
   "source": []
  }
 ],
 "metadata": {
  "kernelspec": {
   "display_name": "Python 3 (ipykernel)",
   "language": "python",
   "name": "python3"
  },
  "language_info": {
   "codemirror_mode": {
    "name": "ipython",
    "version": 3
   },
   "file_extension": ".py",
   "mimetype": "text/x-python",
   "name": "python",
   "nbconvert_exporter": "python",
   "pygments_lexer": "ipython3",
   "version": "3.7.12"
  }
 },
 "nbformat": 4,
 "nbformat_minor": 1
}
