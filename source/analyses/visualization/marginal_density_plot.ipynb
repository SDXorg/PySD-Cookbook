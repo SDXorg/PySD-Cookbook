{
 "cells": [
  {
   "cell_type": "markdown",
   "metadata": {},
   "source": [
    "# Demo of a KDE plot beside timeseries set"
   ]
  },
  {
   "cell_type": "code",
   "execution_count": 1,
   "metadata": {},
   "outputs": [
    {
     "name": "stdout",
     "output_type": "stream",
     "text": [
      "Populating the interactive namespace from numpy and matplotlib\n"
     ]
    }
   ],
   "source": [
    "%pylab inline\n",
    "import pysd\n",
    "import numpy as np\n",
    "import pandas as pd\n",
    "import seaborn"
   ]
  },
  {
   "cell_type": "markdown",
   "metadata": {},
   "source": [
    "### Load the model using PySD\n",
    "The model is a basic, 1-stock carbon bathtub model"
   ]
  },
  {
   "cell_type": "code",
   "execution_count": 2,
   "metadata": {},
   "outputs": [
    {
     "name": "stdout",
     "output_type": "stream",
     "text": [
      "                   Real Name                    Py Name Subscripts  Units  \\\n",
      "0                  Emissions                  emissions       None   None   \n",
      "1  Excess Atmospheric Carbon  excess_atmospheric_carbon       None   None   \n",
      "2                 FINAL TIME                 final_time       None  Month   \n",
      "3               INITIAL TIME               initial_time       None  Month   \n",
      "4            Natural Removal            natural_removal       None   None   \n",
      "5           Removal Constant           removal_constant       None   None   \n",
      "6                    SAVEPER                    saveper       None  Month   \n",
      "7                  TIME STEP                  time_step       None  Month   \n",
      "8                       Time                       time       None   None   \n",
      "\n",
      "       Limits       Type Subtype                                     Comment  \n",
      "0  (nan, nan)   Constant  Normal                                        None  \n",
      "1  (nan, nan)   Stateful   Integ                                        None  \n",
      "2  (nan, nan)   Constant  Normal          The final time for the simulation.  \n",
      "3  (nan, nan)   Constant  Normal        The initial time for the simulation.  \n",
      "4  (nan, nan)  Auxiliary  Normal                                        None  \n",
      "5  (nan, nan)   Constant  Normal                                        None  \n",
      "6  (0.0, nan)  Auxiliary  Normal  The frequency with which output is stored.  \n",
      "7  (0.0, nan)   Constant  Normal           The time step for the simulation.  \n",
      "8  (nan, nan)       None    None                  Current time of the model.  \n"
     ]
    }
   ],
   "source": [
    "model = pysd.read_vensim('../../models/Climate/Atmospheric_Bathtub.mdl')\n",
    "print(model.doc)"
   ]
  },
  {
   "cell_type": "markdown",
   "metadata": {},
   "source": [
    "### Generate a set of parameters to use as input\n",
    "Here, drawing 100 constant values for the `Emissions` parameter from an exponential distribution"
   ]
  },
  {
   "cell_type": "code",
   "execution_count": 3,
   "metadata": {},
   "outputs": [
    {
     "data": {
      "text/html": [
       "<div>\n",
       "<style scoped>\n",
       "    .dataframe tbody tr th:only-of-type {\n",
       "        vertical-align: middle;\n",
       "    }\n",
       "\n",
       "    .dataframe tbody tr th {\n",
       "        vertical-align: top;\n",
       "    }\n",
       "\n",
       "    .dataframe thead th {\n",
       "        text-align: right;\n",
       "    }\n",
       "</style>\n",
       "<table border=\"1\" class=\"dataframe\">\n",
       "  <thead>\n",
       "    <tr style=\"text-align: right;\">\n",
       "      <th></th>\n",
       "      <th>Emissions</th>\n",
       "    </tr>\n",
       "  </thead>\n",
       "  <tbody>\n",
       "    <tr>\n",
       "      <th>0</th>\n",
       "      <td>207.734860</td>\n",
       "    </tr>\n",
       "    <tr>\n",
       "      <th>1</th>\n",
       "      <td>7109.125870</td>\n",
       "    </tr>\n",
       "    <tr>\n",
       "      <th>2</th>\n",
       "      <td>4768.041210</td>\n",
       "    </tr>\n",
       "    <tr>\n",
       "      <th>3</th>\n",
       "      <td>2191.302602</td>\n",
       "    </tr>\n",
       "    <tr>\n",
       "      <th>4</th>\n",
       "      <td>16930.863016</td>\n",
       "    </tr>\n",
       "  </tbody>\n",
       "</table>\n",
       "</div>"
      ],
      "text/plain": [
       "      Emissions\n",
       "0    207.734860\n",
       "1   7109.125870\n",
       "2   4768.041210\n",
       "3   2191.302602\n",
       "4  16930.863016"
      ]
     },
     "execution_count": 3,
     "metadata": {},
     "output_type": "execute_result"
    }
   ],
   "source": [
    "n_runs = 100\n",
    "runs = pd.DataFrame({'Emissions': np.random.exponential(scale=10000, size=n_runs)})\n",
    "runs.head()"
   ]
  },
  {
   "cell_type": "markdown",
   "metadata": {},
   "source": [
    "### Run the model with the various parameters"
   ]
  },
  {
   "cell_type": "code",
   "execution_count": 4,
   "metadata": {},
   "outputs": [
    {
     "data": {
      "text/html": [
       "<div>\n",
       "<style scoped>\n",
       "    .dataframe tbody tr th:only-of-type {\n",
       "        vertical-align: middle;\n",
       "    }\n",
       "\n",
       "    .dataframe tbody tr th {\n",
       "        vertical-align: top;\n",
       "    }\n",
       "\n",
       "    .dataframe thead th {\n",
       "        text-align: right;\n",
       "    }\n",
       "</style>\n",
       "<table border=\"1\" class=\"dataframe\">\n",
       "  <thead>\n",
       "    <tr style=\"text-align: right;\">\n",
       "      <th></th>\n",
       "      <th>0</th>\n",
       "      <th>1</th>\n",
       "      <th>2</th>\n",
       "      <th>3</th>\n",
       "      <th>4</th>\n",
       "      <th>5</th>\n",
       "      <th>6</th>\n",
       "      <th>7</th>\n",
       "      <th>8</th>\n",
       "      <th>9</th>\n",
       "      <th>...</th>\n",
       "      <th>90</th>\n",
       "      <th>91</th>\n",
       "      <th>92</th>\n",
       "      <th>93</th>\n",
       "      <th>94</th>\n",
       "      <th>95</th>\n",
       "      <th>96</th>\n",
       "      <th>97</th>\n",
       "      <th>98</th>\n",
       "      <th>99</th>\n",
       "    </tr>\n",
       "  </thead>\n",
       "  <tbody>\n",
       "    <tr>\n",
       "      <th>0</th>\n",
       "      <td>0.000000</td>\n",
       "      <td>0.000000</td>\n",
       "      <td>0.000000</td>\n",
       "      <td>0.000000</td>\n",
       "      <td>0.000000</td>\n",
       "      <td>0.000000</td>\n",
       "      <td>0.000000</td>\n",
       "      <td>0.000000</td>\n",
       "      <td>0.000000</td>\n",
       "      <td>0.000000</td>\n",
       "      <td>...</td>\n",
       "      <td>0.000000</td>\n",
       "      <td>0.000000</td>\n",
       "      <td>0.000000</td>\n",
       "      <td>0.000000</td>\n",
       "      <td>0.000000</td>\n",
       "      <td>0.000000</td>\n",
       "      <td>0.000000</td>\n",
       "      <td>0.000000</td>\n",
       "      <td>0.000000</td>\n",
       "      <td>0.000000</td>\n",
       "    </tr>\n",
       "    <tr>\n",
       "      <th>1</th>\n",
       "      <td>207.734860</td>\n",
       "      <td>7109.125870</td>\n",
       "      <td>4768.041210</td>\n",
       "      <td>2191.302602</td>\n",
       "      <td>16930.863016</td>\n",
       "      <td>14676.223891</td>\n",
       "      <td>2058.091604</td>\n",
       "      <td>9229.459073</td>\n",
       "      <td>1215.333008</td>\n",
       "      <td>22711.067942</td>\n",
       "      <td>...</td>\n",
       "      <td>5438.319103</td>\n",
       "      <td>13029.384661</td>\n",
       "      <td>28268.791836</td>\n",
       "      <td>7543.867757</td>\n",
       "      <td>12566.422839</td>\n",
       "      <td>1565.757571</td>\n",
       "      <td>1029.656855</td>\n",
       "      <td>2802.757320</td>\n",
       "      <td>18335.083353</td>\n",
       "      <td>3311.616813</td>\n",
       "    </tr>\n",
       "    <tr>\n",
       "      <th>2</th>\n",
       "      <td>413.392371</td>\n",
       "      <td>14147.160482</td>\n",
       "      <td>9488.402008</td>\n",
       "      <td>4360.692179</td>\n",
       "      <td>33692.417401</td>\n",
       "      <td>29205.685543</td>\n",
       "      <td>4095.602292</td>\n",
       "      <td>18366.623556</td>\n",
       "      <td>2418.512686</td>\n",
       "      <td>45195.025205</td>\n",
       "      <td>...</td>\n",
       "      <td>10822.255014</td>\n",
       "      <td>25928.475475</td>\n",
       "      <td>56254.895754</td>\n",
       "      <td>15012.296837</td>\n",
       "      <td>25007.181449</td>\n",
       "      <td>3115.857566</td>\n",
       "      <td>2049.017141</td>\n",
       "      <td>5577.487067</td>\n",
       "      <td>36486.815873</td>\n",
       "      <td>6590.117458</td>\n",
       "    </tr>\n",
       "    <tr>\n",
       "      <th>3</th>\n",
       "      <td>616.993307</td>\n",
       "      <td>21114.814748</td>\n",
       "      <td>14161.559198</td>\n",
       "      <td>6508.387860</td>\n",
       "      <td>50286.356243</td>\n",
       "      <td>43589.852579</td>\n",
       "      <td>6112.737873</td>\n",
       "      <td>27412.416393</td>\n",
       "      <td>3609.660567</td>\n",
       "      <td>67454.142895</td>\n",
       "      <td>...</td>\n",
       "      <td>16152.351567</td>\n",
       "      <td>38698.575381</td>\n",
       "      <td>83961.138633</td>\n",
       "      <td>22406.041626</td>\n",
       "      <td>37323.532473</td>\n",
       "      <td>4650.456561</td>\n",
       "      <td>3058.183825</td>\n",
       "      <td>8324.469516</td>\n",
       "      <td>54457.031068</td>\n",
       "      <td>9835.833097</td>\n",
       "    </tr>\n",
       "    <tr>\n",
       "      <th>4</th>\n",
       "      <td>818.558233</td>\n",
       "      <td>28012.792471</td>\n",
       "      <td>18787.984817</td>\n",
       "      <td>8634.606583</td>\n",
       "      <td>66714.355696</td>\n",
       "      <td>57830.177944</td>\n",
       "      <td>8109.702098</td>\n",
       "      <td>36367.751302</td>\n",
       "      <td>4788.896970</td>\n",
       "      <td>89490.669408</td>\n",
       "      <td>...</td>\n",
       "      <td>21429.147154</td>\n",
       "      <td>51340.974288</td>\n",
       "      <td>111390.319083</td>\n",
       "      <td>29725.848967</td>\n",
       "      <td>49516.719987</td>\n",
       "      <td>6169.709566</td>\n",
       "      <td>4057.258842</td>\n",
       "      <td>11043.982140</td>\n",
       "      <td>72247.544111</td>\n",
       "      <td>13049.091579</td>\n",
       "    </tr>\n",
       "  </tbody>\n",
       "</table>\n",
       "<p>5 rows × 100 columns</p>\n",
       "</div>"
      ],
      "text/plain": [
       "           0             1             2            3             4   \\\n",
       "0    0.000000      0.000000      0.000000     0.000000      0.000000   \n",
       "1  207.734860   7109.125870   4768.041210  2191.302602  16930.863016   \n",
       "2  413.392371  14147.160482   9488.402008  4360.692179  33692.417401   \n",
       "3  616.993307  21114.814748  14161.559198  6508.387860  50286.356243   \n",
       "4  818.558233  28012.792471  18787.984817  8634.606583  66714.355696   \n",
       "\n",
       "             5            6             7            8             9   ...  \\\n",
       "0      0.000000     0.000000      0.000000     0.000000      0.000000  ...   \n",
       "1  14676.223891  2058.091604   9229.459073  1215.333008  22711.067942  ...   \n",
       "2  29205.685543  4095.602292  18366.623556  2418.512686  45195.025205  ...   \n",
       "3  43589.852579  6112.737873  27412.416393  3609.660567  67454.142895  ...   \n",
       "4  57830.177944  8109.702098  36367.751302  4788.896970  89490.669408  ...   \n",
       "\n",
       "             90            91             92            93            94  \\\n",
       "0      0.000000      0.000000       0.000000      0.000000      0.000000   \n",
       "1   5438.319103  13029.384661   28268.791836   7543.867757  12566.422839   \n",
       "2  10822.255014  25928.475475   56254.895754  15012.296837  25007.181449   \n",
       "3  16152.351567  38698.575381   83961.138633  22406.041626  37323.532473   \n",
       "4  21429.147154  51340.974288  111390.319083  29725.848967  49516.719987   \n",
       "\n",
       "            95           96            97            98            99  \n",
       "0     0.000000     0.000000      0.000000      0.000000      0.000000  \n",
       "1  1565.757571  1029.656855   2802.757320  18335.083353   3311.616813  \n",
       "2  3115.857566  2049.017141   5577.487067  36486.815873   6590.117458  \n",
       "3  4650.456561  3058.183825   8324.469516  54457.031068   9835.833097  \n",
       "4  6169.709566  4057.258842  11043.982140  72247.544111  13049.091579  \n",
       "\n",
       "[5 rows x 100 columns]"
      ]
     },
     "execution_count": 4,
     "metadata": {},
     "output_type": "execute_result"
    }
   ],
   "source": [
    "result = runs.apply(lambda p: model.run(params=dict(p))['Excess Atmospheric Carbon'],\n",
    "                    axis=1).T\n",
    "result.head()"
   ]
  },
  {
   "cell_type": "markdown",
   "metadata": {},
   "source": [
    "### Draw a plot showing the results, and a marginal density plot"
   ]
  },
  {
   "cell_type": "code",
   "execution_count": 5,
   "metadata": {},
   "outputs": [
    {
     "data": {
      "image/png": "[encoded data removed]",
      "text/plain": [
       "<Figure size 640x480 with 2 Axes>"
      ]
     },
     "metadata": {},
     "output_type": "display_data"
    }
   ],
   "source": [
    "# left side should have all traces plotted\n",
    "plt.subplot2grid((1,4), loc=(0,0), colspan=3)\n",
    "[plt.plot(result.index, result[i], 'b', alpha=.02) for i in result.columns]\n",
    "plt.ylim(0, max(result.iloc[-1]))\n",
    "\n",
    "# right side has gaussian KDE on last timestamp\n",
    "plt.subplot2grid((1,4), loc=(0,3))\n",
    "seaborn.kdeplot(y=result.iloc[-1])\n",
    "plt.ylim(0, max(result.iloc[-1]));\n",
    "plt.yticks([])\n",
    "plt.xticks([])\n",
    "\n",
    "plt.suptitle('Emissions scenarios under uncertainty', fontsize=16);"
   ]
  }
 ],
 "metadata": {
  "kernelspec": {
   "display_name": "Python 3 (ipykernel)",
   "language": "python",
   "name": "python3"
  },
  "language_info": {
   "codemirror_mode": {
    "name": "ipython",
    "version": 3
   },
   "file_extension": ".py",
   "mimetype": "text/x-python",
   "name": "python",
   "nbconvert_exporter": "python",
   "pygments_lexer": "ipython3",
   "version": "3.7.12"
  }
 },
 "nbformat": 4,
 "nbformat_minor": 1
}
