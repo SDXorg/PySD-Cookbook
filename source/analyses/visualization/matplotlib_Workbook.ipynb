{
 "cells": [
  {
   "cell_type": "markdown",
   "metadata": {
    "slideshow": {
     "slide_type": "slide"
    }
   },
   "source": [
    "# Basic Visualization with `matplotlib`\n",
    "\n",
    "Python's most commonly used plotting library is [matplotlib](http://matplotlib.org/). The library has an interface which mirrors that of Mathworks' [Matlab](http://www.mathworks.com/help/matlab/2-and-3d-plots.html) software, and so those with matlab familiarity will find themselves already high up on the learning curve."
   ]
  },
  {
   "cell_type": "markdown",
   "metadata": {
    "slideshow": {
     "slide_type": "slide"
    }
   },
   "source": [
    "### Loading `matplotlib` and setting up the notebook environment\n",
    "The matplotlib plotting library has a [magic](https://ipython.org/ipython-doc/3/interactive/magics.html#magic-pylab) connection with the iPython shell and the notebook environment that allows static images of plots to be rendered in the notebook. Instead of using the normal `import ...` syntax, we'll use this iPython 'magic' to not only import the library, but set up the environment we'll need to create plots.\n"
   ]
  },
  {
   "cell_type": "code",
   "execution_count": null,
   "metadata": {},
   "outputs": [],
   "source": [
    "%pylab inline"
   ]
  },
  {
   "cell_type": "markdown",
   "metadata": {
    "slideshow": {
     "slide_type": "slide"
    }
   },
   "source": [
    "### Load data to plot\n",
    "We'll use the emissions data we saw before in the Pandas tutorial, as it's familiar:"
   ]
  },
  {
   "cell_type": "code",
   "execution_count": null,
   "metadata": {},
   "outputs": [],
   "source": [
    "import pandas as pd\n",
    "emissions = pd.read_csv('../../data/Climate/global_emissions.csv', \n",
    "                        skiprows=2, index_col='Year',\n",
    "                        names=['Year', 'Total Emissions', \n",
    "                               'Gas Emissions', 'Liquid Emissions', \n",
    "                               'Solid Emissions', 'Cement Emissions', \n",
    "                               'Flare Emissions', 'Per Capita Emissions'])\n",
    "\n",
    "emissions.head(3)"
   ]
  },
  {
   "cell_type": "markdown",
   "metadata": {
    "slideshow": {
     "slide_type": "slide"
    }
   },
   "source": [
    "### Basic plotting\n",
    "The basic plot command takes as its first two arguments the x and y values of the points which we wish to plot:"
   ]
  },
  {
   "cell_type": "code",
   "execution_count": null,
   "metadata": {},
   "outputs": [],
   "source": [
    "plt.plot(emissions.index, emissions['<<..>>']);  # choose a column to plot by substituting its name"
   ]
  },
  {
   "cell_type": "markdown",
   "metadata": {
    "slideshow": {
     "slide_type": "subslide"
    }
   },
   "source": [
    "### Labeling axes and title\n",
    "Following out plot command we can submit commands to [add text to the figure](http://matplotlib.org/users/pyplot_tutorial.html#working-with-text), such as adding labels to the x and y axes, and a title to the figure."
   ]
  },
  {
   "cell_type": "code",
   "execution_count": null,
   "metadata": {},
   "outputs": [],
   "source": [
    "plt.plot(emissions.index, emissions['Total Emissions'])\n",
    "plt.xlabel('Year')\n",
    "plt.ylabel('Million Metric Tons CO2/Year')\n",
    "plt.title('<<..>>', fontsize=18);  # Title your plot"
   ]
  },
  {
   "cell_type": "markdown",
   "metadata": {
    "slideshow": {
     "slide_type": "subslide"
    }
   },
   "source": [
    "### Changing line properties\n",
    "We can include various elements into the plot command to [specify how the line will look](http://matplotlib.org/users/pyplot_tutorial.html#controlling-line-properties):"
   ]
  },
  {
   "cell_type": "code",
   "execution_count": null,
   "metadata": {},
   "outputs": [],
   "source": [
    "plt.plot(emissions.index, emissions['Total Emissions'], 'ro', alpha=<<..>>);  # choose a value for opacity from 0..1"
   ]
  },
  {
   "cell_type": "markdown",
   "metadata": {
    "slideshow": {
     "slide_type": "subslide"
    }
   },
   "source": [
    "### Specifying axis bounds\n",
    "We can specify that we want our plot to be bounded by various x and y values:"
   ]
  },
  {
   "cell_type": "code",
   "execution_count": null,
   "metadata": {},
   "outputs": [],
   "source": [
    "plt.plot(emissions.index, emissions['Total Emissions'])\n",
    "plt.xlim(<<..>>,<<..>>)  # substitute start and end dates\n",
    "plt.ylim(1500,7500);"
   ]
  },
  {
   "cell_type": "markdown",
   "metadata": {
    "slideshow": {
     "slide_type": "subslide"
    }
   },
   "source": [
    "### Multiple lines\n",
    "We can add lines to our plot simply by adding additional calls to the plot function. Passing the plot function an argument called 'label' allows us to format a [legend](http://matplotlib.org/users/legend_guide.html) with appropriate references to each line:"
   ]
  },
  {
   "cell_type": "code",
   "execution_count": null,
   "metadata": {},
   "outputs": [],
   "source": [
    "plt.plot(emissions.index, emissions['Liquid Emissions'], '<<..>>', label='Liquid')  # chose a color (r,g,b,c,y,m,k)\n",
    "plt.plot(emissions.index, emissions['Solid Emissions'], '<<..>>', label='Solid')  # chose a color (r,g,b,c,y,m,k)\n",
    "plt.plot(emissions.index, emissions['Gas Emissions'], '<<..>>', label='Gas')  # chose a color (r,g,b,c,y,m,k)\n",
    "plt.legend(loc='upper left');"
   ]
  },
  {
   "cell_type": "markdown",
   "metadata": {
    "slideshow": {
     "slide_type": "subslide"
    }
   },
   "source": [
    "### Other plot types\n",
    "\n",
    "There are a number of other plot types available, such as histograms, radial plots, plots with logarithmic axes, or stackplots:"
   ]
  },
  {
   "cell_type": "code",
   "execution_count": null,
   "metadata": {},
   "outputs": [],
   "source": [
    "plt.stackplot(emissions.index, [emissions['Liquid Emissions'], \n",
    "                                emissions['Gas Emissions'],\n",
    "                                emissions['Solid Emissions']],\n",
    "             labels=['Liquid', 'Gas', 'Solid'])\n",
    "plt.legend(loc='upper left');"
   ]
  },
  {
   "cell_type": "markdown",
   "metadata": {
    "slideshow": {
     "slide_type": "subslide"
    }
   },
   "source": [
    "### Saving figures\n",
    "We can save a figure to the disk by calling matplotlib's `savefig` function:"
   ]
  },
  {
   "cell_type": "code",
   "execution_count": null,
   "metadata": {},
   "outputs": [],
   "source": [
    "plt.plot(emissions.index, emissions['Total Emissions'])\n",
    "plt.savefig('<<...>>.png')  # Name your file"
   ]
  },
  {
   "cell_type": "markdown",
   "metadata": {
    "slideshow": {
     "slide_type": "slide"
    }
   },
   "source": [
    "## Matplotlib and Pandas\n",
    "Pandas uses matplot lib to provide a basic plotting interface of its own. The dataframe we have been working with has a convenience method called `.plot()`, which assumes some basic format for how you would like your data presented, and tries to do so for you. \n",
    "\n",
    "This is handy when you are just interested in having a quick look at your data, without going to the trouble to create finished plots.\n"
   ]
  },
  {
   "cell_type": "code",
   "execution_count": null,
   "metadata": {},
   "outputs": [],
   "source": [
    "emissions.plot();"
   ]
  },
  {
   "cell_type": "markdown",
   "metadata": {
    "slideshow": {
     "slide_type": "subslide"
    }
   },
   "source": [
    "The Dataframe's wrapper of matplotlib gives us a number of basic options for how our plots are shown:"
   ]
  },
  {
   "cell_type": "code",
   "execution_count": null,
   "metadata": {},
   "outputs": [],
   "source": [
    "emissions.plot(subplots=True, figsize=(10,6));"
   ]
  },
  {
   "cell_type": "markdown",
   "metadata": {
    "slideshow": {
     "slide_type": "slide"
    }
   },
   "source": [
    "## Matplotlib and PySD\n",
    "As PySD returns a Pandas Dataframe, we can either use the plotting interface directly, or Pandas's convenience wrapper. Here we'll load a model which produces a chaotic output in three dimensions to use in our demonstration."
   ]
  },
  {
   "cell_type": "code",
   "execution_count": null,
   "metadata": {},
   "outputs": [],
   "source": [
    "import pysd\n",
    "model = pysd.read_vensim('../../models/Roessler_Chaos/roessler_chaos.mdl')\n",
    "res = model.run()\n",
    "res.head()"
   ]
  },
  {
   "cell_type": "markdown",
   "metadata": {
    "slideshow": {
     "slide_type": "subslide"
    }
   },
   "source": [
    "Plotting vs. time."
   ]
  },
  {
   "cell_type": "code",
   "execution_count": null,
   "metadata": {},
   "outputs": [],
   "source": [
    "plt.plot(res.index, res['x'], 'r')\n",
    "plt.plot(res.index, res['y'], 'b')\n",
    "plt.plot(res.index, res['z'], 'g');"
   ]
  },
  {
   "cell_type": "markdown",
   "metadata": {
    "collapsed": true,
    "slideshow": {
     "slide_type": "subslide"
    }
   },
   "source": [
    "Plotting variables against one another"
   ]
  },
  {
   "cell_type": "code",
   "execution_count": null,
   "metadata": {},
   "outputs": [],
   "source": [
    "plt.plot(res['x'], res['y']);"
   ]
  },
  {
   "cell_type": "markdown",
   "metadata": {
    "slideshow": {
     "slide_type": "subslide"
    }
   },
   "source": [
    "While so far I have shown mostly basic, 2d plots, we can also call on [matplotlib's 3d plotting engine](http://matplotlib.org/mpl_toolkits/mplot3d/tutorial.html#line-plots)"
   ]
  },
  {
   "cell_type": "code",
   "execution_count": null,
   "metadata": {},
   "outputs": [],
   "source": [
    "import matplotlib.pyplot as plt\n",
    "from mpl_toolkits.mplot3d import Axes3D\n",
    "fig = plt.figure()\n",
    "ax = fig.add_subplot(111, projection='3d')\n",
    "\n",
    "ax.plot(res['x'], res['y'], res['z']);"
   ]
  },
  {
   "cell_type": "markdown",
   "metadata": {
    "slideshow": {
     "slide_type": "slide"
    }
   },
   "source": [
    "## Resources\n",
    "- [Gallery](http://matplotlib.org/gallery.html) of different matplotlib graphics, showing what types of plots are possible.\n",
    "- Getting started with matplotlib [video series](https://www.youtube.com/watch?v=q7Bo_J8x_dw&list=PLQVvvaa0QuDfefDfXb9Yf0la1fPDKluPF)"
   ]
  }
 ],
 "metadata": {
  "kernelspec": {
   "display_name": "Python 3 (ipykernel)",
   "language": "python",
   "name": "python3"
  },
  "language_info": {
   "codemirror_mode": {
    "name": "ipython",
    "version": 3
   },
   "file_extension": ".py",
   "mimetype": "text/x-python",
   "name": "python",
   "nbconvert_exporter": "python",
   "pygments_lexer": "ipython3",
   "version": "3.7.12"
  }
 },
 "nbformat": 4,
 "nbformat_minor": 1
}
