{
 "cells": [
  {
   "cell_type": "markdown",
   "metadata": {},
   "source": [
    "# Baby Name Data\n",
    "\n",
    "This notebook formats data from the social security administration [baby names database](http://www.ssa.gov/oact/babynames/limits.html) into a format that is easy for the cookbook to deal with.\n",
    "It expects the zip file to be unpacked into a subfolder called 'names'. "
   ]
  },
  {
   "cell_type": "code",
   "execution_count": 1,
   "metadata": {},
   "outputs": [],
   "source": [
    "import pandas as pd\n",
    "import glob"
   ]
  },
  {
   "cell_type": "code",
   "execution_count": 2,
   "metadata": {},
   "outputs": [],
   "source": [
    "filenames = glob.glob('names/yob*')"
   ]
  },
  {
   "cell_type": "code",
   "execution_count": 3,
   "metadata": {},
   "outputs": [],
   "source": [
    "females = pd.DataFrame()\n",
    "males = pd.DataFrame()\n",
    "\n",
    "for filename in filenames:\n",
    "    year = filename[9:13]\n",
    "    data = pd.read_csv(filename, header=None, names=['Name','Gender',year], index_col='Name')\n",
    "    females = females.join(data[data['Gender']=='F'].drop('Gender', axis=1), how='outer')\n",
    "    males = males.join(data[data['Gender']=='M'].drop('Gender', axis=1), how='outer')\n",
    "\n",
    "females.to_csv('female_names_timeseries.csv')\n",
    "males.to_csv('male_names_timeseries.csv')"
   ]
  }
 ],
 "metadata": {
  "kernelspec": {
   "display_name": "Python 3 (ipykernel)",
   "language": "python",
   "name": "python3"
  },
  "language_info": {
   "codemirror_mode": {
    "name": "ipython",
    "version": 3
   },
   "file_extension": ".py",
   "mimetype": "text/x-python",
   "name": "python",
   "nbconvert_exporter": "python",
   "pygments_lexer": "ipython3",
   "version": "3.7.12"
  },
  "vscode": {
   "interpreter": {
    "hash": "916dbcbb3f70747c44a77c7bcd40155683ae19c65e1c03b4aa3499c5328201f1"
   }
  }
 },
 "nbformat": 4,
 "nbformat_minor": 1
}
