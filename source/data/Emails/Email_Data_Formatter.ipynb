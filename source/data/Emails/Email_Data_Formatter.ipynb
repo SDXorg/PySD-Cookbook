{
 "cells": [
  {
   "cell_type": "markdown",
   "metadata": {},
   "source": [
    "# Parse gmail `.mbox` file\n",
    "\n",
    "This notebook takes an archive of gmail messages and from them extracts a value for the time between when a conversation involving the account holder begins, and when they first reply, or join the conversation.\n",
    "\n",
    "To download an `.mbox` file from gmail, containing an archive of your email messages, visit https://takeout.google.com/settings/takeout. (This is valid as of Feb 2016 - however this may not always be the case!)\n",
    "\n",
    "A lot of the message headers are described here: http://www.ietf.org/rfc/rfc2076.txt\n",
    "\n",
    "The python standard library has a module for dealing with this type of file, which we'll draw on extensively, along with pandas."
   ]
  },
  {
   "cell_type": "code",
   "execution_count": 5,
   "metadata": {
    "collapsed": false
   },
   "outputs": [
    {
     "name": "stdout",
     "output_type": "stream",
     "text": [
      "Populating the interactive namespace from numpy and matplotlib\n"
     ]
    }
   ],
   "source": [
    "%pylab inline\n",
    "import mailbox\n",
    "import pandas as pd"
   ]
  },
  {
   "cell_type": "code",
   "execution_count": 2,
   "metadata": {
    "collapsed": false
   },
   "outputs": [],
   "source": [
    "mb = mailbox.mbox('All mail Including Spam and Trash.mbox')"
   ]
  },
  {
   "cell_type": "markdown",
   "metadata": {},
   "source": [
    "### Step 1: extract relevant information from mbox file\n",
    "\n",
    "In this analysis we will want to group messages according to the conversation they are a part of. Gmail makes this easy for us as one of the message attributes, `X-GM-THRID`, is a unique thread identifier, assigned by google as it compiles messages together into conversation threads. \n",
    "\n",
    "We'll also want the field `X-Gmail-Labels`, which will tell us if the message is categorized as *Sent*, so that we can distinguish it from messages that were recieved by the account holder. Lastly, we want the date and time that the message was sent: `Date`. \n",
    "\n",
    "We don't need any information about the content of the message, or even who it was to or from."
   ]
  },
  {
   "cell_type": "code",
   "execution_count": 3,
   "metadata": {
    "collapsed": false
   },
   "outputs": [
    {
     "name": "stdout",
     "output_type": "stream",
     "text": [
      "127005 messages\n",
      "****************************************************************************************************\n"
     ]
    },
    {
     "data": {
      "text/plain": [
       "[{'Date': 'Mon, 07 Sep 2015 23:45:16 +0000',\n",
       "  'X-GM-THRID': '1511700066770539101',\n",
       "  'X-Gmail-Labels': 'Important'},\n",
       " {'Date': 'Wed, 9 Sep 2015 08:56:18 -0400',\n",
       "  'X-GM-THRID': '1511700066770539101',\n",
       "  'X-Gmail-Labels': 'Important'},\n",
       " {'Date': 'Wed, 9 Sep 2015 09:53:19 +0000',\n",
       "  'X-GM-THRID': '1511828916942046097',\n",
       "  'X-Gmail-Labels': 'Important'}]"
      ]
     },
     "execution_count": 3,
     "metadata": {},
     "output_type": "execute_result"
    }
   ],
   "source": [
    "keys = ['Date', 'X-Gmail-Labels', 'X-GM-THRID']\n",
    "message_list = []\n",
    "\n",
    "for message in mb.itervalues():\n",
    "    dmessage = dict(message.items())\n",
    "    message_list.append({key:dmessage[key] if key in dmessage.keys() else '' for key in keys})\n",
    "\n",
    "print(len(message_list), 'messages')\n",
    "print('**'*50)\n",
    "message_list[:3]"
   ]
  },
  {
   "cell_type": "code",
   "execution_count": 4,
   "metadata": {
    "collapsed": false
   },
   "outputs": [
    {
     "name": "stdout",
     "output_type": "stream",
     "text": [
      "(127005, 2)\n"
     ]
    },
    {
     "data": {
      "text/html": [
       "<div>\n",
       "<table border=\"1\" class=\"dataframe\">\n",
       "  <thead>\n",
       "    <tr style=\"text-align: right;\">\n",
       "      <th></th>\n",
       "      <th>X-GM-THRID</th>\n",
       "      <th>X-Gmail-Labels</th>\n",
       "    </tr>\n",
       "    <tr>\n",
       "      <th>Date</th>\n",
       "      <th></th>\n",
       "      <th></th>\n",
       "    </tr>\n",
       "  </thead>\n",
       "  <tbody>\n",
       "    <tr>\n",
       "      <th>2015-09-07 23:45:16</th>\n",
       "      <td>1511700066770539101</td>\n",
       "      <td>Important</td>\n",
       "    </tr>\n",
       "    <tr>\n",
       "      <th>2015-09-09 12:56:18</th>\n",
       "      <td>1511700066770539101</td>\n",
       "      <td>Important</td>\n",
       "    </tr>\n",
       "    <tr>\n",
       "      <th>2015-09-09 09:53:19</th>\n",
       "      <td>1511828916942046097</td>\n",
       "      <td>Important</td>\n",
       "    </tr>\n",
       "    <tr>\n",
       "      <th>2015-09-09 01:27:24</th>\n",
       "      <td>1511797100113048401</td>\n",
       "      <td>Important</td>\n",
       "    </tr>\n",
       "    <tr>\n",
       "      <th>2015-09-09 00:08:23</th>\n",
       "      <td>1511793662558459198</td>\n",
       "      <td>Unread</td>\n",
       "    </tr>\n",
       "  </tbody>\n",
       "</table>\n",
       "</div>"
      ],
      "text/plain": [
       "                              X-GM-THRID X-Gmail-Labels\n",
       "Date                                                   \n",
       "2015-09-07 23:45:16  1511700066770539101      Important\n",
       "2015-09-09 12:56:18  1511700066770539101      Important\n",
       "2015-09-09 09:53:19  1511828916942046097      Important\n",
       "2015-09-09 01:27:24  1511797100113048401      Important\n",
       "2015-09-09 00:08:23  1511793662558459198         Unread"
      ]
     },
     "execution_count": 4,
     "metadata": {},
     "output_type": "execute_result"
    }
   ],
   "source": [
    "messages = pd.DataFrame(message_list)\n",
    "messages.index = messages['Date'].apply(lambda x: pd.to_datetime(x, errors='coerce'))\n",
    "messages.drop(['Date'], axis=1, inplace=True)\n",
    "print(messages.shape)\n",
    "messages.head()"
   ]
  },
  {
   "cell_type": "markdown",
   "metadata": {},
   "source": [
    "### Step 2: group the messages by thread\n",
    "\n",
    "We'll begin by grouping the messages into their various threads."
   ]
  },
  {
   "cell_type": "code",
   "execution_count": 9,
   "metadata": {
    "collapsed": false
   },
   "outputs": [
    {
     "name": "stdout",
     "output_type": "stream",
     "text": [
      "32966 threads total\n"
     ]
    },
    {
     "data": {
      "text/plain": [
       "<matplotlib.text.Text at 0x10ca707d0>"
      ]
     },
     "execution_count": 9,
     "metadata": {},
     "output_type": "execute_result"
    },
    {
     "data": {
      "image/png": "[encoded data removed]",
      "text/plain": [
       "<matplotlib.figure.Figure at 0x10e6b31d0>"
      ]
     },
     "metadata": {},
     "output_type": "display_data"
    }
   ],
   "source": [
    "conversation_list = []\n",
    "threads = messages.groupby(by='X-GM-THRID')\n",
    "print(len(threads), 'threads total')\n",
    "\n",
    "counts = threads.aggregate('count')['X-Gmail-Labels'].value_counts()\n",
    "counts.plot(logy=True, linewidth=0, marker='.', alpha=.5)\n",
    "plt.ylabel('Number of Threads')\n",
    "plt.xlabel('Length of Thread')\n"
   ]
  },
  {
   "cell_type": "markdown",
   "metadata": {},
   "source": [
    "### Step 3: find relevant timestamps\n",
    "\n",
    "To simplify our analysis, we will assume that we are interested in the time between when a thread starts and when the account holder joins the conversation by sending their first message in the thread. To find these times, we sort the thread on its index, and take the first message time as the start of the conversation.\n",
    "\n",
    "Then we filter to just the messages labeled *Sent*, and (as they are still sorted) take the first of these."
   ]
  },
  {
   "cell_type": "code",
   "execution_count": 10,
   "metadata": {
    "collapsed": false
   },
   "outputs": [
    {
     "name": "stdout",
     "output_type": "stream",
     "text": [
      "(1873, 2)\n"
     ]
    },
    {
     "name": "stderr",
     "output_type": "stream",
     "text": [
      "/Users/houghton/anaconda/lib/python2.7/site-packages/ipykernel/__main__.py:4: SettingWithCopyWarning: \n",
      "A value is trying to be set on a copy of a slice from a DataFrame\n",
      "\n",
      "See the caveats in the documentation: http://pandas.pydata.org/pandas-docs/stable/indexing.html#indexing-view-versus-copy\n"
     ]
    },
    {
     "data": {
      "text/html": [
       "<div>\n",
       "<table border=\"1\" class=\"dataframe\">\n",
       "  <thead>\n",
       "    <tr style=\"text-align: right;\">\n",
       "      <th></th>\n",
       "      <th>tjoin</th>\n",
       "      <th>tstart</th>\n",
       "    </tr>\n",
       "  </thead>\n",
       "  <tbody>\n",
       "    <tr>\n",
       "      <th>0</th>\n",
       "      <td>2005-04-01 05:02:38</td>\n",
       "      <td>2005-04-01 05:02:38</td>\n",
       "    </tr>\n",
       "    <tr>\n",
       "      <th>1</th>\n",
       "      <td>2005-05-04 03:21:04</td>\n",
       "      <td>2005-05-03 22:38:19</td>\n",
       "    </tr>\n",
       "    <tr>\n",
       "      <th>2</th>\n",
       "      <td>2005-05-08 22:17:15</td>\n",
       "      <td>2005-05-08 22:17:15</td>\n",
       "    </tr>\n",
       "    <tr>\n",
       "      <th>3</th>\n",
       "      <td>2005-05-19 18:40:44</td>\n",
       "      <td>2005-05-19 18:40:44</td>\n",
       "    </tr>\n",
       "    <tr>\n",
       "      <th>4</th>\n",
       "      <td>2005-05-31 15:37:58</td>\n",
       "      <td>2005-05-31 15:37:58</td>\n",
       "    </tr>\n",
       "  </tbody>\n",
       "</table>\n",
       "</div>"
      ],
      "text/plain": [
       "                tjoin              tstart\n",
       "0 2005-04-01 05:02:38 2005-04-01 05:02:38\n",
       "1 2005-05-04 03:21:04 2005-05-03 22:38:19\n",
       "2 2005-05-08 22:17:15 2005-05-08 22:17:15\n",
       "3 2005-05-19 18:40:44 2005-05-19 18:40:44\n",
       "4 2005-05-31 15:37:58 2005-05-31 15:37:58"
      ]
     },
     "execution_count": 10,
     "metadata": {},
     "output_type": "execute_result"
    }
   ],
   "source": [
    "for name, group in threads:\n",
    "    if len(group) > 1:\n",
    "        if 'Sent' in group['X-Gmail-Labels'].values:\n",
    "            group.sort_index(inplace=True)\n",
    "            tstart = group.index[0]\n",
    "            tjoin = group[group['X-Gmail-Labels']=='Sent'].index[0]\n",
    "            conversation_list.append({'tstart':tstart, 'tjoin':tjoin})\n",
    "\n",
    "conversations = pd.DataFrame(conversation_list)\n",
    "print(conversations.shape)\n",
    "conversations.head()"
   ]
  },
  {
   "cell_type": "markdown",
   "metadata": {},
   "source": [
    "### Step 4: Calculate the time delta\n",
    "\n",
    "We now can subtract the one from the other, and convert the result into units of days."
   ]
  },
  {
   "cell_type": "code",
   "execution_count": 13,
   "metadata": {
    "collapsed": false
   },
   "outputs": [
    {
     "data": {
      "text/plain": [
       "0    0.000000\n",
       "1    0.196354\n",
       "2    0.000000\n",
       "3    0.000000\n",
       "4    0.000000\n",
       "dtype: float64"
      ]
     },
     "execution_count": 13,
     "metadata": {},
     "output_type": "execute_result"
    }
   ],
   "source": [
    "delta = conversations['tjoin']-conversations['tstart']\n",
    "days = 1.* delta.dt.total_seconds() / 3600 / 24\n",
    "days.head()"
   ]
  },
  {
   "cell_type": "markdown",
   "metadata": {},
   "source": [
    "### Step 5: Filter out threads started by the account holder\n",
    "\n",
    "When the time difference between the first message in the thread and the first message sent by the account holder is zero, then we assume that the account holder initiated the thread. As we are interested in seeing how the account holder deals with emails they recieve, we filter these out."
   ]
  },
  {
   "cell_type": "code",
   "execution_count": 19,
   "metadata": {
    "collapsed": false
   },
   "outputs": [
    {
     "data": {
      "text/plain": [
       "0    0.196354\n",
       "1    0.076539\n",
       "2    0.352731\n",
       "3    0.321343\n",
       "4    0.720741\n",
       "Name: 0, dtype: float64"
      ]
     },
     "execution_count": 19,
     "metadata": {},
     "output_type": "execute_result"
    }
   ],
   "source": [
    "days = days[days>0]\n",
    "days = days.reset_index()[0]\n",
    "days.head()"
   ]
  },
  {
   "cell_type": "markdown",
   "metadata": {},
   "source": [
    "### Step 6: Save to csv"
   ]
  },
  {
   "cell_type": "code",
   "execution_count": 20,
   "metadata": {
    "collapsed": false
   },
   "outputs": [],
   "source": [
    "days.to_csv('days_to_join_conversation.csv')"
   ]
  }
 ],
 "metadata": {
  "kernelspec": {
   "display_name": "Python 3.8.10 64-bit",
   "language": "python",
   "name": "python3"
  },
  "language_info": {
   "codemirror_mode": {
    "name": "ipython",
    "version": 2
   },
   "file_extension": ".py",
   "mimetype": "text/x-python",
   "name": "python",
   "nbconvert_exporter": "python",
   "pygments_lexer": "ipython2",
   "version": "3.8.10"
  },
  "vscode": {
   "interpreter": {
    "hash": "916dbcbb3f70747c44a77c7bcd40155683ae19c65e1c03b4aa3499c5328201f1"
   }
  }
 },
 "nbformat": 4,
 "nbformat_minor": 0
}
