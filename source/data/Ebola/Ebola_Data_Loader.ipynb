{
 "cells": [
  {
   "cell_type": "markdown",
   "metadata": {},
   "source": [
    "# Ebola Data Loader\n",
    "\n",
    "In this notebook, we'll format data from [The World Health Organization](http://apps.who.int/gho/data/view.ebola-sitrep.ebola-country-SLE-20150422-graph?lang=en) for future analysis"
   ]
  },
  {
   "cell_type": "code",
   "execution_count": 1,
   "metadata": {},
   "outputs": [
    {
     "name": "stdout",
     "output_type": "stream",
     "text": [
      "Populating the interactive namespace from numpy and matplotlib\n"
     ]
    }
   ],
   "source": [
    "%pylab inline\n",
    "import pandas as pd\n",
    "import re"
   ]
  },
  {
   "cell_type": "code",
   "execution_count": 2,
   "metadata": {},
   "outputs": [
    {
     "data": {
      "text/plain": [
       "COUNTRY (CODE)                                     SLE\n",
       "COUNTRY (DISPLAY)                         Sierra Leone\n",
       "COUNTRY (URL)                                      NaN\n",
       "EBOLA_MEASURE (CODE)                             CASES\n",
       "EBOLA_MEASURE (DISPLAY)                Number of cases\n",
       "EBOLA_MEASURE (URL)                                NaN\n",
       "CASE_DEFINITION (CODE)                       CONFIRMED\n",
       "CASE_DEFINITION (DISPLAY)                    Confirmed\n",
       "CASE_DEFINITION (URL)                              NaN\n",
       "EBOLA_DATA_SOURCE (CODE)                     PATIENTDB\n",
       "EBOLA_DATA_SOURCE (DISPLAY)           Patient database\n",
       "EBOLA_DATA_SOURCE (URL)                            NaN\n",
       "EPI_WEEK (CODE)                               2015-W07\n",
       "EPI_WEEK (DISPLAY)              09 to 15 February 2015\n",
       "EPI_WEEK (URL)                                     NaN\n",
       "INDICATOR_TYPE (CODE)                       SITREP_NEW\n",
       "INDICATOR_TYPE (DISPLAY)                           New\n",
       "INDICATOR_TYPE (URL)                               NaN\n",
       "DATAPACKAGEID (CODE)                        2015-04-22\n",
       "DATAPACKAGEID (DISPLAY)        Data package 2015-04-22\n",
       "DATAPACKAGEID (URL)                                NaN\n",
       "Display Value                                     92.0\n",
       "Numeric                                           92.0\n",
       "Low                                                NaN\n",
       "High                                               NaN\n",
       "Comments                                           NaN\n",
       "Name: 1, dtype: object"
      ]
     },
     "execution_count": 2,
     "metadata": {},
     "output_type": "execute_result"
    }
   ],
   "source": [
    "#read in the raw data\n",
    "rawdata = pd.read_csv('Ebola_in_SL_Raw_WHO_Data.csv')\n",
    "rawdata.iloc[1]"
   ]
  },
  {
   "cell_type": "code",
   "execution_count": 3,
   "metadata": {},
   "outputs": [
    {
     "data": {
      "text/html": [
       "<div>\n",
       "<style scoped>\n",
       "    .dataframe tbody tr th:only-of-type {\n",
       "        vertical-align: middle;\n",
       "    }\n",
       "\n",
       "    .dataframe tbody tr th {\n",
       "        vertical-align: top;\n",
       "    }\n",
       "\n",
       "    .dataframe thead th {\n",
       "        text-align: right;\n",
       "    }\n",
       "</style>\n",
       "<table border=\"1\" class=\"dataframe\">\n",
       "  <thead>\n",
       "    <tr style=\"text-align: right;\">\n",
       "      <th></th>\n",
       "      <th>COUNTRY (CODE)</th>\n",
       "      <th>COUNTRY (DISPLAY)</th>\n",
       "      <th>COUNTRY (URL)</th>\n",
       "      <th>EBOLA_MEASURE (CODE)</th>\n",
       "      <th>EBOLA_MEASURE (DISPLAY)</th>\n",
       "      <th>EBOLA_MEASURE (URL)</th>\n",
       "      <th>CASE_DEFINITION (CODE)</th>\n",
       "      <th>CASE_DEFINITION (DISPLAY)</th>\n",
       "      <th>CASE_DEFINITION (URL)</th>\n",
       "      <th>EBOLA_DATA_SOURCE (CODE)</th>\n",
       "      <th>...</th>\n",
       "      <th>INDICATOR_TYPE (URL)</th>\n",
       "      <th>DATAPACKAGEID (CODE)</th>\n",
       "      <th>DATAPACKAGEID (DISPLAY)</th>\n",
       "      <th>DATAPACKAGEID (URL)</th>\n",
       "      <th>Display Value</th>\n",
       "      <th>Numeric</th>\n",
       "      <th>Low</th>\n",
       "      <th>High</th>\n",
       "      <th>Comments</th>\n",
       "      <th>End Date</th>\n",
       "    </tr>\n",
       "  </thead>\n",
       "  <tbody>\n",
       "    <tr>\n",
       "      <th>0</th>\n",
       "      <td>SLE</td>\n",
       "      <td>Sierra Leone</td>\n",
       "      <td>NaN</td>\n",
       "      <td>CASES</td>\n",
       "      <td>Number of cases</td>\n",
       "      <td>NaN</td>\n",
       "      <td>CONFIRMED</td>\n",
       "      <td>Confirmed</td>\n",
       "      <td>NaN</td>\n",
       "      <td>SITREP</td>\n",
       "      <td>...</td>\n",
       "      <td>NaN</td>\n",
       "      <td>2015-04-22</td>\n",
       "      <td>Data package 2015-04-22</td>\n",
       "      <td>NaN</td>\n",
       "      <td>NaN</td>\n",
       "      <td>NaN</td>\n",
       "      <td>NaN</td>\n",
       "      <td>NaN</td>\n",
       "      <td>NaN</td>\n",
       "      <td>2014-02-23</td>\n",
       "    </tr>\n",
       "    <tr>\n",
       "      <th>1</th>\n",
       "      <td>SLE</td>\n",
       "      <td>Sierra Leone</td>\n",
       "      <td>NaN</td>\n",
       "      <td>CASES</td>\n",
       "      <td>Number of cases</td>\n",
       "      <td>NaN</td>\n",
       "      <td>CONFIRMED</td>\n",
       "      <td>Confirmed</td>\n",
       "      <td>NaN</td>\n",
       "      <td>PATIENTDB</td>\n",
       "      <td>...</td>\n",
       "      <td>NaN</td>\n",
       "      <td>2015-04-22</td>\n",
       "      <td>Data package 2015-04-22</td>\n",
       "      <td>NaN</td>\n",
       "      <td>92.0</td>\n",
       "      <td>92.0</td>\n",
       "      <td>NaN</td>\n",
       "      <td>NaN</td>\n",
       "      <td>NaN</td>\n",
       "      <td>2015-02-15</td>\n",
       "    </tr>\n",
       "    <tr>\n",
       "      <th>2</th>\n",
       "      <td>SLE</td>\n",
       "      <td>Sierra Leone</td>\n",
       "      <td>NaN</td>\n",
       "      <td>CASES</td>\n",
       "      <td>Number of cases</td>\n",
       "      <td>NaN</td>\n",
       "      <td>CONFIRMED</td>\n",
       "      <td>Confirmed</td>\n",
       "      <td>NaN</td>\n",
       "      <td>PATIENTDB</td>\n",
       "      <td>...</td>\n",
       "      <td>NaN</td>\n",
       "      <td>2015-04-22</td>\n",
       "      <td>Data package 2015-04-22</td>\n",
       "      <td>NaN</td>\n",
       "      <td>455.0</td>\n",
       "      <td>455.0</td>\n",
       "      <td>NaN</td>\n",
       "      <td>NaN</td>\n",
       "      <td>NaN</td>\n",
       "      <td>2014-10-19</td>\n",
       "    </tr>\n",
       "    <tr>\n",
       "      <th>3</th>\n",
       "      <td>SLE</td>\n",
       "      <td>Sierra Leone</td>\n",
       "      <td>NaN</td>\n",
       "      <td>CASES</td>\n",
       "      <td>Number of cases</td>\n",
       "      <td>NaN</td>\n",
       "      <td>CONFIRMED</td>\n",
       "      <td>Confirmed</td>\n",
       "      <td>NaN</td>\n",
       "      <td>SITREP</td>\n",
       "      <td>...</td>\n",
       "      <td>NaN</td>\n",
       "      <td>2015-04-22</td>\n",
       "      <td>Data package 2015-04-22</td>\n",
       "      <td>NaN</td>\n",
       "      <td>63.0</td>\n",
       "      <td>63.0</td>\n",
       "      <td>NaN</td>\n",
       "      <td>NaN</td>\n",
       "      <td>NaN</td>\n",
       "      <td>2015-02-22</td>\n",
       "    </tr>\n",
       "    <tr>\n",
       "      <th>4</th>\n",
       "      <td>SLE</td>\n",
       "      <td>Sierra Leone</td>\n",
       "      <td>NaN</td>\n",
       "      <td>CASES</td>\n",
       "      <td>Number of cases</td>\n",
       "      <td>NaN</td>\n",
       "      <td>CONFIRMED</td>\n",
       "      <td>Confirmed</td>\n",
       "      <td>NaN</td>\n",
       "      <td>SITREP</td>\n",
       "      <td>...</td>\n",
       "      <td>NaN</td>\n",
       "      <td>2015-04-22</td>\n",
       "      <td>Data package 2015-04-22</td>\n",
       "      <td>NaN</td>\n",
       "      <td>80.0</td>\n",
       "      <td>80.0</td>\n",
       "      <td>NaN</td>\n",
       "      <td>NaN</td>\n",
       "      <td>NaN</td>\n",
       "      <td>2015-02-01</td>\n",
       "    </tr>\n",
       "  </tbody>\n",
       "</table>\n",
       "<p>5 rows × 27 columns</p>\n",
       "</div>"
      ],
      "text/plain": [
       "  COUNTRY (CODE) COUNTRY (DISPLAY)  COUNTRY (URL) EBOLA_MEASURE (CODE)  \\\n",
       "0            SLE      Sierra Leone            NaN                CASES   \n",
       "1            SLE      Sierra Leone            NaN                CASES   \n",
       "2            SLE      Sierra Leone            NaN                CASES   \n",
       "3            SLE      Sierra Leone            NaN                CASES   \n",
       "4            SLE      Sierra Leone            NaN                CASES   \n",
       "\n",
       "  EBOLA_MEASURE (DISPLAY)  EBOLA_MEASURE (URL) CASE_DEFINITION (CODE)  \\\n",
       "0         Number of cases                  NaN              CONFIRMED   \n",
       "1         Number of cases                  NaN              CONFIRMED   \n",
       "2         Number of cases                  NaN              CONFIRMED   \n",
       "3         Number of cases                  NaN              CONFIRMED   \n",
       "4         Number of cases                  NaN              CONFIRMED   \n",
       "\n",
       "  CASE_DEFINITION (DISPLAY)  CASE_DEFINITION (URL) EBOLA_DATA_SOURCE (CODE)  \\\n",
       "0                 Confirmed                    NaN                   SITREP   \n",
       "1                 Confirmed                    NaN                PATIENTDB   \n",
       "2                 Confirmed                    NaN                PATIENTDB   \n",
       "3                 Confirmed                    NaN                   SITREP   \n",
       "4                 Confirmed                    NaN                   SITREP   \n",
       "\n",
       "   ... INDICATOR_TYPE (URL)  DATAPACKAGEID (CODE)  DATAPACKAGEID (DISPLAY)  \\\n",
       "0  ...                  NaN            2015-04-22  Data package 2015-04-22   \n",
       "1  ...                  NaN            2015-04-22  Data package 2015-04-22   \n",
       "2  ...                  NaN            2015-04-22  Data package 2015-04-22   \n",
       "3  ...                  NaN            2015-04-22  Data package 2015-04-22   \n",
       "4  ...                  NaN            2015-04-22  Data package 2015-04-22   \n",
       "\n",
       "  DATAPACKAGEID (URL)  Display Value Numeric Low  High Comments   End Date  \n",
       "0                 NaN            NaN     NaN NaN   NaN      NaN 2014-02-23  \n",
       "1                 NaN           92.0    92.0 NaN   NaN      NaN 2015-02-15  \n",
       "2                 NaN          455.0   455.0 NaN   NaN      NaN 2014-10-19  \n",
       "3                 NaN           63.0    63.0 NaN   NaN      NaN 2015-02-22  \n",
       "4                 NaN           80.0    80.0 NaN   NaN      NaN 2015-02-01  \n",
       "\n",
       "[5 rows x 27 columns]"
      ]
     },
     "execution_count": 3,
     "metadata": {},
     "output_type": "execute_result"
    }
   ],
   "source": [
    "#parse the dates column\n",
    "import dateutil\n",
    "\n",
    "def parsedate(week_string):\n",
    "    end_date_str = re.split(' to ', week_string)[1]\n",
    "    return(dateutil.parser.parse(end_date_str))\n",
    "\n",
    "rawdata['End Date'] = rawdata['EPI_WEEK (DISPLAY)'].apply(parsedate)\n",
    "rawdata.head()"
   ]
  },
  {
   "cell_type": "code",
   "execution_count": 4,
   "metadata": {},
   "outputs": [],
   "source": [
    "data = rawdata[rawdata['EBOLA_DATA_SOURCE (CODE)']=='PATIENTDB']\n",
    "data = data[['End Date','Numeric']]\n",
    "data.sort_values('End Date', inplace=True)\n",
    "data.dropna(inplace=True)\n",
    "data['Timedelta'] = data['End Date']-data['End Date'].iloc[0]\n",
    "data['Weeks'] = data['Timedelta'].apply(lambda a: pd.Timedelta(a).days/7)\n",
    "data.set_index('Weeks', inplace=True)\n",
    "data = data[['Numeric']]\n",
    "data.columns=['New Reported Cases']\n",
    "data['Cumulative Cases'] = data['New Reported Cases'].cumsum()"
   ]
  },
  {
   "cell_type": "code",
   "execution_count": 5,
   "metadata": {},
   "outputs": [
    {
     "data": {
      "text/plain": [
       "<AxesSubplot:xlabel='Weeks'>"
      ]
     },
     "execution_count": 5,
     "metadata": {},
     "output_type": "execute_result"
    },
    {
     "data": {
      "image/png": "[encoded data removed]",
      "text/plain": [
       "<Figure size 640x480 with 1 Axes>"
      ]
     },
     "metadata": {},
     "output_type": "display_data"
    }
   ],
   "source": [
    "data.plot()"
   ]
  },
  {
   "cell_type": "code",
   "execution_count": 6,
   "metadata": {},
   "outputs": [],
   "source": [
    "data.to_csv('Ebola_in_SL_Data.csv')"
   ]
  }
 ],
 "metadata": {
  "kernelspec": {
   "display_name": "Python 3 (ipykernel)",
   "language": "python",
   "name": "python3"
  },
  "language_info": {
   "codemirror_mode": {
    "name": "ipython",
    "version": 3
   },
   "file_extension": ".py",
   "mimetype": "text/x-python",
   "name": "python",
   "nbconvert_exporter": "python",
   "pygments_lexer": "ipython3",
   "version": "3.7.12"
  }
 },
 "nbformat": 4,
 "nbformat_minor": 1
}
