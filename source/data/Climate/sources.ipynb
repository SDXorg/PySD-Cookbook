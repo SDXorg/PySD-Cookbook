{
 "cells": [
  {
   "cell_type": "markdown",
   "metadata": {},
   "source": [
    "# Carbon Data Sources\n",
    "\n",
    "#### Carbon Emissions\n",
    "Data for carbon emissions comes from the United States Department of Energy Carbon Dioxide Information Analysis Center, available at: http://cdiac.ornl.gov/trends/emis/tre_glob_2011.html\n",
    "\n",
    "\n",
    "#### Atmospheric Carbon\n",
    "Data for atmospheric carbon concentrations is the Scripps CO2 program Mauna Loa Monthly \n",
    "measurements, available at: http://scrippsco2.ucsd.edu/data/atmospheric_co2.\n",
    "\n",
    "#### World Population\n",
    "Data for the world population estimates comes from OurWorldInData.org: https://ourworldindata.org/world-population-growth/"
   ]
  }
 ],
 "metadata": {
  "kernelspec": {
   "display_name": "Python 3 (ipykernel)",
   "language": "python",
   "name": "python3"
  },
  "language_info": {
   "codemirror_mode": {
    "name": "ipython",
    "version": 3
   },
   "file_extension": ".py",
   "mimetype": "text/x-python",
   "name": "python",
   "nbconvert_exporter": "python",
   "pygments_lexer": "ipython3",
   "version": "3.7.12"
  }
 },
 "nbformat": 4,
 "nbformat_minor": 1
}
